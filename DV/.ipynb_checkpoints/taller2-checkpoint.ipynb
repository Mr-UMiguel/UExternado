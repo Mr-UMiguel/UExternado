{
 "cells": [
  {
   "cell_type": "markdown",
   "metadata": {},
   "source": [
    "6. Considere la función $f(x) = x^{m}$ con $m\\geq 2$ y el movimiento Browniano estándar $\\{W_{t}\\}_{t\\geq 0}$. Utilice la fórmula de Itô para encontrar una expresión para $d[W_{t}^{m}]$.\n",
    "\n",
    "Del desarrollo de Itô sabemos que la derivada de una función de la forma $f(x) \\in c^{2}$ y $\\{w_{t}\\}_{t\\geq 0}$ está dada por \n",
    "\n",
    "\\begin{align*}\n",
    "    df(w_{t}) &= f'(w_{t})dw_{t} + \\frac{1}{2}f''(w_{t})(dw_{t})^{2}\\\\\n",
    "\\end{align*}\n",
    "\n",
    "Donde $(dw_{t})^{2}=dt$, resolviendo para $f(x) = x^{m}$ con $m\\geq 2$, obtenemos:\n",
    "\n",
    "\\begin{align*}\n",
    "    f'(x) &= mx^{m-1}\\\\\n",
    "    f''(x) &= m(m-1)x^{m-2}\\\\\n",
    "    d(w_{t}^{m}) &= mw_{t}^{m-1}dw_{t} + \\frac{1}{2}m(m-1)w_{t}^{m-2}dt\n",
    "\\end{align*}"
   ]
  },
  {
   "cell_type": "markdown",
   "metadata": {},
   "source": [
    "7. Considere la función $f(x,t) = \\alpha t + \\sigma x$ con $\\alpha$ y $\\sigma$ constantes, y el movimiento Browniano estándar $\\{W_{t}\\}_{t\\geq 0}$. Utilice la fórmula de Itô para encontrar una expresión para $d[\\alpha t + \\sigma W_{t}]$ \n",
    "\n",
    "Del desarrollo de Itô sabemos que la derivada de una función de la forma $f(x) \\in c^{1,2}$ y $\\{w_{t}\\}_{t\\geq 0}$ está dada por\n",
    "\n",
    "\\begin{align*}\n",
    "    df(t,w_{t}) &= \\frac{\\partial f(t, w_{t})}{\\partial t}dt + \\frac{\\partial f(t,w_{t})}{\\partial w_{t}}dw_{t} + \\frac{1}{2}\\frac{\\partial^{2}f(t,w_{t})}{\\partial w_{t}^{2}} dt\n",
    "\\end{align*}\n",
    "\n",
    "Resolviendo para $f(x,t) = \\alpha t + \\sigma x$ con $\\alpha$ y $\\sigma$ constantes, obtenemos:\n",
    "\n",
    "\\begin{align*}\n",
    "    \\frac{\\partial f}{\\partial t} &= \\alpha\\\\\n",
    "    \\frac{\\partial f}{\\partial x} &= \\sigma\\\\\n",
    "    \\frac{\\partial^{2} f}{\\partial x} &= 0\\\\\n",
    "    d[\\alpha t+ \\sigma w_{t}] &= \\alpha dt + \\sigma w_{t}\n",
    "\\end{align*}"
   ]
  }
 ],
 "metadata": {
  "interpreter": {
   "hash": "c88bb629f0c7dbcc1940009173c6c938f2ee944cfb0836c845b6662075072b90"
  },
  "kernelspec": {
   "display_name": "Python 3 (ipykernel)",
   "language": "python",
   "name": "python3"
  },
  "language_info": {
   "codemirror_mode": {
    "name": "ipython",
    "version": 3
   },
   "file_extension": ".py",
   "mimetype": "text/x-python",
   "name": "python",
   "nbconvert_exporter": "python",
   "pygments_lexer": "ipython3",
   "version": "3.8.5"
  },
  "toc": {
   "base_numbering": 1,
   "nav_menu": {},
   "number_sections": true,
   "sideBar": true,
   "skip_h1_title": false,
   "title_cell": "Table of Contents",
   "title_sidebar": "Contents",
   "toc_cell": false,
   "toc_position": {},
   "toc_section_display": true,
   "toc_window_display": false
  },
  "varInspector": {
   "cols": {
    "lenName": 16,
    "lenType": 16,
    "lenVar": 40
   },
   "kernels_config": {
    "python": {
     "delete_cmd_postfix": "",
     "delete_cmd_prefix": "del ",
     "library": "var_list.py",
     "varRefreshCmd": "print(var_dic_list())"
    },
    "r": {
     "delete_cmd_postfix": ") ",
     "delete_cmd_prefix": "rm(",
     "library": "var_list.r",
     "varRefreshCmd": "cat(var_dic_list()) "
    }
   },
   "types_to_exclude": [
    "module",
    "function",
    "builtin_function_or_method",
    "instance",
    "_Feature"
   ],
   "window_display": false
  }
 },
 "nbformat": 4,
 "nbformat_minor": 2
}
