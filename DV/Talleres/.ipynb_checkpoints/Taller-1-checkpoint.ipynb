{
 "cells": [
  {
   "cell_type": "code",
   "execution_count": 24,
   "id": "134d23d0",
   "metadata": {},
   "outputs": [],
   "source": [
    "import pandas as pd\n",
    "import numpy as np\n",
    "import matplotlib.pyplot as plt\n",
    "import seaborn as sns\n",
    "import yfinance as yf\n",
    "\n",
    "sns.set_theme(font=\"Times New Roman\",font_scale=1)"
   ]
  },
  {
   "cell_type": "markdown",
   "id": "0bcf1072",
   "metadata": {},
   "source": [
    "# Taller 1\n",
    "Jhon F. Moreno T."
   ]
  },
  {
   "cell_type": "markdown",
   "id": "044b1756",
   "metadata": {},
   "source": [
    "<h2>1</h2>\n",
    "<p>¿Cuál es la diferencia entre una posición larga y una posición corta en un forward?,¿En una opción?</p>"
   ]
  },
  {
   "cell_type": "markdown",
   "id": "7d5a339d",
   "metadata": {},
   "source": [
    "<h3 style=\"color:red\">R://</h3>\n",
    "\n",
    " + En un forward, una posición larga ***(call/put)*** es un derecho a ***(comprar/vender)*** el activo subyacente en una fecha futura **T** a un precio determinado **S**; mientras que una posición corta ***(call/put)*** es la obligación de ***(vender/comprar)*** el activo subyacente en el tiempo **T** a un precio **S**.\n",
    " \n",
    " \n",
    " + En una opción, una posición larga ***(call/put)*** es una opción a ***(comprar/vender)*** el activo subyacente en una fecha futura **T** a un precio determinado **k**; mientras que una posición corta ***(call/put)*** es la opción de ***(vender/comprar)*** el activo subyacente en el tiempo **T** a un precio **k**. A diferencia del forward la opción no es un contrato obligante y da a su poseedor el derecho más no la obligación de negociar el subyacente."
   ]
  },
  {
   "cell_type": "markdown",
   "id": "ce2ce7ff",
   "metadata": {},
   "source": [
    "<h2>2</h2>\n",
    "<p>¿Cuál es la diferencia entre tener una posición larga en forward con precio forward de 80, y tomar una\n",
    "posición larga en una opción call con strike 80?</p>"
   ]
  },
  {
   "cell_type": "markdown",
   "id": "2834181d",
   "metadata": {},
   "source": [
    "<h3 style=\"color:red\">R://</h3>\n",
    "\n",
    "Dado que el forward es un contrato obligante la negociación del mismo es un juego de suma 0, es decir, la ganancia/pérdida que asume el comprador es exactamente igual al inverso de la ganancia/pérdida que asume el vendedor. Ahora bien, como la opción no es un contrato obligante esta igualdad no se cumple y el riesgo de la operación debe ser cubierto por una \"prima de riesgo\" que es un valor definido en el contrato en caso de no ejercer la opción, por ende, pese a que en ambos una posición larga call da el derecho de comprar el activo subyacente en una fecha futura, en el caso de las opciones además se debe asumir ex-ante una prima de riesgo."
   ]
  },
  {
   "cell_type": "markdown",
   "id": "b07084c6",
   "metadata": {},
   "source": [
    "<h2>3</h2>\n",
    "<p>Explique de forma detallada la diferencia entre vender una opción call y comprar un opción put.</p>"
   ]
  },
  {
   "cell_type": "code",
   "execution_count": 85,
   "id": "b1cd3093",
   "metadata": {},
   "outputs": [],
   "source": [
    "class pay_offs():\n",
    "    def __init__(self, derivative,position,typeOff):\n",
    "        self.derivative = derivative\n",
    "        self.position = position\n",
    "        self.typeOff = typeOff\n",
    "        \n",
    "    def options(self,prima,K):\n",
    "        if self.position == \"corto\" and self.typeOff == \"call\":\n",
    "            St = np.arange(0,100,1)\n",
    "            K = K\n",
    "            prima = prima\n",
    "            St_k_prima = St-K-prima\n",
    "            # Y = -max{St-K-prima,-prima}\n",
    "            Y = [-max(i,-prima) for i in St_k_prima]\n",
    "\n",
    "            fig = plt.figure(figsize=(10,7))\n",
    "            plt.xlim((0,100))\n",
    "            plt.ylim((-100,100))\n",
    "            plt.axhline(0, color=\"darkgrey\")\n",
    "            plt.axvline(0, color=\"darkgrey\", linestyle = '--')\n",
    "            plt.axvline(K+prima,color=\"salmon\",linestyle = '--')\n",
    "\n",
    "            plt.plot(St,Y)\n",
    "\n",
    "            #Se ejerce\n",
    "            plt.fill_between([i for i in St if i >= K+prima],-100,100, color=\"green\", alpha=0.1 )\n",
    "            plt.annotate(\"\"\"\n",
    "            St > K\n",
    "            Se ejerce la opción\n",
    "            \"\"\", xy=((100+(K+prima))/2.3,50),xycoords='data',xytext=((100+(K+prima))/2.3, 50), textcoords='data',color=\"green\",fontsize=14)\n",
    "\n",
    "            #No se ejerce\n",
    "            plt.fill_between([i for i in St if i <= K+prima],-100,100, color=\"salmon\", alpha=0.1 )\n",
    "            plt.annotate(\"\"\"\n",
    "            St <= K\n",
    "            No Se ejerce la opción\n",
    "            \"\"\", xy=((100-(K+prima))/2.3,50),xycoords='data',xytext=((100-(K+prima))/2.3, 50),color=\"salmon\",fontsize=14)\n",
    "\n",
    "            #Pérdidas\n",
    "\n",
    "            if prima > 0:\n",
    "                limit = [(ix, i) for (ix, i) in enumerate(Y) if i == 0][0][0]\n",
    "                plt.fill_between([i for i in St if i <= limit],0,[i for i in Y if i >= 0], color=\"salmon\", alpha=0.3 )\n",
    "                plt.annotate(\"\"\"Pérdidas\"\"\", xy=(15,prima+2),xycoords='data',xytext=(15, prima+2), textcoords='data',color=\"red\",fontsize=14)\n",
    "            plt.title(\"Pay-off Opción Corto Call\")\n",
    "            plt.xlabel('S')\n",
    "            plt.ylabel('Balance')\n",
    "            plt.show()\n",
    "        \n",
    "        return Y, K\n",
    "    "
   ]
  },
  {
   "cell_type": "code",
   "execution_count": 86,
   "id": "51efb4b1",
   "metadata": {},
   "outputs": [
    {
     "ename": "NameError",
     "evalue": "name 'position' is not defined",
     "output_type": "error",
     "traceback": [
      "\u001b[1;31m---------------------------------------------------------------------------\u001b[0m",
      "\u001b[1;31mNameError\u001b[0m                                 Traceback (most recent call last)",
      "Input \u001b[1;32mIn [86]\u001b[0m, in \u001b[0;36m<module>\u001b[1;34m\u001b[0m\n\u001b[1;32m----> 1\u001b[0m l \u001b[38;5;241m=\u001b[39m \u001b[43mpay_offs\u001b[49m\u001b[43m(\u001b[49m\u001b[43mderivative\u001b[49m\u001b[38;5;241;43m=\u001b[39;49m\u001b[38;5;124;43m\"\u001b[39;49m\u001b[38;5;124;43mOption\u001b[39;49m\u001b[38;5;124;43m\"\u001b[39;49m\u001b[43m,\u001b[49m\u001b[43mposition\u001b[49m\u001b[38;5;241;43m=\u001b[39;49m\u001b[38;5;124;43m\"\u001b[39;49m\u001b[38;5;124;43mcorto\u001b[39;49m\u001b[38;5;124;43m\"\u001b[39;49m\u001b[43m,\u001b[49m\u001b[43mtypeOff\u001b[49m\u001b[38;5;241;43m=\u001b[39;49m\u001b[38;5;124;43m\"\u001b[39;49m\u001b[38;5;124;43mcall\u001b[39;49m\u001b[38;5;124;43m\"\u001b[39;49m\u001b[43m)\u001b[49m\u001b[38;5;241;43m.\u001b[39;49m\u001b[43moptions\u001b[49m\u001b[43m(\u001b[49m\u001b[43mK\u001b[49m\u001b[38;5;241;43m=\u001b[39;49m\u001b[38;5;241;43m50\u001b[39;49m\u001b[43m,\u001b[49m\u001b[43mprima\u001b[49m\u001b[38;5;241;43m=\u001b[39;49m\u001b[38;5;241;43m5\u001b[39;49m\u001b[43m)\u001b[49m\n",
      "Input \u001b[1;32mIn [85]\u001b[0m, in \u001b[0;36mpay_offs.options\u001b[1;34m(self, prima, K)\u001b[0m\n\u001b[0;32m      7\u001b[0m \u001b[38;5;28;01mdef\u001b[39;00m \u001b[38;5;21moptions\u001b[39m(\u001b[38;5;28mself\u001b[39m,prima,K):\n\u001b[1;32m----> 8\u001b[0m     \u001b[38;5;28;01mif\u001b[39;00m \u001b[43mposition\u001b[49m \u001b[38;5;241m==\u001b[39m \u001b[38;5;124m\"\u001b[39m\u001b[38;5;124mcorto\u001b[39m\u001b[38;5;124m\"\u001b[39m \u001b[38;5;129;01mand\u001b[39;00m typeOff \u001b[38;5;241m==\u001b[39m \u001b[38;5;124m\"\u001b[39m\u001b[38;5;124mcall\u001b[39m\u001b[38;5;124m\"\u001b[39m:\n\u001b[0;32m      9\u001b[0m         St \u001b[38;5;241m=\u001b[39m np\u001b[38;5;241m.\u001b[39marange(\u001b[38;5;241m0\u001b[39m,\u001b[38;5;241m100\u001b[39m,\u001b[38;5;241m1\u001b[39m)\n\u001b[0;32m     10\u001b[0m         K \u001b[38;5;241m=\u001b[39m K\n",
      "\u001b[1;31mNameError\u001b[0m: name 'position' is not defined"
     ]
    }
   ],
   "source": [
    "l = pay_offs(derivative=\"Option\",position=\"corto\",typeOff=\"call\").options(K=50,prima=5)"
   ]
  },
  {
   "cell_type": "code",
   "execution_count": 69,
   "id": "aafe9c73",
   "metadata": {},
   "outputs": [
    {
     "data": {
      "text/plain": [
       "[20,\n",
       " 20,\n",
       " 20,\n",
       " 20,\n",
       " 20,\n",
       " 20,\n",
       " 20,\n",
       " 20,\n",
       " 20,\n",
       " 20,\n",
       " 20,\n",
       " 20,\n",
       " 20,\n",
       " 20,\n",
       " 20,\n",
       " 20,\n",
       " 20,\n",
       " 20,\n",
       " 20,\n",
       " 20,\n",
       " 20,\n",
       " 20,\n",
       " 20,\n",
       " 20,\n",
       " 20,\n",
       " 20,\n",
       " 20,\n",
       " 20,\n",
       " 20,\n",
       " 20,\n",
       " 20,\n",
       " 20,\n",
       " 20,\n",
       " 20,\n",
       " 20,\n",
       " 20,\n",
       " 20,\n",
       " 20,\n",
       " 20,\n",
       " 20,\n",
       " 20,\n",
       " 20,\n",
       " 20,\n",
       " 20,\n",
       " 20,\n",
       " 20,\n",
       " 20,\n",
       " 20,\n",
       " 20,\n",
       " 20,\n",
       " 20,\n",
       " 19,\n",
       " 18,\n",
       " 17,\n",
       " 16,\n",
       " 15,\n",
       " 14,\n",
       " 13,\n",
       " 12,\n",
       " 11,\n",
       " 10,\n",
       " 9,\n",
       " 8,\n",
       " 7,\n",
       " 6,\n",
       " 5,\n",
       " 4,\n",
       " 3,\n",
       " 2,\n",
       " 1,\n",
       " 0,\n",
       " -1,\n",
       " -2,\n",
       " -3,\n",
       " -4,\n",
       " -5,\n",
       " -6,\n",
       " -7,\n",
       " -8,\n",
       " -9,\n",
       " -10,\n",
       " -11,\n",
       " -12,\n",
       " -13,\n",
       " -14,\n",
       " -15,\n",
       " -16,\n",
       " -17,\n",
       " -18,\n",
       " -19,\n",
       " -20,\n",
       " -21,\n",
       " -22,\n",
       " -23,\n",
       " -24,\n",
       " -25,\n",
       " -26,\n",
       " -27,\n",
       " -28,\n",
       " -29]"
      ]
     },
     "execution_count": 69,
     "metadata": {},
     "output_type": "execute_result"
    }
   ],
   "source": [
    "Y"
   ]
  }
 ],
 "metadata": {
  "kernelspec": {
   "display_name": "Python 3 (ipykernel)",
   "language": "python",
   "name": "python3"
  },
  "language_info": {
   "codemirror_mode": {
    "name": "ipython",
    "version": 3
   },
   "file_extension": ".py",
   "mimetype": "text/x-python",
   "name": "python",
   "nbconvert_exporter": "python",
   "pygments_lexer": "ipython3",
   "version": "3.8.5"
  },
  "toc": {
   "base_numbering": 1,
   "nav_menu": {},
   "number_sections": false,
   "sideBar": true,
   "skip_h1_title": false,
   "title_cell": "Table of Contents",
   "title_sidebar": "Contents",
   "toc_cell": false,
   "toc_position": {},
   "toc_section_display": true,
   "toc_window_display": false
  },
  "varInspector": {
   "cols": {
    "lenName": 16,
    "lenType": 16,
    "lenVar": 40
   },
   "kernels_config": {
    "python": {
     "delete_cmd_postfix": "",
     "delete_cmd_prefix": "del ",
     "library": "var_list.py",
     "varRefreshCmd": "print(var_dic_list())"
    },
    "r": {
     "delete_cmd_postfix": ") ",
     "delete_cmd_prefix": "rm(",
     "library": "var_list.r",
     "varRefreshCmd": "cat(var_dic_list()) "
    }
   },
   "types_to_exclude": [
    "module",
    "function",
    "builtin_function_or_method",
    "instance",
    "_Feature"
   ],
   "window_display": false
  }
 },
 "nbformat": 4,
 "nbformat_minor": 5
}
