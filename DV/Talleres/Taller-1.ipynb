{
 "cells": [
  {
   "cell_type": "code",
   "execution_count": 2,
   "id": "255460d9",
   "metadata": {},
   "outputs": [],
   "source": [
    "import pandas as pd\n",
    "import numpy as np\n",
    "import matplotlib.pyplot as plt\n",
    "import seaborn as sns\n",
    "import yfinance as yf\n",
    "\n",
    "sns.set_theme(font=\"Times New Roman\",font_scale=1)"
   ]
  },
  {
   "cell_type": "markdown",
   "id": "0bcf1072",
   "metadata": {},
   "source": [
    "# Taller 1\n",
    "Jhon F. Moreno T."
   ]
  },
  {
   "cell_type": "markdown",
   "id": "044b1756",
   "metadata": {},
   "source": [
    "<h2>1</h2>\n",
    "<p>¿Cuál es la diferencia entre una posición larga y una posición corta en un forward?,¿En una opción?</p>"
   ]
  },
  {
   "cell_type": "markdown",
   "id": "7d5a339d",
   "metadata": {},
   "source": [
    "<h3 style=\"color:red\">R://</h3>\n",
    "\n",
    " + En un forward, una posición larga ***(call/put)*** es un derecho a ***(comprar/vender)*** el activo subyacente en una fecha futura **T** a un precio determinado **S**; mientras que una posición corta ***(call/put)*** es la obligación de ***(vender/comprar)*** el activo subyacente en el tiempo **T** a un precio **S**.\n",
    " \n",
    " \n",
    " + En una opción, una posición larga ***(call/put)*** es una opción a ***(comprar/vender)*** el activo subyacente en una fecha futura **T** a un precio determinado **k**; mientras que una posición corta ***(call/put)*** es la opción de ***(vender/comprar)*** el activo subyacente en el tiempo **T** a un precio **k**. A diferencia del forward la opción no es un contrato obligante y da a su poseedor el derecho más no la obligación de negociar el subyacente."
   ]
  },
  {
   "cell_type": "markdown",
   "id": "ce2ce7ff",
   "metadata": {},
   "source": [
    "<h2>2</h2>\n",
    "<p>¿Cuál es la diferencia entre tener una posición larga en forward con precio forward de 80, y tomar una\n",
    "posición larga en una opción call con strike 80?</p>"
   ]
  },
  {
   "cell_type": "markdown",
   "id": "2834181d",
   "metadata": {},
   "source": [
    "<h3 style=\"color:red\">R://</h3>\n",
    "\n",
    "Dado que el forward es un contrato obligante la negociación del mismo es un juego de suma 0, es decir, la ganancia/pérdida que asume el comprador es exactamente igual al inverso de la ganancia/pérdida que asume el vendedor. Ahora bien, como la opción no es un contrato obligante esta igualdad no se cumple y el riesgo de la operación debe ser cubierto por una \"prima de riesgo\" que es un valor definido en el contrato en caso de no ejercer la opción, por ende, pese a que en ambos una posición larga call da el derecho de comprar el activo subyacente en una fecha futura, en el caso de las opciones además se debe asumir ex-ante una prima de riesgo."
   ]
  },
  {
   "cell_type": "markdown",
   "id": "b07084c6",
   "metadata": {},
   "source": [
    "<h2>3</h2>\n",
    "<p>Explique de forma detallada la diferencia entre vender una opción call y comprar un opción put.</p>"
   ]
  },
  {
   "cell_type": "code",
   "execution_count": 52,
   "id": "d6527e9e",
   "metadata": {},
   "outputs": [],
   "source": [
    "class pay_offs():\n",
    "    def __init__(self, derivative,position,typeOff):\n",
    "        self.derivative = derivative\n",
    "        self.position = position\n",
    "        self.typeOff = typeOff\n",
    "        \n",
    "    def options(self,prima,K):\n",
    "        \n",
    "        if self.position == \"largo\" and self.typeOff == \"call\":\n",
    "            St = np.arange(0,100,1)\n",
    "            K = K\n",
    "            prima = prima\n",
    "            K_St = St-K-prima\n",
    "            # Y = max{K-St-prima,-prima}\n",
    "            Y = [max(i,-prima) for i in K_St]\n",
    "\n",
    "            fig = plt.figure(figsize=(10,7))\n",
    "            plt.xlim((0,100))\n",
    "            plt.ylim((-100,100))\n",
    "            plt.axhline(0, color=\"darkgrey\")\n",
    "            plt.axvline(0, color=\"darkgrey\", linestyle = '--')\n",
    "            plt.axvline(K+prima,color=\"salmon\",linestyle = '--')\n",
    "\n",
    "            plt.plot(St,Y)\n",
    "\n",
    "            #Se ejerce\n",
    "            plt.fill_between([i for i in St if i >= K+prima],-100,100, color=\"green\", alpha=0.1 )\n",
    "            plt.annotate(\"\"\"\n",
    "            St > K\n",
    "            Se ejerce la opción\n",
    "            \"\"\", xy=((100+(K+prima))/2.3,50),xycoords='data',xytext=((100+(K+prima))/2.3, 50), textcoords='data',color=\"green\",fontsize=14)\n",
    "\n",
    "            #No se ejerce\n",
    "            plt.fill_between([i for i in St if i <= K+prima],-100,100, color=\"salmon\", alpha=0.1 )\n",
    "            plt.annotate(\"\"\"\n",
    "            St <= K\n",
    "            No Se ejerce la opción\n",
    "            \"\"\", xy=((100-(K+prima))/2.3,50),xycoords='data',xytext=((100-(K+prima))/2.3, 50),color=\"salmon\",fontsize=14)\n",
    "\n",
    "            #Pérdidas\n",
    "\n",
    "            if prima > 0:\n",
    "                limit = [(ix, i) for (ix, i) in enumerate(Y) if i == 0][0][0]\n",
    "                plt.fill_between([i for i in St if i <= limit],0,[i for i in Y if i <= 0], color=\"salmon\", alpha=0.3 )\n",
    "                plt.annotate(\"\"\"Pérdidas\"\"\", xy=((K-prima),2),xycoords='data',xytext=((K-prima), 2), textcoords='data',color=\"red\",fontsize=14)\n",
    "            plt.title(\"Pay-off Opción Largo Call\")\n",
    "            plt.xlabel('S')\n",
    "            plt.ylabel('Balance')\n",
    "            plt.show()\n",
    "            \n",
    "        if self.position == \"largo\" and self.typeOff == \"put\":\n",
    "            St = np.arange(0,100,1)\n",
    "            K = K\n",
    "            prima = prima\n",
    "            K_St = K-St-prima\n",
    "            # Y = max{K-St-prima,-prima}\n",
    "            Y = [max(i,-prima) for i in K_St]\n",
    "\n",
    "            fig = plt.figure(figsize=(10,7))\n",
    "            plt.xlim((0,100))\n",
    "            plt.ylim((-100,100))\n",
    "            plt.axhline(0, color=\"darkgrey\")\n",
    "            plt.axvline(0, color=\"darkgrey\", linestyle = '--')\n",
    "            plt.axvline(K-prima,color=\"salmon\",linestyle = '--')\n",
    "\n",
    "            plt.plot(St,Y)\n",
    "\n",
    "            #Se ejerce\n",
    "            plt.fill_between([i for i in St if i <= K-prima],-100,100, color=\"green\", alpha=0.1 )\n",
    "            plt.annotate(\"\"\"\n",
    "            St <= K\n",
    "            Se ejerce la opción\n",
    "            \"\"\", xy=((60-(K+prima))/2.3,50),xycoords='data',xytext=((60-(K+prima))/2.3, 50), textcoords='data',color=\"green\",fontsize=14)\n",
    "\n",
    "            #No se ejerce\n",
    "            plt.fill_between([i for i in St if i >= K-prima],-100,100, color=\"salmon\", alpha=0.1 )\n",
    "            plt.annotate(\"\"\"\n",
    "            St > K\n",
    "            No Se ejerce la opción\n",
    "            \"\"\", xy=((100+(K))/2.5,50),xycoords='data',xytext=((100+(K))/2.5, 50),color=\"salmon\",fontsize=14)\n",
    "\n",
    "            #Pérdidas\n",
    "\n",
    "            if prima > 0:\n",
    "                limit = [(ix, i) for (ix, i) in enumerate(Y) if i == 0][0][0]\n",
    "                plt.fill_between([i for i in St if i >= limit],0,[i for i in Y if i <= 0], color=\"salmon\", alpha=0.3 )\n",
    "                plt.annotate(\"\"\"Pérdidas\"\"\", xy=((K-prima)+10,1),xycoords='data',xytext=((K-prima)+10, 1), textcoords='data',color=\"red\",fontsize=14)\n",
    "            plt.title(\"Pay-off Opción Largo Put\")\n",
    "            plt.xlabel('S')\n",
    "            plt.ylabel('Balance')\n",
    "            plt.show()\n",
    "            \n",
    "        if self.position == \"corto\" and self.typeOff == \"call\":\n",
    "            St = np.arange(0,100,1)\n",
    "            K = K\n",
    "            prima = prima\n",
    "            St_k_prima = St-K-prima\n",
    "            # Y = -max{St-K-prima,-prima}\n",
    "            Y = [-max(i,-prima) for i in St_k_prima]\n",
    "\n",
    "            fig = plt.figure(figsize=(10,7))\n",
    "            plt.xlim((0,100))\n",
    "            plt.ylim((-100,100))\n",
    "            plt.axhline(0, color=\"darkgrey\")\n",
    "            plt.axvline(0, color=\"darkgrey\", linestyle = '--')\n",
    "            plt.axvline(K+prima,color=\"salmon\",linestyle = '--')\n",
    "\n",
    "            plt.plot(St,Y)\n",
    "\n",
    "            #Se ejerce\n",
    "            plt.fill_between([i for i in St if i >= K+prima],-100,100, color=\"green\", alpha=0.1 )\n",
    "            plt.annotate(\"\"\"\n",
    "            St > K\n",
    "            Se ejerce la opción\n",
    "            \"\"\", xy=((100+(K+prima))/2.3,50),xycoords='data',xytext=((100+(K+prima))/2.3, 50), textcoords='data',color=\"green\",fontsize=14)\n",
    "\n",
    "            #No se ejerce\n",
    "            plt.fill_between([i for i in St if i <= K+prima],-100,100, color=\"salmon\", alpha=0.1 )\n",
    "            plt.annotate(\"\"\"\n",
    "            St <= K\n",
    "            No Se ejerce la opción\n",
    "            \"\"\", xy=((100-(K+prima))/2.3,50),xycoords='data',xytext=((100-(K+prima))/2.3, 50),color=\"salmon\",fontsize=14)\n",
    "\n",
    "            #Pérdidas\n",
    "\n",
    "            if prima > 0:\n",
    "                limit = [(ix, i) for (ix, i) in enumerate(Y) if i == 0][0][0]\n",
    "                plt.fill_between([i for i in St if i <= limit],0,[i for i in Y if i >= 0], color=\"salmon\", alpha=0.3 )\n",
    "                plt.annotate(\"\"\"Pérdidas\"\"\", xy=(15,prima+2),xycoords='data',xytext=(15, prima+2), textcoords='data',color=\"red\",fontsize=14)\n",
    "            plt.title(\"Pay-off Opción Corto Call\")\n",
    "            plt.xlabel('S')\n",
    "            plt.ylabel('Balance')\n",
    "            plt.show()\n",
    "        \n",
    "            \n",
    "        if self.position == \"corto\" and self.typeOff == \"put\":\n",
    "            St = np.arange(0,100,1)\n",
    "            K = K\n",
    "            prima = prima\n",
    "            K_St = K-St-prima\n",
    "            # Y = max{K-St-prima,-prima}\n",
    "            Y = [-max(i,-prima) for i in K_St]\n",
    "\n",
    "            fig = plt.figure(figsize=(10,7))\n",
    "            plt.xlim((0,100))\n",
    "            plt.ylim((-100,100))\n",
    "            plt.axhline(0, color=\"darkgrey\")\n",
    "            plt.axvline(0, color=\"darkgrey\", linestyle = '--')\n",
    "            plt.axvline(K-prima,color=\"salmon\",linestyle = '--')\n",
    "\n",
    "            plt.plot(St,Y)\n",
    "\n",
    "            #Se ejerce\n",
    "            plt.fill_between([i for i in St if i <= K-prima],-100,100, color=\"green\", alpha=0.1 )\n",
    "            plt.annotate(\"\"\"\n",
    "            St <= K\n",
    "            Se ejerce la opción\n",
    "            \"\"\", xy=((100-(K+prima))/2.3,50),xycoords='data',xytext=((100-(K+prima))/2.3, 50), textcoords='data',color=\"green\",fontsize=14)\n",
    "\n",
    "            #No se ejerce\n",
    "            plt.fill_between([i for i in St if i >= K-prima],-100,100, color=\"salmon\", alpha=0.1 )\n",
    "            plt.annotate(\"\"\"\n",
    "            St > K\n",
    "            No Se ejerce la opción\n",
    "            \"\"\", xy=((100+(K+prima))/2.3,50),xycoords='data',xytext=((100+(K+prima))/2.3, 50),color=\"salmon\",fontsize=14)\n",
    "\n",
    "            #Pérdidas\n",
    "\n",
    "            if prima > 0:\n",
    "                limit = [(ix, i) for (ix, i) in enumerate(Y) if i == 0][0][0]\n",
    "                plt.fill_between([i for i in St if i >= limit],0,[i for i in Y if i >= 0], color=\"salmon\", alpha=0.3 )\n",
    "                plt.annotate(\"\"\"Pérdidas\"\"\", xy=((K-prima)+10,-1),xycoords='data',xytext=((K-prima)+10, -1), textcoords='data',color=\"red\",fontsize=14)\n",
    "            plt.title(\"Pay-off Opción Corto Put\")\n",
    "            plt.xlabel('S')\n",
    "            plt.ylabel('Balance')\n",
    "            plt.show()\n",
    "        \n",
    "        return Y, K\n",
    "    "
   ]
  },
  {
   "cell_type": "code",
   "execution_count": 53,
   "id": "7e7e9d2c",
   "metadata": {},
   "outputs": [
    {
     "data": {
      "image/png": "[encoded data removed]",
      "text/plain": [
       "<Figure size 720x504 with 1 Axes>"
      ]
     },
     "metadata": {},
     "output_type": "display_data"
    }
   ],
   "source": [
    "l = pay_offs(derivative=\"Opción\",position=\"largo\",typeOff=\"put\").options(prima=10,K=40)"
   ]
  },
  {
   "cell_type": "code",
   "execution_count": 82,
   "id": "6afe01b2",
   "metadata": {},
   "outputs": [
    {
     "data": {
      "image/png": "[encoded data removed]",
      "text/plain": [
       "<Figure size 720x504 with 1 Axes>"
      ]
     },
     "metadata": {},
     "output_type": "display_data"
    }
   ],
   "source": [
    "St = np.arange(0,100,1)\n",
    "\n",
    "K1 = 40 \n",
    "prima = 0\n",
    "\n",
    "K_St1 = K1-St-prima\n",
    "Y1 =  [max(i,-prima) for i in K_St1]\n",
    "\n",
    "\n",
    "K2 = 50\n",
    "K_St = St-K2-prima\n",
    "# Y = max{K-St-prima,-prima}\n",
    "Y2 = [max(i,-prima) for i in K_St]\n",
    "\n",
    "\n",
    "St_k_prima = St-K1-prima\n",
    "Y3 = [-max(i,-prima) for i in St_k_prima]\n",
    "\n",
    "K_St = K2-St-prima\n",
    "# Y = max{K-St-prima,-prima}\n",
    "Y4 = [-max(i,-prima) for i in K_St]\n",
    "\n",
    "\n",
    "fig = plt.figure(figsize=(10,7))\n",
    "plt.xlim((0,100))\n",
    "plt.ylim((-100,100))\n",
    "plt.axhline(0, color=\"darkgrey\")\n",
    "plt.axvline(0, color=\"darkgrey\", linestyle = '--')\n",
    "# plt.axvline(K,color=\"salmon\",linestyle = '--')\n",
    "\n",
    "plt.plot(St,Y1, label=\"Largo put\")\n",
    "plt.plot(St,Y3, label=\"Corto Call\")\n",
    "plt.plot(St,Y2, label=\"Largo call\")\n",
    "plt.plot(St,Y4, label=\"Corto put\")\n",
    "# plt.plot(St,Y3, label=\"Resultado\")\n",
    "plt.title(\"Pay-off K1 < K2\")\n",
    "plt.xlabel('S')\n",
    "plt.ylabel('Balance')\n",
    "plt.legend(loc=\"upper left\")\n",
    "plt.show()"
   ]
  },
  {
   "cell_type": "code",
   "execution_count": 71,
   "id": "31bc0b82",
   "metadata": {},
   "outputs": [
    {
     "data": {
      "text/plain": [
       "0.3333333333333336"
      ]
     },
     "execution_count": 71,
     "metadata": {},
     "output_type": "execute_result"
    }
   ],
   "source": [
    "1-(1+0-0.8)/(1.1-0.8)"
   ]
  }
 ],
 "metadata": {
  "kernelspec": {
   "display_name": "Python 3 (ipykernel)",
   "language": "python",
   "name": "python3"
  },
  "language_info": {
   "codemirror_mode": {
    "name": "ipython",
    "version": 3
   },
   "file_extension": ".py",
   "mimetype": "text/x-python",
   "name": "python",
   "nbconvert_exporter": "python",
   "pygments_lexer": "ipython3",
   "version": "3.8.5"
  },
  "toc": {
   "base_numbering": 1,
   "nav_menu": {},
   "number_sections": false,
   "sideBar": true,
   "skip_h1_title": false,
   "title_cell": "Table of Contents",
   "title_sidebar": "Contents",
   "toc_cell": false,
   "toc_position": {},
   "toc_section_display": true,
   "toc_window_display": false
  },
  "varInspector": {
   "cols": {
    "lenName": 16,
    "lenType": 16,
    "lenVar": 40
   },
   "kernels_config": {
    "python": {
     "delete_cmd_postfix": "",
     "delete_cmd_prefix": "del ",
     "library": "var_list.py",
     "varRefreshCmd": "print(var_dic_list())"
    },
    "r": {
     "delete_cmd_postfix": ") ",
     "delete_cmd_prefix": "rm(",
     "library": "var_list.r",
     "varRefreshCmd": "cat(var_dic_list()) "
    }
   },
   "types_to_exclude": [
    "module",
    "function",
    "builtin_function_or_method",
    "instance",
    "_Feature"
   ],
   "window_display": false
  }
 },
 "nbformat": 4,
 "nbformat_minor": 5
}
