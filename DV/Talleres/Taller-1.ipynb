{
 "cells": [
  {
   "cell_type": "markdown",
   "id": "0bcf1072",
   "metadata": {},
   "source": [
    "# Taller 1\n",
    "Jhon F. Moreno T."
   ]
  },
  {
   "cell_type": "markdown",
   "id": "044b1756",
   "metadata": {},
   "source": [
    "<h2>1</h2>\n",
    "<p>¿Cuál es la diferencia entre una posición larga y una posición corta en un forward?,¿En una opción?</p>"
   ]
  },
  {
   "cell_type": "markdown",
   "id": "7d5a339d",
   "metadata": {},
   "source": [
    "<h3 style=\"color:red\">R://</h3>\n",
    "\n",
    " + En un forward, una posición larga ***(call/put)*** es un derecho a ***(comprar/vender)*** el activo subyacente en una fecha futura **T** a un precio determinado **S**; mientras que una posición corta ***(call/put)*** es la obligación de ***(vender/comprar)*** el activo subyacente en el tiempo **T** a un precio **S**.\n",
    " \n",
    " \n",
    " + En una opción, una posición larga ***(call/put)*** es una opción a ***(comprar/vender)*** el activo subyacente en una fecha futura **T** a un precio determinado **k**; mientras que una posición corta ***(call/put)*** es la opción de ***(vender/comprar)*** el activo subyacente en el tiempo **T** a un precio **k**. A diferencia del forward la opción no es un contrato obligante y da a su poseedor el derecho más no la obligación de negociar el subyacente."
   ]
  },
  {
   "cell_type": "markdown",
   "id": "ce2ce7ff",
   "metadata": {},
   "source": [
    "<h2>2</h2>\n",
    "<p>¿Cuál es la diferencia entre tener una posición larga en forward con precio forward de 80, y tomar una\n",
    "posición larga en una opción call con strike 80?</p>"
   ]
  },
  {
   "cell_type": "markdown",
   "id": "2834181d",
   "metadata": {},
   "source": [
    "<h3 style=\"color:red\">R://</h3>\n",
    "\n",
    "Dado que el forward es un contrato obligante la negociación del mismo es un juego de suma 0, es decir, la ganancia/pérdida que asume el comprador es exactamente igual al inverso de la ganancia/pérdida que asume el vendedor. Ahora bien, como la opción no es un contrato obligante esta igualdad no se cumple y el riesgo de la operación debe ser cubierto por una \"prima de riesgo\" que es un valor definido en el contrato en caso de no ejercer la opción, por ende, pese a que en ambos una posición larga call da el derecho de comprar el activo subyacente en una fecha futura, en el caso de las opciones además se debe asumir ex-ante una prima de riesgo."
   ]
  },
  {
   "cell_type": "markdown",
   "id": "b07084c6",
   "metadata": {},
   "source": [
    "<h2>3</h2>\n",
    "<p>Explique de forma detallada la diferencia entre vender una opción call y comprar un opción put.</p>"
   ]
  },
  {
   "cell_type": "markdown",
   "id": "b48f17e7",
   "metadata": {},
   "source": [
    "<p>Suponinedo que la prima de riesgo es 0, sabemos que</p>\n",
    "<img src=\"./Taller1-img/3.png\" width=\"600\">"
   ]
  },
  {
   "cell_type": "markdown",
   "id": "262bd818",
   "metadata": {},
   "source": [
    "Siendo\n",
    "$$\n",
    "\\begin{equation} \\label{eq1}\n",
    "\\begin{split}\n",
    "    C &= -(S_{t} - k)^{+}\\\\\n",
    "    P &= (k-S_{t})^{+}\n",
    "\\end{split}\n",
    "\\end{equation}\n",
    "$$"
   ]
  },
  {
   "cell_type": "markdown",
   "id": "cfbbd1e2",
   "metadata": {},
   "source": [
    "obtenemos\n",
    "$$\n",
    "\\begin{aligned}\n",
    "&\\begin{array}{cccc}\n",
    "\\hline \\hline & S_{t}\\leq k & S_{t}>k\\\\\n",
    "\\hline \n",
    "    \\text{Corto call} = C & k-S_{t} & 0\\\\\n",
    "\\text{Largo put} = P & k-S_{t} & 0\\\\\n",
    "\\hline\n",
    "\\end{array}\n",
    "\\end{aligned}\n",
    "$$"
   ]
  }
 ],
 "metadata": {
  "kernelspec": {
   "display_name": "Python 3 (ipykernel)",
   "language": "python",
   "name": "python3"
  },
  "language_info": {
   "codemirror_mode": {
    "name": "ipython",
    "version": 3
   },
   "file_extension": ".py",
   "mimetype": "text/x-python",
   "name": "python",
   "nbconvert_exporter": "python",
   "pygments_lexer": "ipython3",
   "version": "3.8.5"
  },
  "toc": {
   "base_numbering": 1,
   "nav_menu": {},
   "number_sections": false,
   "sideBar": true,
   "skip_h1_title": false,
   "title_cell": "Table of Contents",
   "title_sidebar": "Contents",
   "toc_cell": false,
   "toc_position": {},
   "toc_section_display": true,
   "toc_window_display": false
  },
  "varInspector": {
   "cols": {
    "lenName": 16,
    "lenType": 16,
    "lenVar": 40
   },
   "kernels_config": {
    "python": {
     "delete_cmd_postfix": "",
     "delete_cmd_prefix": "del ",
     "library": "var_list.py",
     "varRefreshCmd": "print(var_dic_list())"
    },
    "r": {
     "delete_cmd_postfix": ") ",
     "delete_cmd_prefix": "rm(",
     "library": "var_list.r",
     "varRefreshCmd": "cat(var_dic_list()) "
    }
   },
   "types_to_exclude": [
    "module",
    "function",
    "builtin_function_or_method",
    "instance",
    "_Feature"
   ],
   "window_display": false
  }
 },
 "nbformat": 4,
 "nbformat_minor": 5
}
