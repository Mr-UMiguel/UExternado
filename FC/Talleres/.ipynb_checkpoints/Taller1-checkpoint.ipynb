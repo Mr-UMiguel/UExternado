{
 "cells": [
  {
   "cell_type": "markdown",
   "metadata": {},
   "source": [
    "<h1><center> Universidad Externado de Colombia </center></h1>\n",
    "<h2><center> Finanzas Computacionales </center></h2>\n",
    "<h2><center> Prof. Jhon Moreno </center></h2>\n",
    "<h2><center> Taller 1 </center></h2>\n",
    "\n",
    "**Integrantes**: Angie Huertas, Juan David Alavarado Pérez y Miguel Angel Manrique"
   ]
  },
  {
   "cell_type": "code",
   "execution_count": 1,
   "metadata": {
    "executionInfo": {
     "elapsed": 339,
     "status": "ok",
     "timestamp": 1646234632992,
     "user": {
      "displayName": "Miguel Angel Manrique Rodriguez",
      "photoUrl": "https://lh3.googleusercontent.com/a-/AOh14Gj9xW8Qc0mGX5-ZLcgSzinvW3zGIVhoWIurHyh40Q=s64",
      "userId": "18164320543362639465"
     },
     "user_tz": 300
    },
    "id": "Oc2IasyeEhYE"
   },
   "outputs": [],
   "source": [
    "#Librerías para manipular datos\n",
    "import pandas as pd\n",
    "import numpy as np\n",
    "\n",
    "# Librerías para graficar\n",
    "import matplotlib.pyplot as plt\n",
    "import seaborn as sns\n",
    "\n",
    "#Librería API de yahoo\n",
    "\n",
    "import yfinance as yf \n",
    "# % es una función \"mágica\" propia de colab\n",
    "# pip es el administrador de paquetes o modulos de python\n",
    "# %pip install yfinance \n",
    "# import warnings\n",
    "# warnings.filterwarnings('ignore')"
   ]
  },
  {
   "cell_type": "markdown",
   "metadata": {},
   "source": [
    "# Punto 1\n",
    "En la vida real cada vez que usted compra o vende un activo en el mercado debe pagar un costo de transacción. Asumiendo que este costo es un porcentaje fijo $\\alpha$ del precio actual del activo (por ejemplo un costo de transacción razonable esta en el rango de 0.1 a 0.2 por ciento). Muestre que si se toma en cuenta este costo de transacción entonces retorno bruto simple esta dado por la ecuación:\n",
    "\n",
    "\\begin{align}\n",
    "R_{t}(\\tau) + 1 &= \\frac{P_{t}}{P_{t}-\\tau}\\frac{1-\\alpha}{a+\\alpha} \n",
    "\\end{align}"
   ]
  },
  {
   "cell_type": "markdown",
   "metadata": {},
   "source": [
    "## R//:\n",
    "\n",
    "Como el costo transacciónal aplica tanto para la compra como para la venta, la inversión inicial es el precio del activo $P_{t}$ más el costo transaccional, y el retorno es el precio final menos el costo transaccional, entonces:\n",
    "\n",
    "\\begin{align}\n",
    "R_{t}(\\tau) + 1 &= \\frac{P_{t}-(P_{t}*\\alpha)}{P_{t-\\tau} + (P_{t-\\tau}*\\alpha)}\\\\\n",
    "                &= \\frac{P_{t}(1-\\alpha)}{P_{t-\\tau}(1+\\alpha)}\\\\\n",
    "                &= \\frac{P_{t}}{P_{t}-\\tau}\\frac{1-\\alpha}{a+\\alpha} \n",
    "\\end{align}"
   ]
  },
  {
   "cell_type": "markdown",
   "metadata": {
    "id": "Fr1_B0WeHcBp"
   },
   "source": [
    "# Punto 2\n",
    "## R//:\n",
    "### Importar los datos desde un archivo csv o fichero csv desde mi pc"
   ]
  },
  {
   "cell_type": "code",
   "execution_count": 16,
   "metadata": {
    "executionInfo": {
     "elapsed": 417,
     "status": "ok",
     "timestamp": 1646233312927,
     "user": {
      "displayName": "Miguel Angel Manrique Rodriguez",
      "photoUrl": "https://lh3.googleusercontent.com/a-/AOh14Gj9xW8Qc0mGX5-ZLcgSzinvW3zGIVhoWIurHyh40Q=s64",
      "userId": "18164320543362639465"
     },
     "user_tz": 300
    },
    "id": "ckrMIyhpHhbh"
   },
   "outputs": [],
   "source": [
    "data = pd.read_csv('/content/GOOG.csv')\n"
   ]
  },
  {
   "cell_type": "markdown",
   "metadata": {
    "id": "HE9LhWknJuqX"
   },
   "source": [
    "### Desde un archivo csv o fichero desde google drive"
   ]
  },
  {
   "cell_type": "code",
   "execution_count": 25,
   "metadata": {
    "colab": {
     "base_uri": "https://localhost:8080/"
    },
    "executionInfo": {
     "elapsed": 1754,
     "status": "ok",
     "timestamp": 1646233978743,
     "user": {
      "displayName": "Miguel Angel Manrique Rodriguez",
      "photoUrl": "https://lh3.googleusercontent.com/a-/AOh14Gj9xW8Qc0mGX5-ZLcgSzinvW3zGIVhoWIurHyh40Q=s64",
      "userId": "18164320543362639465"
     },
     "user_tz": 300
    },
    "id": "O2HztZeUFmhH",
    "outputId": "805d16e8-471d-4678-e06e-c057f1cc6fa4"
   },
   "outputs": [
    {
     "name": "stdout",
     "output_type": "stream",
     "text": [
      "Drive already mounted at /content/drive; to attempt to forcibly remount, call drive.mount(\"/content/drive\", force_remount=True).\n"
     ]
    }
   ],
   "source": [
    "from google.colab import drive\n",
    "drive.mount('/content/drive')\n",
    "\n",
    "data = pd.read_csv('/content/drive/MyDrive/Colab Notebooks/FC/datasets/GOOG.csv')\n"
   ]
  },
  {
   "cell_type": "markdown",
   "metadata": {
    "id": "PvoBXbJPKocd"
   },
   "source": [
    "### Desde Yahoo finance"
   ]
  },
  {
   "cell_type": "code",
   "execution_count": 24,
   "metadata": {
    "executionInfo": {
     "elapsed": 2,
     "status": "ok",
     "timestamp": 1646233959012,
     "user": {
      "displayName": "Miguel Angel Manrique Rodriguez",
      "photoUrl": "https://lh3.googleusercontent.com/a-/AOh14Gj9xW8Qc0mGX5-ZLcgSzinvW3zGIVhoWIurHyh40Q=s64",
      "userId": "18164320543362639465"
     },
     "user_tz": 300
    },
    "id": "8yU6J_GeHQRF"
   },
   "outputs": [],
   "source": [
    "# data = yf.download(tickers='GOOG',start='2017-01-30',end='2022-01-28')\n",
    "# Para pedir ayuda\n",
    "# help(yf.download)\n"
   ]
  },
  {
   "cell_type": "code",
   "execution_count": null,
   "metadata": {},
   "outputs": [],
   "source": []
  },
  {
   "cell_type": "code",
   "execution_count": 53,
   "metadata": {
    "colab": {
     "base_uri": "https://localhost:8080/",
     "height": 423
    },
    "executionInfo": {
     "elapsed": 416,
     "status": "ok",
     "timestamp": 1646235394320,
     "user": {
      "displayName": "Miguel Angel Manrique Rodriguez",
      "photoUrl": "https://lh3.googleusercontent.com/a-/AOh14Gj9xW8Qc0mGX5-ZLcgSzinvW3zGIVhoWIurHyh40Q=s64",
      "userId": "18164320543362639465"
     },
     "user_tz": 300
    },
    "id": "4QX65BjIMLeq",
    "outputId": "fd54aecd-e262-499c-8c1b-ef83db0fceac"
   },
   "outputs": [
    {
     "data": {
      "text/html": [
       "\n",
       "  <div id=\"df-29fa7ccd-83ed-4f42-8ed7-9b06c8a68083\">\n",
       "    <div class=\"colab-df-container\">\n",
       "      <div>\n",
       "<style scoped>\n",
       "    .dataframe tbody tr th:only-of-type {\n",
       "        vertical-align: middle;\n",
       "    }\n",
       "\n",
       "    .dataframe tbody tr th {\n",
       "        vertical-align: top;\n",
       "    }\n",
       "\n",
       "    .dataframe thead th {\n",
       "        text-align: right;\n",
       "    }\n",
       "</style>\n",
       "<table border=\"1\" class=\"dataframe\">\n",
       "  <thead>\n",
       "    <tr style=\"text-align: right;\">\n",
       "      <th></th>\n",
       "      <th>Adj Close</th>\n",
       "      <th>Adj Close shift</th>\n",
       "      <th>t/t-tao</th>\n",
       "      <th>1-alfa/1+alfa</th>\n",
       "      <th>Retorno Bruto</th>\n",
       "      <th>Retorno Bruto2</th>\n",
       "    </tr>\n",
       "  </thead>\n",
       "  <tbody>\n",
       "    <tr>\n",
       "      <th>0</th>\n",
       "      <td>802.320007</td>\n",
       "      <td>NaN</td>\n",
       "      <td>NaN</td>\n",
       "      <td>0.960784</td>\n",
       "      <td>NaN</td>\n",
       "      <td>NaN</td>\n",
       "    </tr>\n",
       "    <tr>\n",
       "      <th>1</th>\n",
       "      <td>796.789978</td>\n",
       "      <td>802.320007</td>\n",
       "      <td>0.993107</td>\n",
       "      <td>0.960784</td>\n",
       "      <td>-0.045838</td>\n",
       "      <td>-0.045838</td>\n",
       "    </tr>\n",
       "    <tr>\n",
       "      <th>2</th>\n",
       "      <td>795.695007</td>\n",
       "      <td>796.789978</td>\n",
       "      <td>0.998626</td>\n",
       "      <td>0.960784</td>\n",
       "      <td>-0.040536</td>\n",
       "      <td>-0.040536</td>\n",
       "    </tr>\n",
       "    <tr>\n",
       "      <th>3</th>\n",
       "      <td>798.530029</td>\n",
       "      <td>795.695007</td>\n",
       "      <td>1.003563</td>\n",
       "      <td>0.960784</td>\n",
       "      <td>-0.035792</td>\n",
       "      <td>-0.035792</td>\n",
       "    </tr>\n",
       "    <tr>\n",
       "      <th>4</th>\n",
       "      <td>801.489990</td>\n",
       "      <td>798.530029</td>\n",
       "      <td>1.003707</td>\n",
       "      <td>0.960784</td>\n",
       "      <td>-0.035654</td>\n",
       "      <td>-0.035654</td>\n",
       "    </tr>\n",
       "    <tr>\n",
       "      <th>...</th>\n",
       "      <td>...</td>\n",
       "      <td>...</td>\n",
       "      <td>...</td>\n",
       "      <td>...</td>\n",
       "      <td>...</td>\n",
       "      <td>...</td>\n",
       "    </tr>\n",
       "    <tr>\n",
       "      <th>1255</th>\n",
       "      <td>2607.439941</td>\n",
       "      <td>2601.840088</td>\n",
       "      <td>1.002152</td>\n",
       "      <td>0.960784</td>\n",
       "      <td>-0.037148</td>\n",
       "      <td>-0.037148</td>\n",
       "    </tr>\n",
       "    <tr>\n",
       "      <th>1256</th>\n",
       "      <td>2534.709961</td>\n",
       "      <td>2607.439941</td>\n",
       "      <td>0.972107</td>\n",
       "      <td>0.960784</td>\n",
       "      <td>-0.066015</td>\n",
       "      <td>-0.066015</td>\n",
       "    </tr>\n",
       "    <tr>\n",
       "      <th>1257</th>\n",
       "      <td>2584.800049</td>\n",
       "      <td>2534.709961</td>\n",
       "      <td>1.019762</td>\n",
       "      <td>0.960784</td>\n",
       "      <td>-0.020229</td>\n",
       "      <td>-0.020229</td>\n",
       "    </tr>\n",
       "    <tr>\n",
       "      <th>1258</th>\n",
       "      <td>2582.419922</td>\n",
       "      <td>2584.800049</td>\n",
       "      <td>0.999079</td>\n",
       "      <td>0.960784</td>\n",
       "      <td>-0.040100</td>\n",
       "      <td>-0.040100</td>\n",
       "    </tr>\n",
       "    <tr>\n",
       "      <th>1259</th>\n",
       "      <td>2665.790039</td>\n",
       "      <td>2582.419922</td>\n",
       "      <td>1.032284</td>\n",
       "      <td>0.960784</td>\n",
       "      <td>-0.008198</td>\n",
       "      <td>-0.008198</td>\n",
       "    </tr>\n",
       "  </tbody>\n",
       "</table>\n",
       "<p>1260 rows × 6 columns</p>\n",
       "</div>\n",
       "      <button class=\"colab-df-convert\" onclick=\"convertToInteractive('df-29fa7ccd-83ed-4f42-8ed7-9b06c8a68083')\"\n",
       "              title=\"Convert this dataframe to an interactive table.\"\n",
       "              style=\"display:none;\">\n",
       "        \n",
       "  <svg xmlns=\"http://www.w3.org/2000/svg\" height=\"24px\"viewBox=\"0 0 24 24\"\n",
       "       width=\"24px\">\n",
       "    <path d=\"M0 0h24v24H0V0z\" fill=\"none\"/>\n",
       "    <path d=\"M18.56 5.44l.94 2.06.94-2.06 2.06-.94-2.06-.94-.94-2.06-.94 2.06-2.06.94zm-11 1L8.5 8.5l.94-2.06 2.06-.94-2.06-.94L8.5 2.5l-.94 2.06-2.06.94zm10 10l.94 2.06.94-2.06 2.06-.94-2.06-.94-.94-2.06-.94 2.06-2.06.94z\"/><path d=\"M17.41 7.96l-1.37-1.37c-.4-.4-.92-.59-1.43-.59-.52 0-1.04.2-1.43.59L10.3 9.45l-7.72 7.72c-.78.78-.78 2.05 0 2.83L4 21.41c.39.39.9.59 1.41.59.51 0 1.02-.2 1.41-.59l7.78-7.78 2.81-2.81c.8-.78.8-2.07 0-2.86zM5.41 20L4 18.59l7.72-7.72 1.47 1.35L5.41 20z\"/>\n",
       "  </svg>\n",
       "      </button>\n",
       "      \n",
       "  <style>\n",
       "    .colab-df-container {\n",
       "      display:flex;\n",
       "      flex-wrap:wrap;\n",
       "      gap: 12px;\n",
       "    }\n",
       "\n",
       "    .colab-df-convert {\n",
       "      background-color: #E8F0FE;\n",
       "      border: none;\n",
       "      border-radius: 50%;\n",
       "      cursor: pointer;\n",
       "      display: none;\n",
       "      fill: #1967D2;\n",
       "      height: 32px;\n",
       "      padding: 0 0 0 0;\n",
       "      width: 32px;\n",
       "    }\n",
       "\n",
       "    .colab-df-convert:hover {\n",
       "      background-color: #E2EBFA;\n",
       "      box-shadow: 0px 1px 2px rgba(60, 64, 67, 0.3), 0px 1px 3px 1px rgba(60, 64, 67, 0.15);\n",
       "      fill: #174EA6;\n",
       "    }\n",
       "\n",
       "    [theme=dark] .colab-df-convert {\n",
       "      background-color: #3B4455;\n",
       "      fill: #D2E3FC;\n",
       "    }\n",
       "\n",
       "    [theme=dark] .colab-df-convert:hover {\n",
       "      background-color: #434B5C;\n",
       "      box-shadow: 0px 1px 3px 1px rgba(0, 0, 0, 0.15);\n",
       "      filter: drop-shadow(0px 1px 2px rgba(0, 0, 0, 0.3));\n",
       "      fill: #FFFFFF;\n",
       "    }\n",
       "  </style>\n",
       "\n",
       "      <script>\n",
       "        const buttonEl =\n",
       "          document.querySelector('#df-29fa7ccd-83ed-4f42-8ed7-9b06c8a68083 button.colab-df-convert');\n",
       "        buttonEl.style.display =\n",
       "          google.colab.kernel.accessAllowed ? 'block' : 'none';\n",
       "\n",
       "        async function convertToInteractive(key) {\n",
       "          const element = document.querySelector('#df-29fa7ccd-83ed-4f42-8ed7-9b06c8a68083');\n",
       "          const dataTable =\n",
       "            await google.colab.kernel.invokeFunction('convertToInteractive',\n",
       "                                                     [key], {});\n",
       "          if (!dataTable) return;\n",
       "\n",
       "          const docLinkHtml = 'Like what you see? Visit the ' +\n",
       "            '<a target=\"_blank\" href=https://colab.research.google.com/notebooks/data_table.ipynb>data table notebook</a>'\n",
       "            + ' to learn more about interactive tables.';\n",
       "          element.innerHTML = '';\n",
       "          dataTable['output_type'] = 'display_data';\n",
       "          await google.colab.output.renderOutput(dataTable, element);\n",
       "          const docLink = document.createElement('div');\n",
       "          docLink.innerHTML = docLinkHtml;\n",
       "          element.appendChild(docLink);\n",
       "        }\n",
       "      </script>\n",
       "    </div>\n",
       "  </div>\n",
       "  "
      ],
      "text/plain": [
       "        Adj Close  Adj Close shift  ...  Retorno Bruto  Retorno Bruto2\n",
       "0      802.320007              NaN  ...            NaN             NaN\n",
       "1      796.789978       802.320007  ...      -0.045838       -0.045838\n",
       "2      795.695007       796.789978  ...      -0.040536       -0.040536\n",
       "3      798.530029       795.695007  ...      -0.035792       -0.035792\n",
       "4      801.489990       798.530029  ...      -0.035654       -0.035654\n",
       "...           ...              ...  ...            ...             ...\n",
       "1255  2607.439941      2601.840088  ...      -0.037148       -0.037148\n",
       "1256  2534.709961      2607.439941  ...      -0.066015       -0.066015\n",
       "1257  2584.800049      2534.709961  ...      -0.020229       -0.020229\n",
       "1258  2582.419922      2584.800049  ...      -0.040100       -0.040100\n",
       "1259  2665.790039      2582.419922  ...      -0.008198       -0.008198\n",
       "\n",
       "[1260 rows x 6 columns]"
      ]
     },
     "execution_count": 53,
     "metadata": {},
     "output_type": "execute_result"
    }
   ],
   "source": [
    "# data.describe()\n",
    "alfa = 0.02\n",
    "\n",
    "data_rb = data[['Adj Close']]\n",
    "data_rb['Adj Close shift'] = data[['Adj Close']].shift(1)\n",
    "data_rb['t/t-tao'] = data_rb['Adj Close']/data_rb['Adj Close shift'] #vector\n",
    "data_rb['1-alfa/1+alfa'] = (1-alfa)/(1+alfa) #constante\n",
    "data_rb['Retorno Bruto'] = data_rb['t/t-tao'] * data_rb['1-alfa/1+alfa'] - 1\n",
    "data_rb"
   ]
  },
  {
   "cell_type": "code",
   "execution_count": 55,
   "metadata": {
    "colab": {
     "base_uri": "https://localhost:8080/",
     "height": 295
    },
    "executionInfo": {
     "elapsed": 473,
     "status": "ok",
     "timestamp": 1646235535734,
     "user": {
      "displayName": "Miguel Angel Manrique Rodriguez",
      "photoUrl": "https://lh3.googleusercontent.com/a-/AOh14Gj9xW8Qc0mGX5-ZLcgSzinvW3zGIVhoWIurHyh40Q=s64",
      "userId": "18164320543362639465"
     },
     "user_tz": 300
    },
    "id": "-UPTL-CERQiD",
    "outputId": "97685fcf-42b0-4c78-ea80-6d91c05ed1fd"
   },
   "outputs": [
    {
     "data": {
      "image/png": "[encoded data removed]",
      "text/plain": [
       "<Figure size 432x288 with 1 Axes>"
      ]
     },
     "metadata": {
      "needs_background": "light"
     },
     "output_type": "display_data"
    }
   ],
   "source": [
    "data_rb['Retorno Bruto'].plot()\n",
    "plt.title('Retorno Bruto')\n",
    "plt.xlabel('t')\n",
    "plt.ylabel('RB')\n",
    "plt.show()"
   ]
  },
  {
   "cell_type": "markdown",
   "metadata": {},
   "source": [
    "# Punto 3\n",
    "\n",
    "Una importante distribución de probabilidad discreta es la distribución Binomial, la cual puede obtenerse como la probabilidad de que en n expermimentos de tipo Bernoulli, con probabilidad de éxito $p$ y de fracaso $1-p$, se tengan $k$ éxitos y $n-k$ fracasos. si $X$ es la variable que cuenta el número de éxitos en $n$ intentos Bernoulli entonces $X$ tiene distiribución Binomial $X \\sim Bin(n,p)$, con función masa de probabilidad\n",
    "\n",
    "\\begin{align}\n",
    "\\mathbb{P}[X=k] &=(\\frac{n!}{(n-k)!k!}) p^{k}(n-p)^{n-k} \\quad ; \\quad k=0,1,...,n\n",
    "\\end{align}\n",
    "\n",
    "Pruebe que $E[X] = np$ y $Var[X] = np(1-p)$"
   ]
  },
  {
   "cell_type": "markdown",
   "metadata": {},
   "source": [
    "## R//:\n",
    "\n",
    "### Valor esperado"
   ]
  },
  {
   "cell_type": "markdown",
   "metadata": {},
   "source": [
    "Sea E[X] el valor esperado de $X$ discreta , entonces\n",
    "\\begin{align}\n",
    "E[X] &= \\sum_{x=0}^{\\infty}x\\mathbb{P}[X=x]\\\\\n",
    "\\end{align}\n",
    "\n",
    "Por definición la probabilidad $\\mathbb{P}[X=x] = p$ ya que $X$ es la variable que cuénta el número de éxitos en $n$ intentos Bernoulli, por ende  $E[X] = xp$.\n",
    "\n",
    "No obstante, esta definición, si bien es intuitiva, no es rigurosa por lo que definimos lo siguiente"
   ]
  },
  {
   "cell_type": "markdown",
   "metadata": {},
   "source": [
    "Sea E[X] el valor esperado de $X$ discreta\n",
    "\n",
    "\\begin{align}\n",
    "E[X] = \\sum_{k=0}^{n}k\\binom{n}{k}p^{k}q^{1-k}\n",
    "\\end{align}\n",
    "\n",
    "Siendo $q = (1-q)$. Además, expandiendo la combinatoria sabemos que $K \\binom{n}{k} = n \\binom{n-1}{k-1}$ ya que\n",
    "\n",
    "\\begin{align}\n",
    "K \\binom{n}{k} &= k \\frac{n!}{(n-k)!k!}  \\\\\n",
    "n \\binom{n-1}{k-1} &= n \\frac{(n-1)!}{((n-1)-(k-1))!(k-1)!}\\\\\n",
    "k \\frac{n!}{(n-k)!k!} &=  n \\frac{(n-1)!}{((n-1)-(k-1))!(k-1)!}\n",
    "\\end{align}\n",
    "\n",
    "Puesto que \n",
    "\\begin{align}\n",
    "\\frac{k}{k!} &= (k-1)!  \\quad &(E1) \\\\\n",
    "n(n-1)! &= n! \\quad &(E2) \\\\\n",
    "(n-1)-(k-1) &= n-k \\quad &(E3)\n",
    "\\end{align}"
   ]
  },
  {
   "cell_type": "markdown",
   "metadata": {},
   "source": [
    "por lo tanto\n",
    "\n",
    "\\begin{align}\n",
    "E[X] &= \\sum_{k=0}^{n} k \\binom{n}{k}p^{k}q^{n-k}\\\\\n",
    "     &= \\sum_{k=0}^{n} n \\binom{n-1}{k-1}p^{k}q^{n-k} \n",
    "\\end{align}\n",
    "\n",
    "sacando un $p$ y haciendo $n-k = n-1 - (k-1)$ podemos obtener\n",
    "\n",
    "\\begin{align}\n",
    "     &= \\sum_{k=0}^{n} np \\binom{n-1}{k-1}p^{k-1}q^{(n-1)-(k-1)} \n",
    "\\end{align}\n",
    "\n",
    "Haciendo el cambio de variable $j = n-1$ y $h = k-1$, reescribimos\n",
    "\n",
    "\\begin{align}\n",
    "     &= \\sum_{k=0}^{n} np \\binom{j}{h}p^{h}q^{(j-h)} \n",
    "\\end{align}"
   ]
  },
  {
   "cell_type": "markdown",
   "metadata": {},
   "source": [
    "Sabemos que $np$ es una contante y por propiedades de la suma $n - 1 = j$ si $k = 1$, por ende obtenemos la siguiente expresión \n",
    "\n",
    "\\begin{align}\n",
    "     &= np \\sum_{h=0}^{j}  \\binom{j}{h}p^{h}q^{(j-h)} \n",
    "\\end{align}"
   ]
  },
  {
   "cell_type": "markdown",
   "metadata": {},
   "source": [
    "El binomio de Newton establece que $(a + b)^{n} = \\sum_{x=0}^{n}\\binom{n}{x}b^{x}a^{n-x}$, usando esto obtenemos:\n",
    "\n",
    "\\begin{align}\n",
    "     &= np (p+q)^{n}\n",
    "\\end{align}\n",
    "\n",
    "sin embargo $q = 1-p$, por tal razón queda demostrado que \n",
    "\n",
    "\\begin{align}\n",
    "     E[X] &= np \n",
    "\\end{align}"
   ]
  },
  {
   "cell_type": "markdown",
   "metadata": {},
   "source": [
    "### Varianza"
   ]
  },
  {
   "cell_type": "markdown",
   "metadata": {},
   "source": [
    "\\begin{align}\n",
    "V[X] &= E[X^{2}] - (E[X])^{2}\\\\\n",
    "\\end{align}\n",
    "Resolviendo el primer término del segundo miembro de la ecuación podemos escribir\n",
    "\n",
    "\\begin{align}\n",
    "E[X^{2}] &= \\sum_{x = 0}^{n} x^{2} \\binom{n}{x}p^{x}(1-p)^{n-x}\\\\\n",
    "         &= \\sum_{x = 0}^{n} [x(1-x)+x] \\binom{n}{x}p^{x}(1-p)^{n-x}\\\\\n",
    "         &= \\sum_{x = 0}^{n} x(1-x) \\binom{n}{x}p^{x}(1-p)^{n-x} + \\sum_{x = 0}^{n} x \\binom{n}{x}p^{x}(1-p){n-x} \\\\\n",
    "         &= \\sum_{x = 0}^{n} x(1-x) \\binom{n}{x}p^{x}(1-p)^{n-x} + np \\quad &(a) \\\\\n",
    "         &= \\sum_{x = 2}^{n} \\frac{n(n-1)(n-2)!}{(x-2)!(n-x)!} p^{x}(1-p)^{n-x}  + np \\quad &(b)\\\\\n",
    "         &= n(n-1)p^{2} \\sum_{x=2}^{n} \\binom{n-2}{x-2}p^{x-2}(1-p)^{n-2 - (x-2)} + np \\quad &(c)\\\\\n",
    "         &= n(n-1)p^{2} \\sum_{y=0}^{n-2} \\binom{n-2}{y}p^{y}(1-p)^{n-2-y} + np \\\\ \n",
    "         &= n(n-1)p^{2}+ np \\quad &(d)\n",
    "\\end{align}\n",
    "\n",
    "Tal que $(a)$ resultado del punto anterior, $(b)$ por la propiedades $E1$, $E2$, y $E3$, $(c)$ cambio de variable y $(d)$ $\\sum_{y=0}^{n-2} \\binom{n-2}{y}p^{y}(1-p)^{n-2-y} = 1$"
   ]
  },
  {
   "cell_type": "markdown",
   "metadata": {},
   "source": [
    "Resolviendo $V[X]$\n",
    "\n",
    "\\begin{align}\n",
    "V[X] &= E[X^{2}] - (E[X])^{2}\\\\\n",
    "     &= n(n-1)p^{2} + np - (np)^{2}\\\\\n",
    "     &= n^{2}p^{2} - np^{2} + np - (np)^{2}\\\\\n",
    "     &= n^{2}p^{2} - np^{2} + np(1-np)\\\\\n",
    "     &= np^{2} (n - 1) + np(1-np)\\\\\n",
    "     &= np (p(n-1) + (1 -np))\\\\\n",
    "     &= np (np - p + 1 -np)\\\\\n",
    "     &= np(1-p)\n",
    "\\end{align}"
   ]
  },
  {
   "cell_type": "markdown",
   "metadata": {},
   "source": [
    "# Punto 4\n",
    "\n",
    "\n",
    "## R//:\n",
    "\n",
    "Sea $\\{r_{t}\\}$ una serie de tiempo con media cero y función de autocovarianza:\n",
    "\\begin{align}\n",
    "cov(r_{t},r_{s}) = \\begin{cases}\n",
    "                    \\sigma^{2} &\\quad si \\quad s = t\\\\\n",
    "                    0          &\\quad si \\quad s \\neq t\n",
    "                   \\end{cases}\n",
    "\\end{align}\n",
    "\n",
    "Esta serie es claramente débilmente estacionaria. Muestre que si se define $X_{t} = ar_{t} + br_{t-1}$, para $a$ y $b$ constantes, se tiene una serie debilmente estacionaria.\n",
    "\n",
    "\n",
    "Para que una serie sea débilmente estacionaria se tiene que el valor esperado y la varianza de la serie deben ser constantes, es decir, que sean independientes del tiempo, así tenemos que:\n",
    "\n",
    "\\begin{align}\n",
    "    E[ar_{t} + br_{t-1}] &= E[ar_{t}] + E[br_{t-1}]\\\\\n",
    "                         &= aE[r_{t}] + bE[r_{t-1}]\\\\\n",
    "                         &= 0 \\quad &(a)\n",
    "\\end{align}\n",
    "\n",
    "Por propieades del valor esperado y $(a)$ dado que en el enunciado se sabe que $\\{r_{t}\\}$ es una serie de siempo débilmente estacionaria con media cero\n",
    "\n",
    "\\begin{align}\n",
    "    V[ar_{t} + br_{t-1}] &= V[ar_{t}] + V[br_{t-1}] + 2cov(ar_{t},br_{t-1})\\\\\n",
    "                         &= a^{2}V[r_{t}] + b^{2}V[r_{t-1}]+ab2cov(r_{t},r_{t-1})\\\\\n",
    "                         &= a^{2}\\sigma^{2} + b^{2}\\sigma^{2} + 0 \\quad &(b)\\\\\n",
    "                         &= \\sigma^{2}(a^{2}+b^{2})\n",
    "\\end{align}\n",
    "\n",
    "Debido a que en $(b)$ la covarianza de una misma variable es igual a su varianza, entonces $V[r_{t}] = \\sigma^{2}$ porque $cov(r_{t},r_{t})=\\sigma^{2}$ según el enunciado si  $s=t$ y 0 si $s\\neq t$"
   ]
  },
  {
   "cell_type": "markdown",
   "metadata": {},
   "source": [
    "# Punto 5\n",
    "Para los datos de la acción de Google que se encuentran en eñ site del curso, cree un programa en Python que calcule el valor de la volatilidad de Parkinson dado por\n",
    "\\begin{align}\n",
    "    \\sigma_{p} = \\sqrt{\\frac{1}{4ln(2)}\\frac{1}{m}\\sum_{k=1}^{m}ln(\\frac{H_{k}}{L_{k}})^{2}}\n",
    "\\end{align}\n",
    "\n",
    "donde $H_{k}=$ es el precio alto y $L_{k}=$ es el precio bajo.\n",
    "## R//:"
   ]
  },
  {
   "cell_type": "code",
   "execution_count": 3,
   "metadata": {},
   "outputs": [
    {
     "data": {
      "text/html": [
       "<div>\n",
       "<style scoped>\n",
       "    .dataframe tbody tr th:only-of-type {\n",
       "        vertical-align: middle;\n",
       "    }\n",
       "\n",
       "    .dataframe tbody tr th {\n",
       "        vertical-align: top;\n",
       "    }\n",
       "\n",
       "    .dataframe thead th {\n",
       "        text-align: right;\n",
       "    }\n",
       "</style>\n",
       "<table border=\"1\" class=\"dataframe\">\n",
       "  <thead>\n",
       "    <tr style=\"text-align: right;\">\n",
       "      <th></th>\n",
       "      <th>Date</th>\n",
       "      <th>Open</th>\n",
       "      <th>High</th>\n",
       "      <th>Low</th>\n",
       "      <th>Close</th>\n",
       "      <th>Adj Close</th>\n",
       "      <th>Volume</th>\n",
       "    </tr>\n",
       "  </thead>\n",
       "  <tbody>\n",
       "    <tr>\n",
       "      <th>0</th>\n",
       "      <td>2017-01-30</td>\n",
       "      <td>814.659973</td>\n",
       "      <td>815.840027</td>\n",
       "      <td>799.799988</td>\n",
       "      <td>802.320007</td>\n",
       "      <td>802.320007</td>\n",
       "      <td>3246600</td>\n",
       "    </tr>\n",
       "    <tr>\n",
       "      <th>1</th>\n",
       "      <td>2017-01-31</td>\n",
       "      <td>796.859985</td>\n",
       "      <td>801.250000</td>\n",
       "      <td>790.520020</td>\n",
       "      <td>796.789978</td>\n",
       "      <td>796.789978</td>\n",
       "      <td>2160600</td>\n",
       "    </tr>\n",
       "    <tr>\n",
       "      <th>2</th>\n",
       "      <td>2017-02-01</td>\n",
       "      <td>799.679993</td>\n",
       "      <td>801.190002</td>\n",
       "      <td>791.190002</td>\n",
       "      <td>795.695007</td>\n",
       "      <td>795.695007</td>\n",
       "      <td>2029700</td>\n",
       "    </tr>\n",
       "    <tr>\n",
       "      <th>3</th>\n",
       "      <td>2017-02-02</td>\n",
       "      <td>793.799988</td>\n",
       "      <td>802.700012</td>\n",
       "      <td>792.000000</td>\n",
       "      <td>798.530029</td>\n",
       "      <td>798.530029</td>\n",
       "      <td>1532100</td>\n",
       "    </tr>\n",
       "    <tr>\n",
       "      <th>4</th>\n",
       "      <td>2017-02-03</td>\n",
       "      <td>802.989990</td>\n",
       "      <td>806.000000</td>\n",
       "      <td>800.369995</td>\n",
       "      <td>801.489990</td>\n",
       "      <td>801.489990</td>\n",
       "      <td>1463400</td>\n",
       "    </tr>\n",
       "    <tr>\n",
       "      <th>...</th>\n",
       "      <td>...</td>\n",
       "      <td>...</td>\n",
       "      <td>...</td>\n",
       "      <td>...</td>\n",
       "      <td>...</td>\n",
       "      <td>...</td>\n",
       "      <td>...</td>\n",
       "    </tr>\n",
       "    <tr>\n",
       "      <th>1255</th>\n",
       "      <td>2022-01-24</td>\n",
       "      <td>2520.550049</td>\n",
       "      <td>2615.570068</td>\n",
       "      <td>2492.839111</td>\n",
       "      <td>2607.439941</td>\n",
       "      <td>2607.439941</td>\n",
       "      <td>2764600</td>\n",
       "    </tr>\n",
       "    <tr>\n",
       "      <th>1256</th>\n",
       "      <td>2022-01-25</td>\n",
       "      <td>2568.709961</td>\n",
       "      <td>2586.770020</td>\n",
       "      <td>2527.560059</td>\n",
       "      <td>2534.709961</td>\n",
       "      <td>2534.709961</td>\n",
       "      <td>1800400</td>\n",
       "    </tr>\n",
       "    <tr>\n",
       "      <th>1257</th>\n",
       "      <td>2022-01-26</td>\n",
       "      <td>2611.850098</td>\n",
       "      <td>2656.149902</td>\n",
       "      <td>2543.070068</td>\n",
       "      <td>2584.800049</td>\n",
       "      <td>2584.800049</td>\n",
       "      <td>1981500</td>\n",
       "    </tr>\n",
       "    <tr>\n",
       "      <th>1258</th>\n",
       "      <td>2022-01-27</td>\n",
       "      <td>2627.219971</td>\n",
       "      <td>2652.198975</td>\n",
       "      <td>2578.899902</td>\n",
       "      <td>2582.419922</td>\n",
       "      <td>2582.419922</td>\n",
       "      <td>1512400</td>\n",
       "    </tr>\n",
       "    <tr>\n",
       "      <th>1259</th>\n",
       "      <td>2022-01-28</td>\n",
       "      <td>2600.000000</td>\n",
       "      <td>2667.409912</td>\n",
       "      <td>2573.889893</td>\n",
       "      <td>2665.790039</td>\n",
       "      <td>2665.790039</td>\n",
       "      <td>1524200</td>\n",
       "    </tr>\n",
       "  </tbody>\n",
       "</table>\n",
       "<p>1260 rows × 7 columns</p>\n",
       "</div>"
      ],
      "text/plain": [
       "            Date         Open         High          Low        Close  \\\n",
       "0     2017-01-30   814.659973   815.840027   799.799988   802.320007   \n",
       "1     2017-01-31   796.859985   801.250000   790.520020   796.789978   \n",
       "2     2017-02-01   799.679993   801.190002   791.190002   795.695007   \n",
       "3     2017-02-02   793.799988   802.700012   792.000000   798.530029   \n",
       "4     2017-02-03   802.989990   806.000000   800.369995   801.489990   \n",
       "...          ...          ...          ...          ...          ...   \n",
       "1255  2022-01-24  2520.550049  2615.570068  2492.839111  2607.439941   \n",
       "1256  2022-01-25  2568.709961  2586.770020  2527.560059  2534.709961   \n",
       "1257  2022-01-26  2611.850098  2656.149902  2543.070068  2584.800049   \n",
       "1258  2022-01-27  2627.219971  2652.198975  2578.899902  2582.419922   \n",
       "1259  2022-01-28  2600.000000  2667.409912  2573.889893  2665.790039   \n",
       "\n",
       "        Adj Close   Volume  \n",
       "0      802.320007  3246600  \n",
       "1      796.789978  2160600  \n",
       "2      795.695007  2029700  \n",
       "3      798.530029  1532100  \n",
       "4      801.489990  1463400  \n",
       "...           ...      ...  \n",
       "1255  2607.439941  2764600  \n",
       "1256  2534.709961  1800400  \n",
       "1257  2584.800049  1981500  \n",
       "1258  2582.419922  1512400  \n",
       "1259  2665.790039  1524200  \n",
       "\n",
       "[1260 rows x 7 columns]"
      ]
     },
     "execution_count": 3,
     "metadata": {},
     "output_type": "execute_result"
    }
   ],
   "source": [
    "data = pd.read_csv('../datasets/GOOG.csv')\n",
    "data"
   ]
  },
  {
   "cell_type": "code",
   "execution_count": 4,
   "metadata": {},
   "outputs": [],
   "source": [
    "def vParkinson(data,H,L):\n",
    "    \"\"\"\n",
    "    Volatilidad de Parkinson\n",
    "    \n",
    "    Parámetros:\n",
    "    ------------------------\n",
    "    H: str (column name), vector (n x 1)\n",
    "        vector de precios altos\n",
    "    L: str (column name), vector (n x 1)\n",
    "        vector de precios bajos\n",
    "    \"\"\"\n",
    "    a = (1/(4*np.log(2)))\n",
    "    p = np.average(np.log(H/L)**2)\n",
    "    \n",
    "    vp = np.sqrt(a*p)\n",
    "    \n",
    "    return vp"
   ]
  },
  {
   "cell_type": "code",
   "execution_count": 5,
   "metadata": {},
   "outputs": [
    {
     "name": "stdout",
     "output_type": "stream",
     "text": [
      "\n",
      "Volatilidad de Parkinson\n",
      "--------------------------\n",
      "0.013368863987890705\n",
      "\n"
     ]
    }
   ],
   "source": [
    "vp = vParkinson(data=data,H=data['High'],L=data['Low'])\n",
    "print(f\"\"\"\n",
    "Volatilidad de Parkinson\n",
    "--------------------------\n",
    "{vp}\n",
    "\"\"\")"
   ]
  },
  {
   "cell_type": "markdown",
   "metadata": {},
   "source": [
    "# Punto 6\n",
    "Para los datos de la acción de Google que se encuentran en eñ site del curso, cree un programa en Python que calcule el valor de la volatilidad de Garman-Klass dado por\n",
    "\\begin{align}\n",
    "    \\sigma_{gk} &= \\sqrt{\\frac{1}{m}\\sum_{k=1}^{m}\\frac{1}{2}(ln(\\frac{H_{k}}{L_{k}})^{2} - (2ln(2)-1)(ln(\\frac{C_{k}}{O_{k}})^{2}))}\n",
    "\\end{align}\n",
    "\n",
    "## R//:"
   ]
  },
  {
   "cell_type": "code",
   "execution_count": 6,
   "metadata": {},
   "outputs": [
    {
     "data": {
      "text/html": [
       "<div>\n",
       "<style scoped>\n",
       "    .dataframe tbody tr th:only-of-type {\n",
       "        vertical-align: middle;\n",
       "    }\n",
       "\n",
       "    .dataframe tbody tr th {\n",
       "        vertical-align: top;\n",
       "    }\n",
       "\n",
       "    .dataframe thead th {\n",
       "        text-align: right;\n",
       "    }\n",
       "</style>\n",
       "<table border=\"1\" class=\"dataframe\">\n",
       "  <thead>\n",
       "    <tr style=\"text-align: right;\">\n",
       "      <th></th>\n",
       "      <th>Date</th>\n",
       "      <th>Open</th>\n",
       "      <th>High</th>\n",
       "      <th>Low</th>\n",
       "      <th>Close</th>\n",
       "      <th>Adj Close</th>\n",
       "      <th>Volume</th>\n",
       "    </tr>\n",
       "  </thead>\n",
       "  <tbody>\n",
       "    <tr>\n",
       "      <th>0</th>\n",
       "      <td>2017-01-30</td>\n",
       "      <td>814.659973</td>\n",
       "      <td>815.840027</td>\n",
       "      <td>799.799988</td>\n",
       "      <td>802.320007</td>\n",
       "      <td>802.320007</td>\n",
       "      <td>3246600</td>\n",
       "    </tr>\n",
       "    <tr>\n",
       "      <th>1</th>\n",
       "      <td>2017-01-31</td>\n",
       "      <td>796.859985</td>\n",
       "      <td>801.250000</td>\n",
       "      <td>790.520020</td>\n",
       "      <td>796.789978</td>\n",
       "      <td>796.789978</td>\n",
       "      <td>2160600</td>\n",
       "    </tr>\n",
       "    <tr>\n",
       "      <th>2</th>\n",
       "      <td>2017-02-01</td>\n",
       "      <td>799.679993</td>\n",
       "      <td>801.190002</td>\n",
       "      <td>791.190002</td>\n",
       "      <td>795.695007</td>\n",
       "      <td>795.695007</td>\n",
       "      <td>2029700</td>\n",
       "    </tr>\n",
       "    <tr>\n",
       "      <th>3</th>\n",
       "      <td>2017-02-02</td>\n",
       "      <td>793.799988</td>\n",
       "      <td>802.700012</td>\n",
       "      <td>792.000000</td>\n",
       "      <td>798.530029</td>\n",
       "      <td>798.530029</td>\n",
       "      <td>1532100</td>\n",
       "    </tr>\n",
       "    <tr>\n",
       "      <th>4</th>\n",
       "      <td>2017-02-03</td>\n",
       "      <td>802.989990</td>\n",
       "      <td>806.000000</td>\n",
       "      <td>800.369995</td>\n",
       "      <td>801.489990</td>\n",
       "      <td>801.489990</td>\n",
       "      <td>1463400</td>\n",
       "    </tr>\n",
       "    <tr>\n",
       "      <th>...</th>\n",
       "      <td>...</td>\n",
       "      <td>...</td>\n",
       "      <td>...</td>\n",
       "      <td>...</td>\n",
       "      <td>...</td>\n",
       "      <td>...</td>\n",
       "      <td>...</td>\n",
       "    </tr>\n",
       "    <tr>\n",
       "      <th>1255</th>\n",
       "      <td>2022-01-24</td>\n",
       "      <td>2520.550049</td>\n",
       "      <td>2615.570068</td>\n",
       "      <td>2492.839111</td>\n",
       "      <td>2607.439941</td>\n",
       "      <td>2607.439941</td>\n",
       "      <td>2764600</td>\n",
       "    </tr>\n",
       "    <tr>\n",
       "      <th>1256</th>\n",
       "      <td>2022-01-25</td>\n",
       "      <td>2568.709961</td>\n",
       "      <td>2586.770020</td>\n",
       "      <td>2527.560059</td>\n",
       "      <td>2534.709961</td>\n",
       "      <td>2534.709961</td>\n",
       "      <td>1800400</td>\n",
       "    </tr>\n",
       "    <tr>\n",
       "      <th>1257</th>\n",
       "      <td>2022-01-26</td>\n",
       "      <td>2611.850098</td>\n",
       "      <td>2656.149902</td>\n",
       "      <td>2543.070068</td>\n",
       "      <td>2584.800049</td>\n",
       "      <td>2584.800049</td>\n",
       "      <td>1981500</td>\n",
       "    </tr>\n",
       "    <tr>\n",
       "      <th>1258</th>\n",
       "      <td>2022-01-27</td>\n",
       "      <td>2627.219971</td>\n",
       "      <td>2652.198975</td>\n",
       "      <td>2578.899902</td>\n",
       "      <td>2582.419922</td>\n",
       "      <td>2582.419922</td>\n",
       "      <td>1512400</td>\n",
       "    </tr>\n",
       "    <tr>\n",
       "      <th>1259</th>\n",
       "      <td>2022-01-28</td>\n",
       "      <td>2600.000000</td>\n",
       "      <td>2667.409912</td>\n",
       "      <td>2573.889893</td>\n",
       "      <td>2665.790039</td>\n",
       "      <td>2665.790039</td>\n",
       "      <td>1524200</td>\n",
       "    </tr>\n",
       "  </tbody>\n",
       "</table>\n",
       "<p>1260 rows × 7 columns</p>\n",
       "</div>"
      ],
      "text/plain": [
       "            Date         Open         High          Low        Close  \\\n",
       "0     2017-01-30   814.659973   815.840027   799.799988   802.320007   \n",
       "1     2017-01-31   796.859985   801.250000   790.520020   796.789978   \n",
       "2     2017-02-01   799.679993   801.190002   791.190002   795.695007   \n",
       "3     2017-02-02   793.799988   802.700012   792.000000   798.530029   \n",
       "4     2017-02-03   802.989990   806.000000   800.369995   801.489990   \n",
       "...          ...          ...          ...          ...          ...   \n",
       "1255  2022-01-24  2520.550049  2615.570068  2492.839111  2607.439941   \n",
       "1256  2022-01-25  2568.709961  2586.770020  2527.560059  2534.709961   \n",
       "1257  2022-01-26  2611.850098  2656.149902  2543.070068  2584.800049   \n",
       "1258  2022-01-27  2627.219971  2652.198975  2578.899902  2582.419922   \n",
       "1259  2022-01-28  2600.000000  2667.409912  2573.889893  2665.790039   \n",
       "\n",
       "        Adj Close   Volume  \n",
       "0      802.320007  3246600  \n",
       "1      796.789978  2160600  \n",
       "2      795.695007  2029700  \n",
       "3      798.530029  1532100  \n",
       "4      801.489990  1463400  \n",
       "...           ...      ...  \n",
       "1255  2607.439941  2764600  \n",
       "1256  2534.709961  1800400  \n",
       "1257  2584.800049  1981500  \n",
       "1258  2582.419922  1512400  \n",
       "1259  2665.790039  1524200  \n",
       "\n",
       "[1260 rows x 7 columns]"
      ]
     },
     "execution_count": 6,
     "metadata": {},
     "output_type": "execute_result"
    }
   ],
   "source": [
    "data = pd.read_csv('../datasets/GOOG.csv')\n",
    "data"
   ]
  },
  {
   "cell_type": "code",
   "execution_count": 17,
   "metadata": {},
   "outputs": [],
   "source": [
    "def vGK(data,H,L,C,O):\n",
    "    \"\"\"\n",
    "    Volatilidad de Garman - Klass\n",
    "    \n",
    "    Parámetros:\n",
    "    ------------------------\n",
    "    H: str (column name), vector (n x 1)\n",
    "        vector de precios altos\n",
    "    L: str (column name), vector (n x 1)\n",
    "        vector de precios bajos\n",
    "    C: str (column name), vector (n x 1)\n",
    "        vector de precios de cierre ajustado\n",
    "    O: str (column name), vector (n x 1)\n",
    "        vector de precios de apertura\n",
    "    \"\"\"\n",
    "    \n",
    "    gk = (1/2)*np.average((np.log(H/L)**2)-((2*np.log(2)-1)*(np.log(C/O)**2)))\n",
    "    vgk = np.sqrt(gk)\n",
    "    \n",
    "    return vgk"
   ]
  },
  {
   "cell_type": "code",
   "execution_count": 18,
   "metadata": {},
   "outputs": [
    {
     "name": "stdout",
     "output_type": "stream",
     "text": [
      "\n",
      "Volatilidad de Parkinson\n",
      "--------------------------\n",
      "0.014645984141196715\n",
      "\n"
     ]
    }
   ],
   "source": [
    "vgk = vGK(data=data,H=data['High'],L=data['Low'], C=data['Adj Close'], O=data['Open'])\n",
    "print(f\"\"\"\n",
    "Volatilidad de Parkinson\n",
    "--------------------------\n",
    "{vgk}\n",
    "\"\"\")"
   ]
  },
  {
   "cell_type": "markdown",
   "metadata": {},
   "source": [
    "# Punto 7\n",
    "\n",
    "Dadas $n$ variables aleatorias $X_{1}, X_{2}, ..., X_{n}$ y $n$ números positivos $a_{1},a_{2},...,a_{n}$ muestre que:\n",
    "\n",
    "\\begin{align}\n",
    "V[\\sum_{i=1}^{n}a_{i}X_{i}] &= \\sum_{i=1}^{n}\\sum_{j=1}^{n}a_{i}a_{j}\\sigma_{i}\\sigma_{j}\\rho_{i,j}\n",
    "\\end{align}\n",
    "\n",
    "Dónde $sigma_{i}$ denota la desviación estándar de la variable $X_{i}$ y $\\rho_{i,j}$ es el coeficiente de correlación entre $X_{i}$ y $X_{j}$"
   ]
  },
  {
   "cell_type": "markdown",
   "metadata": {},
   "source": [
    "## R//:\n",
    "\n",
    "\\begin{align}\n",
    "V[aX +bY] &= V[aX] + V[bY] + 2cov(aX,bY)\\\\\n",
    "          &= a^{2}V[C]+b^{2}V[Y] + ab2cov(X,Y)\\\\\n",
    "\\end{align}\n",
    "\n",
    "Ahora se define todo en términos de constante donde $a=a_{1}$ $b=a_{2}$, $X = x_{1}$, $Y=x_{2}$, $V[a_{1}x_{2} + a_{2}x_{2} = a_{1}^{2}\\sigma_{x_{1}}^{2}+a_{2}^{2}\\sigma_{x_{2}}^{2} + a_{1}a_{2}2cov(x_{1},x_{2})$, desarrollando se tiene\n",
    "\n",
    "\\begin{align}\n",
    "V[a_{1}x_{1}+a_{2}x_{2}] &= a_{1}^{2}\\sigma_{x_{1}}^{2} + a_{2}^{2}\\sigma_{x_{2}} + a_{1}a_{2}cov(x_{1},x_{2}) + a_{2}a_{1}cov(x_{2},x_{1})\\\\\n",
    "                         &=  a_{1}^{2}\\sigma_{x_{1}}^{2} + a_{2}^{2}\\sigma_{x_{2}} + a_{1}a_{2}\\rho_{x_{1},x_{2}}\\sigma_{x_{1}}\\sigma_{x_{2}} + a_{2}a_{1}\\rho_{x_{2},x_{1}}\\sigma_{x_{2}}\\sigma_{x_{1}} \\quad &(a)\\\\ \n",
    "                         &= a_{1}^{2}\\sigma_{x_{1}}^{2}\\rho_{x_{1},x_{1}} + a_{2}^{2}\\sigma_{x_{2}}\\rho_{x_{2},x_{2}} + a_{1}a_{2}\\rho_{x_{1},x_{2}}\\sigma_{x_{1}}\\sigma_{x_{2}} + a_{2}a_{1}\\rho_{x_{2},x_{1}}\\sigma_{x_{2}}\\sigma_{x_{1}} \\quad &(b)\\\\ \n",
    "\\end{align}\n",
    "\n",
    "Ya que en $(a)$ $cov(x_{1},x_{2})=\\rho_{x_{1},x_{2}}\\sigma_{x_{1}}\\sigma_{x_{2}}$, y en $(b)$ $\\rho_{x_{1},x_{1}}=1$"
   ]
  },
  {
   "cell_type": "markdown",
   "metadata": {},
   "source": [
    "Ahora, \n",
    "\n",
    "\\begin{align}\n",
    "\\sum_{i=1}^{2}\\sum_{j=1}^{2} a_{i}a_{j}\\sigma_{i}\\sigma_{j}\\rho_{i,j} &= a_{1}^{2}\\sigma_{x_{1}}^{2}\\rho_{x_{1},x_{1}} + a_{2}^{2}\\sigma_{x_{2}}\\rho_{x_{2},x_{2}} + a_{1}a_{2}\\rho_{x_{1},x_{2}}\\sigma_{x_{1}}\\sigma_{x_{2}} + a_{2}a_{1}\\rho_{x_{2},x_{1}}\\sigma_{x_{2}}\\sigma_{x_{1}}\n",
    "\\end{align}"
   ]
  },
  {
   "cell_type": "markdown",
   "metadata": {},
   "source": [
    "Entonces\n",
    "\n",
    "\\begin{align}\n",
    "V[a_{1}x_{1}+a_{2}x_{2}] = \\sum_{i=1}^{2}\\sum_{j=1}^{2} a_{i}a_{j}\\sigma_{i}\\sigma_{j}\\rho_{i,j}\n",
    "\\end{align}"
   ]
  },
  {
   "cell_type": "markdown",
   "metadata": {},
   "source": [
    "Generalizando para n variables aleatorias se tiene que\n",
    "\n",
    "\\begin{align}\n",
    "V[\\sum_{i=1}^{n}a_{i}x_{i}] &= \\sum_{i=1}^{n}\\sum_{j=1}^{n} a_{i}a_{j}\\sigma_{i}\\sigma_{j}\\rho_{i,j}\n",
    "\\end{align}"
   ]
  }
 ],
 "metadata": {
  "colab": {
   "authorship_tag": "ABX9TyNOoP18dTBOP5rmbBR/3Iog",
   "mount_file_id": "1RkIXumuWqYtY_w38_2MuNbclfIHpdBID",
   "name": "Taller1.ipynb",
   "provenance": []
  },
  "kernelspec": {
   "display_name": "Python 3 (ipykernel)",
   "language": "python",
   "name": "python3"
  },
  "language_info": {
   "codemirror_mode": {
    "name": "ipython",
    "version": 3
   },
   "file_extension": ".py",
   "mimetype": "text/x-python",
   "name": "python",
   "nbconvert_exporter": "python",
   "pygments_lexer": "ipython3",
   "version": "3.8.5"
  },
  "toc": {
   "base_numbering": 1,
   "nav_menu": {},
   "number_sections": false,
   "sideBar": true,
   "skip_h1_title": false,
   "title_cell": "Table of Contents",
   "title_sidebar": "Contents",
   "toc_cell": false,
   "toc_position": {},
   "toc_section_display": true,
   "toc_window_display": true
  },
  "varInspector": {
   "cols": {
    "lenName": 16,
    "lenType": 16,
    "lenVar": 40
   },
   "kernels_config": {
    "python": {
     "delete_cmd_postfix": "",
     "delete_cmd_prefix": "del ",
     "library": "var_list.py",
     "varRefreshCmd": "print(var_dic_list())"
    },
    "r": {
     "delete_cmd_postfix": ") ",
     "delete_cmd_prefix": "rm(",
     "library": "var_list.r",
     "varRefreshCmd": "cat(var_dic_list()) "
    }
   },
   "types_to_exclude": [
    "module",
    "function",
    "builtin_function_or_method",
    "instance",
    "_Feature"
   ],
   "window_display": false
  }
 },
 "nbformat": 4,
 "nbformat_minor": 1
}
