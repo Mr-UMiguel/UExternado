{
 "cells": [
  {
   "cell_type": "markdown",
   "metadata": {},
   "source": [
    "# clase 16-05-2022\n",
    "\n",
    "Una persona ahorra el 30% de su salario mensualmente durante 5 años. El salario actual es de $2'000.000 y crece cada año en un 3%. Si la tasa de interés es de  21% E.A los primeros 5 años y 19% Namv los siguientes 5, entonces ¿Cuánto tendra acumulado al final del año 5?"
   ]
  },
  {
   "cell_type": "markdown",
   "metadata": {},
   "source": [
    "\\begin{align*}\n",
    "    Vf &= A\\frac{(1+i)^{n}-1}{i}\\\\\n",
    "    Vf &= \\frac{j}{i-g}((1+i)^{n}-(1+g)^{n})\n",
    "\\end{align*}"
   ]
  },
  {
   "cell_type": "code",
   "execution_count": 27,
   "metadata": {},
   "outputs": [
    {
     "data": {
      "text/plain": [
       "233224565.50669107"
      ]
     },
     "execution_count": 27,
     "metadata": {},
     "output_type": "execute_result"
    }
   ],
   "source": [
    "A = 2000000*0.3\n",
    "EA = 0.21\n",
    "iv = (1+EA)**(1/12)-1 #EA -> iv\n",
    "Vf = A*((1+iv)**12-1)/iv\n",
    "\n",
    "\n",
    "Vf2 = ((Vf/(EA - 0.03) )* ((1+EA)**(5) - (1+0.03)**(5))) \n",
    "\n",
    "\n",
    "A2 = A*(1+0.03)**(5) ## debido a que la anualidad en el año 5 crece 0.03 anual\n",
    "Namv = 0.19\n",
    "iv2 = Namv/12\n",
    "EA2 = (1+iv2)**(12)-1\n",
    "\n",
    "Vf3 = A2*((1+iv2)**12-1)/iv2\n",
    "\n",
    "\n",
    "Vf2 = ((Vf/(EA - 0.03) )* ((1+EA)**(5) - (1+0.03)**(5))) * (1+EA2)**(5)\n",
    "Vf4 = (Vf3/(EA2 - 0.03) )* ((1+EA2)**(5) - (1+0.03)**(5))\n",
    "Vf5 = Vf2 + Vf4\n",
    "Vf5\n"
   ]
  },
  {
   "cell_type": "markdown",
   "metadata": {},
   "source": [
    "# Taller IV\n",
    "## Punto 1\n",
    "Una persona ahorra durante tres años a una tasa del 21% nominal anual mes vencido\n",
    "pagos mensuales vencidos. El primer año el primer mes consigna 500.000 y cada mes\n",
    "incrementa su ahorro en un 0.9%, durante el segundo año su ahorro aumenta cada mes\n",
    "$25.000 y el tercer año su ahorro decrece cada mes 0.5%. ¿Cuál será el valor acumulado\n",
    "al final de los tres años?"
   ]
  },
  {
   "cell_type": "code",
   "execution_count": 8,
   "metadata": {},
   "outputs": [],
   "source": [
    "n = 3*12\n",
    "A1 = 500000\n",
    "EA = (1+0.21/12)**(12)-1\n",
    "iv = (1+EA)**(1/12)-1\n",
    "\n",
    "A13 = A1*(1+0.009)**(24) + 25000\n",
    "A25 = (A1*(1+0.009)**(24) + 25000*(12))*(1-0.009)**(1)\n",
    "\n",
    "\n",
    "def grad_geometrico_creciente(A,i,g,n):\n",
    "    vf = (A/(i-g))*((1+i)**(n)-(1+g)**(n))\n",
    "    return vf\n",
    "\n",
    "def grad_geometrico_decreciente(A,i,g,n):\n",
    "    vf = (A/(i+g))*((1+i)**(n)-(1-g)**(n))\n",
    "    return vf\n",
    "\n",
    "def grad_aritmetico_creciente(A,i,L,n):\n",
    "    vf = A * (((1+i)**(n)-1)/(i*(1+i)**(n))) + (L/i) * (((1+i)**(n)-1)/(i*(1+i)**(n))-(n/(1+i)**(n)))\n",
    "    return vf\n"
   ]
  },
  {
   "cell_type": "code",
   "execution_count": 9,
   "metadata": {},
   "outputs": [
    {
     "data": {
      "text/plain": [
       "28959750.055061433"
      ]
     },
     "execution_count": 9,
     "metadata": {},
     "output_type": "execute_result"
    }
   ],
   "source": [
    "VF = grad_geometrico_creciente(A1,iv,g=0.009,n=12) + \\\n",
    "    grad_aritmetico_creciente(A13,i=iv,L=25000,n=12)*(1+iv)**(12) + \\\n",
    "    grad_geometrico_decreciente(A25,i=iv,g=0.005,n=12)\n",
    "VF"
   ]
  },
  {
   "cell_type": "code",
   "execution_count": null,
   "metadata": {},
   "outputs": [],
   "source": []
  }
 ],
 "metadata": {
  "interpreter": {
   "hash": "01876ece78b97e128b1cdf56c3d72faef558e4231a6c14560acd388e3cc370a8"
  },
  "kernelspec": {
   "display_name": "Python 3.8.5 ('.venv': venv)",
   "language": "python",
   "name": "python3"
  },
  "language_info": {
   "codemirror_mode": {
    "name": "ipython",
    "version": 3
   },
   "file_extension": ".py",
   "mimetype": "text/x-python",
   "name": "python",
   "nbconvert_exporter": "python",
   "pygments_lexer": "ipython3",
   "version": "3.8.5"
  },
  "orig_nbformat": 4
 },
 "nbformat": 4,
 "nbformat_minor": 2
}
