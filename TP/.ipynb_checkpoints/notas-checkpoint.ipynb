{
 "cells": [
  {
   "cell_type": "markdown",
   "id": "298d6628",
   "metadata": {},
   "source": [
    "<center><h1> Teoría de Portafolios </h1></center>\n",
    "<center><h3> Universidad Externado de Colombia - Prof. Oscar Reyes </h3></center>\n",
    "<br>\n",
    "<br>\n",
    "<center><h2> Notas de Clase </h2></center>\n",
    "<center><h3> Miguel Angel Manrique Rodriguez </h3></center>\n",
    "<center><h3> 2022-1S </h3></center>"
   ]
  },
  {
   "cell_type": "markdown",
   "id": "80f0b18c",
   "metadata": {},
   "source": [
    "    Al momento de querer realizar indexación de la ecuaciónes utilizar\n",
    "        \\newcommand{\\owntag}[1]{\\stepcounter{equation}\\tag{\\theequation. #1}}\n",
    "    en el archivo .tex"
   ]
  },
  {
   "cell_type": "markdown",
   "id": "611ce596",
   "metadata": {},
   "source": [
    "Y luego agregar a la ecuación \n",
    "\\begin{align}\n",
    "\\dot{x} & = \\sigma(y-x)  \\owntag{indice} \\\\\n",
    "\\end{align}"
   ]
  },
  {
   "cell_type": "code",
   "execution_count": 2,
   "id": "84cb5873",
   "metadata": {},
   "outputs": [],
   "source": [
    "import pandas as pd\n",
    "import numpy as np\n",
    "import matplotlib.pyplot as plt\n",
    "import seaborn as sns\n",
    "import yfinance as yf\n",
    "\n",
    "import cvxopt\n",
    "from cvxopt import matrix\n",
    "from cvxopt import solvers\n",
    "\n",
    "from pypt.load_data  import get_data \n",
    "\n",
    "sns.set_theme(font=\"Times New Roman\",font_scale=1)"
   ]
  },
  {
   "cell_type": "markdown",
   "id": "b370b1bb",
   "metadata": {},
   "source": [
    "# Repaso estadística"
   ]
  },
  {
   "cell_type": "markdown",
   "id": "c5f470db",
   "metadata": {},
   "source": [
    "# Portafolios de Inversión\n"
   ]
  },
  {
   "cell_type": "markdown",
   "id": "123453bb",
   "metadata": {},
   "source": [
    "## load_data\n",
    "definimos una función que nos permita importar el precio ajustado de cualquier activo siempre y cuando conozcamos su symbolo de yahoo finance; además no permite graficar el retorno logarítimico de un período de cada activo"
   ]
  },
  {
   "cell_type": "code",
   "execution_count": 2,
   "id": "1ec5bb08",
   "metadata": {},
   "outputs": [],
   "source": [
    "def load_data(symbols,start,end,plot):\n",
    "    # Carga de datos\n",
    "\n",
    "    data = pd.DataFrame({})\n",
    "    for symbol in symbols:\n",
    "        data_temp = yf.download(symbol, start=start, end=end,progress=False)\n",
    "        data_temp = data_temp[['Adj Close']]\n",
    "        data_temp = np.log(data_temp['Adj Close']) - np.log(data_temp['Adj Close'].shift(1))\n",
    "        data_temp = data_temp.dropna()\n",
    "        \n",
    "        data = pd.concat([data,data_temp], axis=1)\n",
    "        \n",
    "    data.columns = symbols\n",
    "    \n",
    "    if plot==True:\n",
    "        data.plot(figsize=(10,7))\n",
    "        if len(symbols) > 3:\n",
    "            plt.legend(loc='center right', bbox_to_anchor=(1,1),\n",
    "                        fancybox=True, shadow=True, ncol=5)\n",
    "        plt.title(\"logarithmic return\", loc=\"left\", fontdict = {'fontsize':18})\n",
    "        plt.show()\n",
    "    return data"
   ]
  },
  {
   "cell_type": "code",
   "execution_count": 3,
   "id": "c961a057",
   "metadata": {},
   "outputs": [],
   "source": [
    "symbols = [\"TSLA\",\"BAC\",\"MA\"]\n",
    "data = load_data(symbols=symbols,start=\"2021-02-01\", end=\"2022-02-01\",plot=False)"
   ]
  },
  {
   "cell_type": "markdown",
   "id": "934d973e",
   "metadata": {},
   "source": [
    "### Matriz de Varianzas y Covarianzas, y coeficientes de correlación"
   ]
  },
  {
   "cell_type": "code",
   "execution_count": 4,
   "id": "b7a07c57",
   "metadata": {},
   "outputs": [
    {
     "name": "stdout",
     "output_type": "stream",
     "text": [
      "\n",
      "Matriz de varianzas y covarianzas\n",
      "---------------------------------\n",
      "[[1.28350870e-03 3.63019625e-05 1.10844435e-04]\n",
      " [3.63019625e-05 2.48961578e-04 9.08054596e-05]\n",
      " [1.10844435e-04 9.08054596e-05 3.36306974e-04]]\n",
      "---------------------------------\n",
      "\n",
      "Matriz de coeficientes de correlación\n",
      "\n",
      "---------------------------------\n",
      "[[1.         0.06421915 0.16871222]\n",
      " [0.06421915 1.         0.31381801]\n",
      " [0.16871222 0.31381801 1.        ]]\n",
      "---------------------------------\n",
      "\n"
     ]
    }
   ],
   "source": [
    "vcov, corr = np.matrix(data.cov()) , np.matrix(data.corr())\n",
    "print(f\"\"\"\n",
    "Matriz de varianzas y covarianzas\n",
    "---------------------------------\n",
    "{vcov}\n",
    "---------------------------------\n",
    "\n",
    "Matriz de coeficientes de correlación\n",
    "\n",
    "---------------------------------\n",
    "{corr}\n",
    "---------------------------------\n",
    "\"\"\")"
   ]
  },
  {
   "cell_type": "markdown",
   "id": "14100729",
   "metadata": {},
   "source": [
    "## Riesgo (varianza) y retorno del portafolio\n",
    "Ahora definimos una función que nos permita calcular la varianza del portafolio de acuerdo a un vector de ponderaciones que asignemos a cada activo en nuestro portafolio"
   ]
  },
  {
   "cell_type": "markdown",
   "id": "0931e4aa",
   "metadata": {},
   "source": [
    "### Retorno\n",
    "El retorno esperado del portafolio se define como \n",
    "\n",
    "\\begin{align}\n",
    "E(r_{p}) &= E(\\sum_{i=1}^{n}w_{i}r_{i}) = \\sum_{i=1}^{n}w_{i}E(r_{i})   \\\\\n",
    "\\end{align}\n",
    "\n",
    "s.a $\\sum_{i=1}^{n}w_{i}=1$, siendo $w_{i}$ la ponderación $w$ del activo $i$ en el portafolio y $E(r_{i})$ el retorno esperado del activo $i$\n",
    "\n",
    "### Riesgo\n",
    "La varianza del portafolio también se de conoce como el riesgo del portafolio, y en este caso estará determinada por \n",
    " + La varianza individual de cada activo del portafolio\n",
    " + por el grado de dependencia medido por la covarianza o el coeficiente de correlación entre ellas \n",
    " \n",
    "En sentido estricto, el riesgo de de un portafolio se define como la variabailidad de los retornos del portafolio $r_{p}$, o en otras palabras, la dispersión de los retornos\n",
    "\n",
    "\\begin{align}\n",
    "\\sigma_{X}^{2} &= E[X-E(X)]^{2} \\\\\n",
    "\\sigma_{p}^{2} &= E[r_{p}-E(r_{p})]^{2} \n",
    "\\end{align}"
   ]
  },
  {
   "cell_type": "markdown",
   "id": "c8285c02",
   "metadata": {},
   "source": [
    "### Varianza del portafolio caso 2 activos\n",
    "\n",
    "\\begin{align}\n",
    "\\sigma_{p}^{2} &= E[r_{p}-E(r_{p})]^{2} \\\\ \n",
    "               &= E[w_{1}r_{1} + w_{2}r_{2} - (w_{1}E(r_{1}) + w_{2}E(r_{2})]^{2} \\\\\n",
    "               &= E[w_{1}(r_{1}-E(r_{1})) + w_{2}(r_{2}-E(r_{2}))]^{2} \n",
    "\\end{align}\n",
    "\n",
    "Dado que $(a+b)^{2}=a^{2}+b^{2}+2ab$ y $E[x_{i}-E(x_{i})]^{2}=\\sigma_{x}^{2}$, además, como $w_{i}$ es constante su valor esperado es $w_{i}$. \n",
    "\n",
    "\\begin{align}\n",
    "    \\sigma_{p}^{2} = w_{1}^{2}\\sigma_{1}^{2} + w_{2}^{2}\\sigma_{2}^{2} + 2w_{1}w_{2}\\sigma_{1,2}  \n",
    "\\end{align}"
   ]
  },
  {
   "cell_type": "code",
   "execution_count": 3,
   "id": "9ee21dc2",
   "metadata": {},
   "outputs": [],
   "source": [
    "def var_p(data,weights,vcov):\n",
    "        \n",
    "# Varianza del portafolio\n",
    "    weights = np.array(weights)\n",
    "    vp = weights @ vcov @ weights.T\n",
    "    vp = vp[0,0]\n",
    "\n",
    "# Retorno del portafolio \n",
    "\n",
    "    r_symbols = data.agg(np.average)\n",
    "    rp = r_symbols @ weights\n",
    "    \n",
    "    return vp, rp \n"
   ]
  },
  {
   "cell_type": "code",
   "execution_count": 6,
   "id": "d2d4608c",
   "metadata": {},
   "outputs": [
    {
     "name": "stdout",
     "output_type": "stream",
     "text": [
      "\n",
      "Varianza del portafolio\n",
      "---------------------------------\n",
      "0.00019647122216668203\n",
      "---------------------------------\n",
      "\n",
      "Retorno del portafolio\n",
      "\n",
      "---------------------------------\n",
      "0.001565297823334792\n",
      "---------------------------------\n",
      "\n"
     ]
    }
   ],
   "source": [
    "Vp, Rp = var_p(data=data,weights=[0.05,0.8,0.15],vcov=vcov)\n",
    "print(f\"\"\"\n",
    "Varianza del portafolio\n",
    "---------------------------------\n",
    "{Vp}\n",
    "---------------------------------\n",
    "\n",
    "Retorno del portafolio\n",
    "\n",
    "---------------------------------\n",
    "{Rp}\n",
    "---------------------------------\n",
    "\"\"\")"
   ]
  },
  {
   "cell_type": "markdown",
   "id": "039746e6",
   "metadata": {},
   "source": [
    "# Portafolios de Markowitz"
   ]
  },
  {
   "cell_type": "markdown",
   "id": "e6cf2a2d",
   "metadata": {},
   "source": [
    "## Defenición\n",
    "\n",
    "Un portafolio se dice eficiente en el sentido de markowitz si:\n",
    " + Tiene el retorno esperado más alto para un nivel dado de riesgo\n",
    " + Tiene el riesgo esperado más bajo dado un nivel de retorno esperado\n"
   ]
  },
  {
   "cell_type": "markdown",
   "id": "c0e03276",
   "metadata": {},
   "source": [
    "## Análisis Retorno / Riesgo\n",
    "Dado los pesos [0.03,0.3,0.4] obtenemos el siguiente retorno/riesgo del portafolio"
   ]
  },
  {
   "cell_type": "code",
   "execution_count": 7,
   "id": "f2b33387",
   "metadata": {},
   "outputs": [
    {
     "name": "stdout",
     "output_type": "stream",
     "text": [
      "\n",
      "Riesgo del portafolio\n",
      "---------------------------------\n",
      "0.01570546939854258\n",
      "---------------------------------\n",
      "\n",
      "Retorno del portafolio\n",
      "\n",
      "---------------------------------\n",
      "0.0009661044706111623\n",
      "---------------------------------\n",
      "Retorno / Riesgo del portafolio\n",
      "---------------------------------\n",
      "0.06151388704757935\n",
      "---------------------------------\n",
      "\n"
     ]
    }
   ],
   "source": [
    "Vp, Rp = var_p(data=data,weights=[0.3,0.3,0.4],vcov=vcov)\n",
    "print(f\"\"\"\n",
    "Riesgo del portafolio\n",
    "---------------------------------\n",
    "{(Vp)**(1/2)}\n",
    "---------------------------------\n",
    "\n",
    "Retorno del portafolio\n",
    "\n",
    "---------------------------------\n",
    "{Rp}\n",
    "---------------------------------\n",
    "Retorno / Riesgo del portafolio\n",
    "---------------------------------\n",
    "{Rp/((Vp)**(1/2))}\n",
    "---------------------------------\n",
    "\"\"\")"
   ]
  },
  {
   "cell_type": "markdown",
   "id": "c3dd0986",
   "metadata": {},
   "source": [
    "## Análisis Retorno / Riesgo N portafolios y frontera eficiente de Markowitz\n",
    "\n",
    "El conjunto de todos los N portafolios eficientes desarrolla una curva en el espacio media-varianza llamada \"frontera eficiente\""
   ]
  },
  {
   "cell_type": "code",
   "execution_count": 8,
   "id": "103b6619",
   "metadata": {},
   "outputs": [],
   "source": [
    "# 1 = w1 + w2 + w3\n",
    "weights = np.random.dirichlet(np.ones(3),size=100)\n",
    "RR = []\n",
    "for weight in weights:\n",
    "    Vp, Rp = var_p(data=data,weights=weight,vcov=vcov)\n",
    "    RR.append(((Vp)**(1/2),Rp))"
   ]
  },
  {
   "cell_type": "code",
   "execution_count": 9,
   "id": "da931ace",
   "metadata": {},
   "outputs": [
    {
     "data": {
      "image/png": "[encoded data removed]",
      "text/plain": [
       "<Figure size 720x504 with 1 Axes>"
      ]
     },
     "metadata": {},
     "output_type": "display_data"
    }
   ],
   "source": [
    "argmin = RR[np.argmin([i[0] for i in RR])]\n",
    "fig = plt.figure(figsize=(10,7))\n",
    "plt.scatter(x=[i[0] for i in RR], y = [i[1] for i in RR])\n",
    "plt.scatter(x=argmin[0],y=argmin[1],color=\"salmon\")\n",
    "plt.annotate(\"Portafolio de mínima varianza\",xy=(argmin[0],argmin[1]),xytext =(argmin[0]+0.0030, argmin[1]+0.0001), \n",
    "            arrowprops = dict(facecolor ='salmon',shrink = 0.05))\n",
    "plt.title(\"Análisis Retorno / Riesgo de 100 portafolios\")\n",
    "plt.xlabel(\"Riesgo\")\n",
    "plt.ylabel(\"Retorno\")\n",
    "plt.show()"
   ]
  },
  {
   "cell_type": "markdown",
   "id": "c7832597",
   "metadata": {},
   "source": [
    "## Líneas de Isocuantas (Isomean) caso 2 activos"
   ]
  },
  {
   "cell_type": "code",
   "execution_count": 10,
   "id": "00ce6874",
   "metadata": {},
   "outputs": [],
   "source": [
    "data = load_data(symbols=['TSLA','BAC'],start=\"2021-02-01\", end=\"2022-02-01\",plot=False)"
   ]
  },
  {
   "cell_type": "markdown",
   "id": "c7b446b3",
   "metadata": {},
   "source": [
    "Despejando $w_{2}$ de 3.1 obtenemos\n",
    "\n",
    "\\begin{align}\n",
    "w_{2} &= \\frac{E(r_{p})}{E(r_{2})} - \\frac{E(r_{1})}{E(r_{2})}w_{1}   \\\\\n",
    "\\end{align}\n",
    "\n",
    "Donde $w_{1}$, $w_{2}$ y $E(r_{p})$ son tres variables enódgenas desconocidas y $E(r_{1})$ $E(r_{2})$ son dos variables exógenas conocidas Existen infinitas combinaciones de $w_{1}$ y $w_{2}$ que permiten alcanzar un mismo nivel de retorno esperado $E(r_{p})$. Por tanto, existen infinitas líneas como combinaciones de $w_{1}$ y $w_{2}$ para un mismo retorno de portafolio dado."
   ]
  },
  {
   "cell_type": "code",
   "execution_count": 11,
   "id": "4a10de31",
   "metadata": {},
   "outputs": [
    {
     "name": "stderr",
     "output_type": "stream",
     "text": [
      "C:\\Users\\Laptop\\AppData\\Local\\Temp\\ipykernel_4648\\3400882454.py:6: RuntimeWarning: invalid value encountered in true_divide\n",
      "  w2 = (E_rp/E_r2) - (E_r1/E_r2)*w1\n"
     ]
    }
   ],
   "source": [
    "# Vamos a supones E(r_{p}) conocido\n",
    "E_rp = np.arange(0,1,0.01)\n",
    "E_r1 = np.arange(0,1,0.01)\n",
    "E_r2 = np.arange(0,1,0.01)\n",
    "w1 = np.arange(0,1,0.01)\n",
    "w2 = (E_rp/E_r2) - (E_r1/E_r2)*w1"
   ]
  },
  {
   "cell_type": "markdown",
   "id": "8f480cb0",
   "metadata": {},
   "source": [
    "## Líneas de isovariance caso 2 activos"
   ]
  },
  {
   "cell_type": "markdown",
   "id": "276c6825",
   "metadata": {},
   "source": [
    "de 3.5 sabemos que $\\sigma_{p}^{2} = w_{1}^{2}\\sigma_{1}^{2} + w_{2}^{2}\\sigma_{2}^{2} + 2w_{1}w_{2}\\sigma_{1,2}$"
   ]
  },
  {
   "cell_type": "code",
   "execution_count": 12,
   "id": "e77658dd",
   "metadata": {},
   "outputs": [],
   "source": [
    "sigma_p2 = w1*np.var(data['TSLA']) + w2*np.var(data['BAC']) + 2*w1*w2*data.cov().iloc[1,1]"
   ]
  },
  {
   "cell_type": "code",
   "execution_count": 13,
   "id": "00541555",
   "metadata": {},
   "outputs": [
    {
     "data": {
      "image/png": "[encoded data removed]",
      "text/plain": [
       "<Figure size 720x504 with 1 Axes>"
      ]
     },
     "metadata": {},
     "output_type": "display_data"
    }
   ],
   "source": [
    "import numpy as np\n",
    "from matplotlib import pyplot as plt\n",
    "from math import pi\n",
    "\n",
    "fig = plt.figure(figsize=(10,7))\n",
    "\n",
    "for sigmap in sigma_p2[1:4]:\n",
    "    u=0     #x-position of the center\n",
    "    v=0    #y-position of the center\n",
    "    a=sigmap*3000    #radius on the x-axis\n",
    "    b=sigmap*3000    #radius on the y-axis\n",
    "    t = np.linspace(0, 2*pi, 100)\n",
    "    plt.plot( u+a*np.cos(t) , v+b*np.sin(t),color=\"skyblue\")\n",
    "\n",
    "plt.plot(w1,w2, color=\"salmon\")\n",
    "plt.axhline(0,color=\"grey\")\n",
    "plt.axvline(0,color=\"grey\")\n",
    "plt.show()"
   ]
  },
  {
   "cell_type": "markdown",
   "id": "23e585ce",
   "metadata": {},
   "source": [
    "# Diversificación de Markowitz"
   ]
  },
  {
   "cell_type": "markdown",
   "id": "43576659",
   "metadata": {},
   "source": [
    "### Supuestos del modelo\n",
    " + No hay ventas en corto"
   ]
  },
  {
   "cell_type": "markdown",
   "id": "8c348f19",
   "metadata": {},
   "source": [
    "## Cálculo de los pesos w"
   ]
  },
  {
   "cell_type": "markdown",
   "id": "16458f96",
   "metadata": {},
   "source": [
    "Para obtener el valor exacto de w1 y w2, que me permiten obtener el portafolio de mínimza varianza igualamos a 0 la derivada de la varianza del portafolio $\\sigma_{p}^{2}$\n",
    "\n",
    "\n",
    "\\begin{align}\n",
    "0=\\frac{\\partial{\\sigma_{p}^{2}}}{\\partial{w_{1}}} &= \\frac{\\partial{}}{\\partial{w_{1}}} [w_{1}^{2}\\sigma_{1}^{2}+(1-w_{1})^{2}\\sigma_{2}^{2}+2w_{1}(1-w_{1})\\sigma_{1,2}]   \\\\\n",
    "&= 2w_{1}\\sigma_{1}^{2}-2(1-w_{1})^{2}\\sigma_{2}^{2} + 2(1-2w_{1})\\sigma_{1,2}\\\\\n",
    "w_{1}&=\\frac{\\sigma_{2}^{2}-\\sigma_{1,2}}{\\sigma_{1}^{2}+\\sigma_{2}^{2}-2\\sigma_{1,2}}\\\\\n",
    "w_{2}&= 1-w_{1}\n",
    "\\end{align}"
   ]
  },
  {
   "cell_type": "markdown",
   "id": "f5493778",
   "metadata": {},
   "source": [
    "## Diversificación\n",
    "\n",
    "En el sentido de Markowtiz, cuanto menor sea la correlación de los activos de una cartera, menos reisgosa será esa cartera. Por el contrario, cuanto más se acerca a $+1$ la correlación de los activos, más riesgosa será la cartera; veamos.\n",
    "\n",
    " + $E(r_{1}) = 0.05$ , $E(r_{2}) = 0.15$\n",
    " + $\\sigma_{1}=0.20$ , $\\sigma_{2}=0.40$\n",
    " + $w_{1mvp} = 2/3$ , $w_{1mvp} = 1/3$"
   ]
  },
  {
   "cell_type": "code",
   "execution_count": 14,
   "id": "0e6bd418",
   "metadata": {},
   "outputs": [],
   "source": [
    "E_r1 = 0.05\n",
    "E_r2 = 0.15\n",
    "sigma_1 = 0.2\n",
    "sigma_2 = 0.4\n",
    "w1 = 2/3\n",
    "w2 = 1/3"
   ]
  },
  {
   "cell_type": "code",
   "execution_count": 15,
   "id": "2cc4057f",
   "metadata": {},
   "outputs": [],
   "source": [
    "E_rp = w1*E_r1 + w2*E_r2\n",
    "sigma_p1m = (w1**2)*(sigma_1)**2+(w2**2)*(sigma_2**2)\n",
    "sigma_p2m = 2*((2/3)*(1/3))*(0.2)*(0.4)"
   ]
  },
  {
   "cell_type": "code",
   "execution_count": 16,
   "id": "0fff2a4f",
   "metadata": {},
   "outputs": [
    {
     "name": "stdout",
     "output_type": "stream",
     "text": [
      "Si el coeficiente de correlación es 1, entonces la varianza del portafolio es \n",
      " 0.2667 \n",
      "\n",
      "Si el coeficiente de correlación es 0, entonces la varianza del portafolio es \n",
      " 0.1886 \n",
      "\n",
      "Si el coeficiente de correlación es -1, entonces la varianza del portafolio es \n",
      " 0.0 \n",
      "\n"
     ]
    }
   ],
   "source": [
    "rho = [1,0,-1]\n",
    "for r in rho:\n",
    "    print(f\"Si el coeficiente de correlación es {r}, entonces la varianza del portafolio es\",\"\\n\",\n",
    "          round((sigma_p1m+(sigma_p2m*r))**(1/2),4),\"\\n\")"
   ]
  },
  {
   "cell_type": "markdown",
   "id": "e92f0b15",
   "metadata": {},
   "source": []
  },
  {
   "cell_type": "markdown",
   "id": "923c71a7",
   "metadata": {},
   "source": [
    "# Modelo media varianza MV"
   ]
  },
  {
   "cell_type": "markdown",
   "id": "9a8468f8",
   "metadata": {},
   "source": [
    "## Ejercicio pre-parcial"
   ]
  },
  {
   "cell_type": "code",
   "execution_count": 21,
   "id": "85390e92",
   "metadata": {},
   "outputs": [],
   "source": [
    "# symbols = [\"TSLA\",\"BAC\",\"MA\",\"KO\",\"F\"]\n",
    "# # data = load_data(symbols=symbols, start='2011-02-01', end=\"2022-02-01\",plot=False)\n",
    "# data = pd.DataFrame({})\n",
    "# for symbol in symbols:\n",
    "#     data_temp = yf.download(symbol, start='2011-01-02', end='2022-01-02',progress=False)\n",
    "#     data_temp = data_temp[['Adj Close']]\n",
    "#     data = pd.concat([data,data_temp],axis=1)\n",
    "# data.columns=symbols\n",
    "\n",
    "# data = data.resample(\"M\").last()"
   ]
  },
  {
   "cell_type": "code",
   "execution_count": 22,
   "id": "cef0bc87",
   "metadata": {},
   "outputs": [
    {
     "data": {
      "image/png": "[encoded data removed]",
      "text/plain": [
       "<Figure size 720x504 with 1 Axes>"
      ]
     },
     "metadata": {},
     "output_type": "display_data"
    }
   ],
   "source": [
    "# data.plot(figsize=(10,7))\n",
    "# plt.show()"
   ]
  },
  {
   "cell_type": "code",
   "execution_count": 62,
   "id": "bb1ba247",
   "metadata": {},
   "outputs": [],
   "source": [
    "# data = load_data(symbols=[\"TSLA\",\"BAC\",\"MA\",\"KO\",\"F\"], start='2011-02-01',end='2022-02-01',plot=True)\n",
    "# data = np.log(data) - np.log(data.shift(1))\n",
    "# data = data.dropna()"
   ]
  },
  {
   "cell_type": "code",
   "execution_count": 123,
   "id": "a759f65a",
   "metadata": {},
   "outputs": [],
   "source": [
    "retornos = pd.read_excel(\"./datasets/retornos.xlsx\")"
   ]
  },
  {
   "cell_type": "code",
   "execution_count": 8,
   "id": "52fa31e3",
   "metadata": {},
   "outputs": [],
   "source": [
    "# matriz de varianzas y covarianzas\n",
    "vcov, corr = np.matrix(data.cov()) , np.matrix(data.corr())\n",
    "\n",
    "# retorno esperado de los activos\n",
    "E_ri = data.agg(np.mean)\n",
    "\n",
    "# varianza y desviación estándar de los activos\n",
    "var_i = np.diag(vcov)\n",
    "sigma_i = np.sqrt(var_i)"
   ]
  },
  {
   "cell_type": "markdown",
   "id": "d9a80ac0",
   "metadata": {},
   "source": [
    "### Construcción de los portafolios óptimos\n",
    "\n",
    "> Francis, J. Dongcheol, K. (2013). Modern portfolio theory: fundations, analysis and new developments. Wiley. Cap 7\n",
    "\n",
    "El problema de optimización se centra en la minimización de la varianza del portafolio. esto es\n",
    "\n",
    "\\begin{align*}\n",
    "    min \\quad \\sigma_{p}^{2} &= \\sum_{i=1}^{n}\\sum_{j=1}^{n} w_{i}w_{j}\\sigma_{ij}\n",
    "\\end{align*}\n",
    "\n",
    "Sujeto, por el momento, a dos restricciónes. La primera implica alguna retorno esperado objetivo deseado, $E(r_{p})$, que el portafolio debe alcanzar. Esto implica\n",
    "\n",
    "\\begin{align*}\n",
    "    \\sum_{i=1}^{n}w_{i}E(r_{i}) &= E(r_{p})\n",
    "\\end{align*}\n",
    "\n",
    "La segunda restricción implica que la suma de las ponderaciones es igual a 1, esto quiere decir que no esta permitido el apalancamiento.\n",
    "\n",
    "\\begin{align*}\n",
    "    \\sum_{i=1}^{n}w_{i} &= 1\n",
    "\\end{align*}\n",
    "\n",
    "Note que las ventas en corto (pesos negativos) son permitidas.\n",
    "\n",
    "Nuestro problema de optimización se reescribe como\n",
    "\\begin{align*}\n",
    "    \\min L &= \\frac{1}{2}\\sum_{i=1}^{n}\\sum_{j=1}^{n}w_{i}w_{j}\\sigma_{ij}+\\lambda\\left[ E(r_{p}) - \\sigma_{i=1}^{n}w_{i}E(r_{i})\\right] + \\gamma \\left(1- \\sigma_{i=1}^{n}w_{i} \\right)\n",
    "\\end{align*}"
   ]
  },
  {
   "cell_type": "markdown",
   "id": "935ef225",
   "metadata": {},
   "source": [
    "Reescribiendo nuestro problema de optimización de forma matricial obtenemos\n",
    "\n",
    "\n",
    "Sea \n",
    "\\begin{align}\n",
    "\\sum_{i=1}^{n}w_{i}E(r_{i}) = E(r_{p})  \\quad & \\rightarrow \\quad \\boldsymbol{w'} \\boldsymbol{E} = E(r_{p}) \\quad (7.2a)\\\\\n",
    "\\sum_{i=1}^{n}w_{i} = 1\\quad & \\rightarrow \\quad \\boldsymbol{w'}1 = 1 \\quad (2.11a) \n",
    "\\end{align}\n",
    "\n",
    "Dónde $\\boldsymbol{w'} = (w_{1},w_{2},w_{3},...,w_{n})$ es el vector de ponderaciones de $n$ los n activos, $\\boldsymbol{E'} = [E(r_{1}), E(r_{2}),...,E(r_{n})]$ es el vector de retornos esperados de los $n$ activos, y $1' = (1,1,...,1)$ es un vector de tamaño $n$ de unos. La función objetivo puede ser transformada de la siguiente manera\n",
    "\n",
    "\n",
    "\\begin{align}\n",
    "\\min_{\\sigma_{i},\\sigma_{j}} \\quad \\sigma_{p}^{2} = \\sum_{i=1}^{n}\\sum_{j=1}^{n}w_{i}w_{j}\\sigma_{i,j} \\quad \\rightarrow \\min_{\\boldsymbol{w'},\\boldsymbol{w}} \\quad \\sigma_{p}^{2} = \\boldsymbol{w'}\\Sigma    \\boldsymbol{w} \\quad(7.1a)\n",
    "\\end{align}\n",
    "\n",
    "Dónde $\\Sigma$ es la matriz $(n\\times n)$ de varianzas y covarianzas.\n",
    "\n",
    "El problema de optimización, usando notación matricial es\n",
    "\\begin{align}\n",
    "\\min \\quad  L&=\\frac{1}{2}\\boldsymbol{w'}\\Sigma \\boldsymbol{w} \\quad (7.1a) \\\\\n",
    "\\textrm{s.t.} \\quad \\boldsymbol{w'}\\boldsymbol{E} &= E(r_{p}) \\quad (7.2a)\\\\\n",
    "                                \\boldsymbol{w'}1&= 1 \\quad (2.11a)\n",
    "\\end{align}\n",
    "\n",
    "la constante $\\frac{1}{2}$ multiplica la función objetivo solo por simplicidad computacional y de escritura\n",
    "\n",
    "\n",
    "### Restricciones de igualdad\n",
    "Como las restricciónes son igualdades, entonces planteamos el lagrangiano de la siguiente manera\n",
    "\\begin{align}\n",
    "\\min \\quad L &= \\frac{1}{2}\\boldsymbol{w'}\\Sigma\\boldsymbol{w}+\\lambda [E(r_{p}) - \\boldsymbol{w'}\\boldsymbol{E}] + \\gamma(1-\\boldsymbol{w'}1) \\quad (7.3a)\n",
    "\\end{align}\n",
    "\n",
    "Dponda $\\lambda$ y $\\gamma$ son los multiplicadores de Lagrange. Derivando parcialmente respecto a cada variable desconocida e igualando a 0 obtenemos las condiciones de primer orden \n",
    "\n",
    "\\begin{align}\n",
    "\\frac{\\partial L}{\\partial \\boldsymbol{w}} &= \\Sigma \\boldsymbol{w} - \\lambda \\boldsymbol{E} -\\gamma 1 = 0 \\quad (7.4a)\\\\\n",
    "\\\\\n",
    "\\frac{\\partial L}{\\partial \\lambda} &= E(r_{p}) - \\boldsymbol{w'} \\boldsymbol{E} = 0 \\quad (7.4a)\\\\\n",
    "\\\\\n",
    "\\frac{\\partial L}{\\partial \\gamma} &=1- \\boldsymbol{w'}1 = 0 \\quad (7.4a)\n",
    "\\end{align}\n",
    "\n",
    "Dónde $0$ es un vector de ceros de tamaño $n$. Sí la matriz de varianzas y covarianzas es definida positiva (convexa y monotónicamente creciente en todo su dominio) entonces las condiciones de primer orden son necesarias y sufcientes para un óptimo global. (Francis, Kim. p. 141)\n",
    "\n",
    "despejando $\\boldsymbol{w}$ de la primera ecuación obtenemos, \n",
    "\\begin{align*}\n",
    "    \\boldsymbol{w} &= \\lambda \\Sigma^{-1}E + \\gamma\\Sigma^{-1}1\n",
    "\\end{align*}\n",
    "\n",
    "Resolviendo la segunda y tercer condición de primer orden para $\\lambda$ y $\\gamma$\n",
    "\n",
    "\\begin{align*}\n",
    "    \\lambda &= \\frac{CE(r_{p})-A}{D}\\\\\n",
    "    \\gamma  &= \\frac{B-AE(r_{p})}{D}\n",
    "\\end{align*}\n",
    "\n",
    "Donde \n",
    "\n",
    "\\begin{align*}\n",
    "    A &= 1'\\Sigma^{-1}E \\quad &B = E'\\Sigma^{-1}E\\\\\n",
    "    C &= 1'\\Sigma^{-1}1 \\quad &D = BC - A^{2}\n",
    "\\end{align*}\n",
    "\n",
    "La inversa de una matriz definida positiva es también definida positiva, por lo tanto $B > 0$ y $C > 0$. Por la desigualdad de Cauchy-Schwarz, $BC > A^{2}$. Por ende, $D > 0$, reemplazando en $\\boldsymbol{w}$ obtenemos\n",
    "\n",
    "\\begin{align*}\n",
    "    \\boldsymbol{w_{p}} &= \\left[ \\frac{CE(r_{p})-A}{D}\\right] \\Sigma^{-1}E + \\left[\\frac{B-AE(r_{p})}{D} \\right]\\Sigma^{-1}1\\\\\n",
    "    &= g + hE(r_{p})\n",
    "\\end{align*}\n",
    "\n",
    "Donde\n",
    "\\begin{align*}\n",
    "    g &= \\frac{1}{D}(B\\Sigma^{-1}1 - A\\Sigma^{-1}E)\\\\\n",
    "    h &= \\frac{1}{D}(C\\Sigma^{-1}E - A\\Sigma^{-1}1)\n",
    "\\end{align*}\n",
    "\n",
    "\n",
    "Por último, las ponderaciones o pesos óptimos del portafolio de media varianza son representados como una función lineal dado un retorno esperado $E(r_{p})$ ya que $g$ y $h$ son constantes.\n",
    "\n"
   ]
  },
  {
   "cell_type": "code",
   "execution_count": 5,
   "id": "9260abce",
   "metadata": {},
   "outputs": [],
   "source": [
    "def mv(retornos,r_target=None):\n",
    "    E_ri = retornos.agg(np.mean)\n",
    "    vcov = retornos.cov()\n",
    "    \n",
    "    n = len(E_ri)\n",
    "    ones = np.ones(n)\n",
    "    \n",
    "    # A = 1'\\Sigma^{-1}E\n",
    "    A = np.transpose(ones) @ np.linalg.inv(vcov) @ E_ri\n",
    "    # B = E'\\Sigma{-1}E\n",
    "    B = np.transpose(E_ri) @ np.linalg.inv(vcov) @ E_ri\n",
    "    # C = 1'\\Sigma^{-1}1\n",
    "    C = np.transpose(ones) @ np.linalg.inv(vcov) @ ones\n",
    "    # D = BC - A^{2}\n",
    "    D = B*C - A**2\n",
    "\n",
    "    #g\n",
    "    g = (1/D) * ((B * np.linalg.solve(vcov,ones))-(A * np.linalg.solve(vcov,E_ri)))\n",
    "    #h\n",
    "    h = (1/D) * ((C * np.linalg.solve(vcov,E_ri))-(A * np.linalg.solve(vcov,ones)))\n",
    "\n",
    "    # reemplazando obtenemos las ponderaciones óptimas del portafolio wp\n",
    "    # Asumimos como valor esperado del portafolio \n",
    "    \n",
    "    if r_target != None:\n",
    "        wp = g + h*r_target\n",
    "    else:\n",
    "        wp = np.linalg.solve(vcov,ones) * 1/C\n",
    "\n",
    "    # Hallamos el retorno y riesgo óptimo\n",
    "    rp = np.transpose(wp) @ E_ri\n",
    "    sigma = np.sqrt(np.transpose(wp)@vcov@wp)\n",
    "\n",
    "    return {'g':g,'h':h,'rp':rp,'sigma':sigma,'wp':wp}"
   ]
  },
  {
   "cell_type": "markdown",
   "id": "60567feb",
   "metadata": {},
   "source": [
    "## Simulación de la frontera eficiente "
   ]
  },
  {
   "cell_type": "code",
   "execution_count": 215,
   "id": "5fe01889",
   "metadata": {},
   "outputs": [],
   "source": [
    "retornos = pd.read_excel(\"./datasets/retornos.xlsx\")\n",
    "E_ri = retornos.agg(np.mean)\n",
    "n = len(E_ri)\n",
    "vcov = retornos.cov(ddof = 1)\n",
    "sigma_i = np.sqrt(np.diag(vcov))\n",
    "\n",
    "g = mv(retornos)['g']\n",
    "h = mv(retornos)['h']\n",
    "\n",
    "rp = np.linspace(start=np.min(E_ri), stop=np.max(E_ri),num=1000)\n",
    "wpo = np.zeros((1000,n))\n",
    "sigmapo = np.zeros(1000)\n",
    "rpo = np.zeros(1000)\n",
    "for i in range(1,1000):\n",
    "    wi = g+h*rp[i]\n",
    "    sigmapo[i] = np.sqrt(wi@vcov@np.transpose(wi))\n",
    "    rpo[i] = wi @ E_ri\n",
    "    wpo[i] = wi"
   ]
  },
  {
   "cell_type": "markdown",
   "id": "12903e43",
   "metadata": {},
   "source": [
    "### Portafolio de mínima varianza\n"
   ]
  },
  {
   "cell_type": "code",
   "execution_count": 222,
   "id": "742c530c",
   "metadata": {},
   "outputs": [
    {
     "data": {
      "image/png": "[encoded data removed]",
      "text/plain": [
       "<Figure size 720x504 with 1 Axes>"
      ]
     },
     "metadata": {},
     "output_type": "display_data"
    }
   ],
   "source": [
    "# sin ventas en corto\n",
    "ones = np.ones(n)\n",
    "C = np.transpose(ones) @ np.linalg.inv(vcov) @ ones\n",
    "\n",
    "# wpmv = np.linalg.solve(vcov,ones) * 1/C\n",
    "wpmv = mv(retornos)['wp']\n",
    "rpmv = np.transpose(wpmv) @ E_ri\n",
    "sigmapmv = np.sqrt(np.transpose(wpmv) @ vcov @wpmv)\n",
    "\n",
    "fig_pmv = plt.figure(figsize=(10,7))\n",
    "plt.scatter(sigma_i,E_ri, color=\"blue\")\n",
    "plt.scatter(sigmapo,rpo,color=\"skyblue\",s=8)\n",
    "plt.scatter(sigmapmv,rpmv, color=\"salmon\", s=100)\n",
    "plt.annotate(\"PMV\",xy=(sigmapmv,rpmv),xytext =(sigmapmv-0.010, rpmv))\n",
    "plt.show()"
   ]
  },
  {
   "cell_type": "code",
   "execution_count": 189,
   "id": "373b618b",
   "metadata": {},
   "outputs": [
    {
     "name": "stdout",
     "output_type": "stream",
     "text": [
      "\n",
      "Pesos del portafolio de mínima varianza\n",
      "[0.01256769 0.03918566 0.15642168 0.68132421 0.11050076]\n",
      "----------------------------------------\n",
      "Retorno del portafolio de mínima varianza\n",
      "0.010009760400708013\n",
      "----------------------------------------\n",
      "Variaza del portafolio de mínima varianza\n",
      "0.04253454268936412\n",
      "\n"
     ]
    }
   ],
   "source": [
    "print(f\"\"\"\n",
    "Pesos del portafolio de mínima varianza\n",
    "{wpmv}\n",
    "----------------------------------------\n",
    "Retorno del portafolio de mínima varianza\n",
    "{rpmv}\n",
    "----------------------------------------\n",
    "Variaza del portafolio de mínima varianza\n",
    "{sigmapmv}\n",
    "\"\"\")"
   ]
  },
  {
   "cell_type": "markdown",
   "id": "2600a3f6",
   "metadata": {},
   "source": [
    "# Teoría de Sharpe\n",
    "Maximización de la recta tangente"
   ]
  },
  {
   "cell_type": "markdown",
   "id": "88b5b598",
   "metadata": {},
   "source": [
    "## Combinación de portafolios"
   ]
  },
  {
   "cell_type": "markdown",
   "id": "154da139",
   "metadata": {},
   "source": [
    "\\begin{align}\n",
    "E(R_{q}) &= \\alpha E(r_{p_{1}}) + (1-\\alpha)E(r_{p_{2}}) \\\\\n",
    "\\end{align}\n",
    "\n",
    "Los pesos se determinan como\n",
    "\n",
    "\\begin{align}\n",
    "w_{q} &= \\alpha w_{p_{1}} + (a-\\alpha)w_{p_{2}}\\\\\n",
    "      &= \\alpha[g+hE(r_{p_{1}})]+(1-\\alpha)[g+hE(r_{p_{2}})]\\\\\n",
    "      &= g + hE(r_{p_{q}})\n",
    "\\end{align}"
   ]
  },
  {
   "cell_type": "markdown",
   "id": "3c4d6c2e",
   "metadata": {},
   "source": [
    "## Frontera eficiente con el activo libre de riesgo\n",
    "Dado un activo libre de riesgo su rendimiento está dado por una tasa libre de riesgo $r_{f}$ \n",
    "\n",
    "Partiendo del problema de minimización de la varianza \n",
    "\n",
    "\\begin{align}\n",
    "min \\quad Var(r_{p_{q}})\n",
    "\\end{align}"
   ]
  },
  {
   "cell_type": "code",
   "execution_count": 190,
   "id": "009366c9",
   "metadata": {},
   "outputs": [
    {
     "data": {
      "image/png": "[encoded data removed]",
      "text/plain": [
       "<Figure size 720x504 with 1 Axes>"
      ]
     },
     "metadata": {},
     "output_type": "display_data"
    }
   ],
   "source": [
    "fig = plt.figure(figsize=(10,7))\n",
    "plt.bar([\"TSLA\",\"BAC\",\"MA\",\"KO\",\"F\"],np.squeeze(np.asarray(wpmv)))\n",
    "plt.show()"
   ]
  },
  {
   "cell_type": "code",
   "execution_count": 7,
   "id": "ca6d77ab",
   "metadata": {},
   "outputs": [],
   "source": [
    "def sharpe(retornos):\n",
    "    #Retornos esperados\n",
    "    E_ri = retornos.agg(np.average)\n",
    "    #Matriz de covarianzas\n",
    "    cov = np.matrix(retornos.cov())\n",
    "\n",
    "    # Adición del activo libre de riesgo\n",
    "    rf = 0 # suponemos un activo libre de riesgo que rinde al 0%\n",
    "    er = E_ri - rf\n",
    "    #zi\n",
    "    zi = np.linalg.solve(cov,er)\n",
    "    #wpt\n",
    "    wpt = zi/sum(zi)\n",
    "    #rpt\n",
    "    rpt = wpt @ E_ri\n",
    "    #sigmapt\n",
    "    sigmapt = np.sqrt(wpt@cov@np.transpose(wpt))\n",
    "\n",
    "    return {'rpt':rpt,'sigmapt':sigmapt,'wpt':wpt}"
   ]
  },
  {
   "cell_type": "code",
   "execution_count": 194,
   "id": "103f63b3",
   "metadata": {},
   "outputs": [
    {
     "data": {
      "image/png": "[encoded data removed]",
      "text/plain": [
       "<Figure size 720x504 with 1 Axes>"
      ]
     },
     "metadata": {},
     "output_type": "display_data"
    }
   ],
   "source": [
    "retornos = pd.read_excel(\"./datasets/retornos.xlsx\")\n",
    "rpt, sigmapt, wpt =  sharpe(retornos).values()\n",
    "fig = plt.figure(figsize=(10,7))\n",
    "plt.bar([\"TSLA\",\"BAC\",\"MA\",\"KO\",\"F\"],wpt)\n",
    "plt.show()"
   ]
  },
  {
   "cell_type": "markdown",
   "id": "d93c3227",
   "metadata": {},
   "source": [
    "## Coeficiente de sharpe\n",
    "\n",
    "$$\n",
    "\\frac{E(r_{p})-r_{p}}{\\sigma_{p}}\n",
    "$$\n",
    "\n",
    "Cuanta rentabilidad te está dado cada portafolio por unidad de riesgo\n",
    "\n",
    "preguntas linea 224 y 309"
   ]
  },
  {
   "cell_type": "markdown",
   "id": "64eb2dee",
   "metadata": {},
   "source": [
    "## Linea del mercado de capitales\n",
    "$$\n",
    "E(r_{p}) = r_{f} + \\frac{E(r_{p})-r_{f}}{\\sigma_{m}}\\sigma_{p}\n",
    "$$"
   ]
  },
  {
   "cell_type": "markdown",
   "id": "e53f0fc6",
   "metadata": {},
   "source": [
    "# Ventas en corto\n",
    "## Optimización Cuadrática"
   ]
  },
  {
   "cell_type": "code",
   "execution_count": 6,
   "id": "2b0d45e3",
   "metadata": {},
   "outputs": [],
   "source": [
    "def solvers_qp(vcov,mu,optimal_portfolio,inequality=False,):\n",
    "    \"\"\"\n",
    "    Definimos la función solvers_qp que utiliza el solvers.qp del módulo cvxopt\n",
    "\n",
    "    Optimiza un problema de la forma \n",
    "\n",
    "    min (1/2)x'Px + q'x\n",
    "    s.a Gx <= h\n",
    "        Ax = b\n",
    "\n",
    "    Si adaptamos esta optimización a nuestro ejercicio de optimización del\n",
    "    portafolio óptimo entonces tenemos que \n",
    "    \n",
    "    Si inequality = False\n",
    "\n",
    "        min L = (1/2)w'Pw\n",
    "        s.a w'E = E(rp)\n",
    "            w'1 = 1\n",
    "    Si inequality = True\n",
    "\n",
    "        min L = (1/2)w'Pw\n",
    "        s.a w'E = E(rp)\n",
    "            w'1 >= 0\n",
    "    \n",
    "    Es decir, podemos restringir la optimización para que la suma de las ponderaciones\n",
    "    sea uno o bien, para que sea no negativa \n",
    "\n",
    "    Parámetros:\n",
    "    -------------------------------------------------------------------\n",
    "\n",
    "    vcov : Matriz (n x n) de varianzas y covarianzas\n",
    "\n",
    "\n",
    "    mu : vector de tamaño (n,) de los retornos esperados de los n activos\n",
    "\n",
    "    optimal_portfolio : Valor del retorno óptimo, este debe estar dentro de la frontera eficiente\n",
    "                        puede ser el retorno del portafolio de mínima varianza global, el portafolio\n",
    "                        óptimo de sharpe, o cualquier otro. \n",
    "\n",
    "    inequality : bool , default = False si w'1 = 1 o True si w'1 >= 0\n",
    "\n",
    "    Ejemplo: \n",
    "    -------------------------------------------------------------------\n",
    "    vcov : (5x5)\n",
    "\n",
    "        [[0.02450049 0.00388752 0.00228452 0.00095474 0.00308689]\n",
    "        [0.00388752 0.00874613 0.00182295 0.00094029 0.00445079]\n",
    "        [0.00228452 0.00182295 0.00385652 0.00142886 0.00119709]\n",
    "        [0.00095474 0.00094029 0.00142886 0.0021134  0.00087716]\n",
    "        [0.00308689 0.00445079 0.00119709 0.00087716 0.00734027]]\n",
    "    mu : (5,)\n",
    "    \n",
    "        [0.04029284 0.01008825 0.02163079 0.00754402 0.00529053]\n",
    "\n",
    "    optimal_portfolio : rpmv\n",
    "\n",
    "        [0.01000976]\n",
    "\n",
    "    inequality : False\n",
    "\n",
    "    [in] solv = solvers_qp(vcov = vcov, mu = mu, optimal_portfolio=rpt, inequality=True)\n",
    "        print(solv)\n",
    "\n",
    "    [out]\n",
    "        [ 1.26e-02]\n",
    "        [ 3.92e-02]\n",
    "        [ 1.56e-01]\n",
    "        [ 6.81e-01]\n",
    "        [ 1.10e-01] \n",
    "    \"\"\"\n",
    "    n = len(mu)\n",
    "    if inequality == False:\n",
    "        P = matrix(vcov)\n",
    "        q = matrix(np.zeros((n,1)))\n",
    "        G = matrix(np.concatenate((\n",
    "            -np.transpose(np.array(mu)).reshape((n,1)),\n",
    "            -np.ones(n).reshape(n,1)),1).T)\n",
    "        h = matrix(-np.array([optimal_portfolio,[1]]))\n",
    "    elif inequality == True:\n",
    "        P = matrix(vcov)\n",
    "        q = matrix(np.zeros((n,1)))\n",
    "        G = matrix(np.concatenate((\n",
    "            -np.transpose(np.array(mu)).reshape((n,1)),\n",
    "            -np.ones(n).reshape(n,1),\n",
    "            -np.diag(np.full(n,1))),1).T)\n",
    "        h = matrix(-np.concatenate((\n",
    "            np.array([optimal_portfolio,[1]]),\n",
    "            np.zeros(n).reshape(n,1)),0))\n",
    "\n",
    "    response = np.array(solvers.qp(P=P,q=q,G=G,h=h,show_progress=False)['x']).reshape(-1)\n",
    "    return response"
   ]
  },
  {
   "cell_type": "code",
   "execution_count": 234,
   "id": "3ec3d0de",
   "metadata": {},
   "outputs": [
    {
     "name": "stdout",
     "output_type": "stream",
     "text": [
      "     pcost       dcost       gap    pres   dres\n",
      " 0:  1.2076e-03 -6.0967e-01  9e+00  3e+00  5e+00\n",
      " 1:  1.1458e-02 -1.3223e+00  2e+00  7e-01  1e+00\n",
      " 2:  2.8170e-02 -1.0952e-01  1e-01  3e-02  6e-02\n",
      " 3:  1.1640e-02 -7.6151e-03  2e-02  7e-16  6e-18\n",
      " 4:  2.3644e-03 -3.0778e-04  3e-03  2e-16  4e-18\n",
      " 5:  1.0438e-03  6.5133e-04  4e-04  3e-16  2e-18\n",
      " 6:  9.2586e-04  8.6653e-04  6e-05  3e-17  1e-17\n",
      " 7:  9.0711e-04  9.0047e-04  7e-06  2e-16  5e-18\n",
      " 8:  9.0492e-04  9.0418e-04  7e-07  2e-17  1e-16\n",
      " 9:  9.0464e-04  9.0454e-04  1e-07  2e-16  7e-16\n",
      "Optimal solution found.\n",
      "     pcost       dcost       gap    pres   dres\n",
      " 0:  9.0348e-04  9.4663e-04  8e-03  1e+00  2e-16\n",
      " 1:  9.0613e-04  9.4713e-04  9e-05  2e-02  3e-18\n",
      " 2:  9.1303e-04  9.8381e-04  1e-05  8e-03  2e-18\n",
      " 3:  1.2773e-03  1.1290e-03  1e-04  2e-16  2e-17\n",
      " 4:  1.1504e-03  1.1430e-03  7e-06  3e-18  7e-18\n",
      " 5:  1.1431e-03  1.1430e-03  8e-08  2e-16  4e-18\n",
      "Optimal solution found.\n",
      "     pcost       dcost       gap    pres   dres\n",
      " 0:  9.1576e-04  1.1967e-03  2e-02  1e+00  1e-16\n",
      " 1:  9.2098e-04  1.2057e-03  2e-04  4e-02  3e-18\n",
      " 2:  1.0719e-03  1.7711e-03  3e-05  2e-02  5e-18\n",
      " 3:  2.6360e-03  2.5631e-03  9e-05  1e-04  8e-17\n",
      " 4:  2.5644e-03  2.5636e-03  9e-07  1e-06  1e-18\n",
      " 5:  2.5637e-03  2.5636e-03  1e-08  1e-08  2e-18\n",
      "Optimal solution found.\n",
      "     pcost       dcost       gap    pres   dres\n",
      " 0:  1.2097e-03 -5.8858e-01  9e+00  3e+00  5e+00\n",
      " 1:  1.1473e-02 -1.3011e+00  2e+00  7e-01  1e+00\n",
      " 2:  2.8588e-02 -1.0268e-01  1e-01  4e-02  6e-02\n",
      " 3:  1.4332e-02 -5.1668e-03  2e-02  6e-16  1e-17\n",
      " 4:  4.0800e-03  1.7220e-03  2e-03  2e-16  7e-18\n",
      " 5:  2.7574e-03  2.5308e-03  2e-04  1e-16  2e-18\n",
      " 6:  2.6278e-03  2.6041e-03  2e-05  6e-17  3e-17\n",
      " 7:  2.6141e-03  2.6131e-03  1e-06  2e-16  2e-16\n",
      " 8:  2.6137e-03  2.6137e-03  1e-08  1e-16  2e-16\n",
      "Optimal solution found.\n"
     ]
    },
    {
     "data": {
      "image/png": "[encoded data removed]",
      "text/plain": [
       "<Figure size 1440x720 with 4 Axes>"
      ]
     },
     "metadata": {},
     "output_type": "display_data"
    }
   ],
   "source": [
    "retornos = pd.read_excel(\"./datasets/retornos.xlsx\")\n",
    "E_ri = retornos.agg(np.mean)\n",
    "vcov = np.asmatrix(retornos.cov())\n",
    "\n",
    "rpmv = np.asarray([mv(retornos)['rp']])\n",
    "Rtarget = np.asarray([mv(retornos,r_target = E_ri.mean())['rp']])\n",
    "rpt = np.asarray([sharpe(retornos)['rpt']])\n",
    "\n",
    "mu = E_ri\n",
    "returns = retornos\n",
    "\n",
    "solv_nwi_pmv = solvers_qp(vcov   = vcov, mu = mu, optimal_portfolio=rpmv, inequality=True)\n",
    "solv_wi_target = solvers_qp(vcov = vcov, mu = mu, optimal_portfolio=Rtarget, inequality=False)\n",
    "solv_nwi_ps = solvers_qp(vcov    = vcov, mu = mu, optimal_portfolio=rpt, inequality=False)\n",
    "solv_wi_ps = solvers_qp(vcov     = vcov, mu = mu, optimal_portfolio=rpt, inequality=True)\n",
    "\n",
    "#PMVg con restricción\n",
    "fig, axes = plt.subplots(2,2,figsize=(20,10), sharey=True)\n",
    "ax1 = sns.barplot(ax=axes[0,0],x=returns.columns,y=solv_nwi_pmv)\n",
    "for p,name in zip(ax1.patches,returns.columns):\n",
    "    ax1.annotate(name,(p.get_x() + p.get_width() / 2., p.get_height()),\n",
    "                ha='center', va='center',\n",
    "                xytext=(0, 7), textcoords='offset points')\n",
    "ax1.set(xticklabels=[])\n",
    "ax1.set_title('PMVg con restricción wi')\n",
    "\n",
    "#Portafolio objetivo sin restricción\n",
    "ax2 = sns.barplot(ax=axes[0,1],x=returns.columns,y=solv_wi_target)\n",
    "for p,name in zip(ax2.patches,returns.columns):\n",
    "    ax2.annotate(name,(p.get_x() + p.get_width() / 2., p.get_height()),\n",
    "                ha='center', va='center',\n",
    "                xytext=(0, 7), textcoords='offset points')\n",
    "ax2.set(xticklabels=[])\n",
    "ax2.set_title('Portafolio objetivo sin restricción wi')\n",
    "\n",
    "#Portafolio de sharpe sin restricción\n",
    "ax3 = sns.barplot(ax=axes[1,0],x=returns.columns,y=solv_nwi_ps)\n",
    "for p,name in zip(ax3.patches,returns.columns):\n",
    "    ax3.annotate(name,(p.get_x() + p.get_width() / 2., p.get_height()),\n",
    "                ha='center', va='center',\n",
    "                xytext=(0, 7), textcoords='offset points')\n",
    "ax3.set(xticklabels=[])\n",
    "ax3.set_title('Portafolio de Sharpe sin restricción wi')\n",
    "\n",
    "#Portafolio de Sharpe con restricción\n",
    "ax4 = sns.barplot(ax=axes[1,1],x=returns.columns,y=solv_wi_ps)\n",
    "for p,name in zip(ax4.patches,returns.columns):\n",
    "    ax4.annotate(name,(p.get_x() + p.get_width() / 2., p.get_height()),\n",
    "                ha='center', va='center',\n",
    "                xytext=(0, 7), textcoords='offset points')\n",
    "ax4.set(xticklabels=[])\n",
    "ax4.set_title('Portafolio de Sharpe con restricción wi')\n",
    "fig.tight_layout(pad=2.0)\n",
    "plt.show()"
   ]
  },
  {
   "cell_type": "markdown",
   "id": "aa2fbe3e",
   "metadata": {},
   "source": [
    "# CAPM\n",
    ">  ***The Capital Asset Pricing Model***. Clarck, J. Dongcheol, K. (2013). ***Modern portafolio theory, fundations, analysis and new developments*** Wiley. Cap 12. \n",
    "\n",
    "\"El modelo CAPM también es conocido como el modelo (SML) o línea segura del mercado\" (ibíd, p 291)\n",
    "\n",
    "## Supuestos del modelo CAPM\n",
    "\n",
    "    1. Los inversores son aversos al riesgo y maximizan su utilidad espereda de los retornos sobre un horizonte de tiempo de un período\n",
    "    2. Los inversores construyen sus portafolios solo con base en la media y varianza de ls riqueza final, o lo que es lo mismo, tasas de retorno asociadas a los portafolios alternativos.\n",
    "    3. Estas tasas de rendimiento asociadas a estos portafolios son numeros finitos, que existen y pueden ser medidos y estimados.\n",
    "    4. Todos los activos de capital son infitnamente divisibles, los inversores se asumen precio aceptantes y no hay costos de transacción ni iuestos, es decir, el mercado es libre de fricciones"
   ]
  },
  {
   "cell_type": "markdown",
   "id": "1032fb31",
   "metadata": {},
   "source": [
    "## El modelo CAPM y la linea del mercado de capitales CML\n",
    "### El portafolio de mercado\n",
    "\n",
    "Suponiendo el mercado de capitales en equilibrio, denotado como $m$, contiene cada activo comerciable en proporción $w_{i}$, dónde\n",
    "\n",
    "\\begin{align*}\n",
    "    w_{i} &= \\frac{\\text{valor total del mercado (market cap) del activo i}}{\\text{valor total del mercado de todos los activos en el mercado}}\n",
    "\\end{align*}\n",
    "\n",
    "En este equilibrio, la tasa libre de riesgo $r_{f}$ iguala la demanda y la oferta de fondos prestables y el retorno del portafolio de mercado es el promedio ponderado del retorno de todos los activos del mercado. No obstante, el portafolio de mercado no puede ser observado realmente, (ya que contiene todos los activos de todos los mercados), sin embargo, la índices como el S&P500 son \"sustitutos imperfectos\" prácticos del teórico portafolio de mercado (ibíd. p 293.)\n"
   ]
  },
  {
   "cell_type": "markdown",
   "id": "c8d0f3c4",
   "metadata": {},
   "source": [
    "### El teorema de separación\n",
    "\n",
    "Dado $n+1$ activos, siendo el últivo el activo libre de riesgo, entonces existe un par de portafolios eficientes que son independientes de las preferencias de los inversores y además todos los inversores serán indiferentes entre escoger sus propios portafolios entre los $n+1$ activos o los dos portafolios eficientes. Uno de los dos portafolios eficientes solo contiene el activo libre de riesgo, y el otro solo contiene los $n$ activos riesgosos."
   ]
  },
  {
   "cell_type": "markdown",
   "id": "ff973492",
   "metadata": {},
   "source": [
    "### Ecuación de la frontera eficiente\n",
    "\n",
    "Asumiendo expectativas homogéneas, las frontera eficiente consiste en una combinación lineal de $r_{f}$ y $m$. Esta frontera eficiente lineal se conoce como la línea del mercado de capitales (CML)\n",
    "\n",
    "\\begin{align*}\n",
    "    E(r_{p}) &= r_{r} + \\left[\\frac{E(r_{m})-r_{f}}{\\sigma_{m}} \\right]\\sigma_{p} \\quad & (6.1) \n",
    "\\end{align*}\n",
    "\n",
    "Dónde $E(r_{p})$ y $\\sigma_{p}$ denotan el retorno esperado y la desviación estándar de cualquier portafolio eficiente $p$"
   ]
  },
  {
   "cell_type": "markdown",
   "id": "52831380",
   "metadata": {},
   "source": [
    "## El modelo de precios de activos de capital (CAPM)\n",
    "\n",
    "El CAPM es una relación entre la tasa de retorno esperado de $i$ activos, definida como una función lineal de los activos \"riesgo-sistémicos\" represantada en $\\beta_{i}$\n",
    "\n",
    "\\begin{align*}\n",
    "    E(r_{i}) &= r_{f} + \\left [E(r_{m})-r_{f} \\right] \\beta_{i} \\quad & (6.2) \\\\\n",
    "    \\text{Dónde}\\\\\n",
    "    \\beta_{i} &: \\text{Representa el riesgo sistémico del activo i}\\\\\n",
    "    E(r_{i})  &: \\text{Retorno esperado del activo i}\\\\\n",
    "    r_{f}     &: \\text{Tasa libre de riesgo}\\\\\n",
    "    \\left[ E(r_{f})-r_{f} \\right]&: \\text{Prima de riesgo del mercado}\n",
    "\\end{align*}\n",
    "\n",
    "Cada retorno esperado del modelo CAPM puede ser interpretado como: ***una tasa de descuento riesgo-ajustada*** , ***costo del capital*** , ***tasa de equilibrio del retorno*** , o ***tasa de capitalización***  que los inversores esperan obtener dado el reisgo sistémico que asumen.\n",
    "\n",
    "El riesgo sistémico, o riesgo no diversificable, es el principal factor de aversión al riesgo que los inversores deberían tener en cuenta al tomar la decisión de inversión."
   ]
  },
  {
   "cell_type": "markdown",
   "id": "f08dcb38",
   "metadata": {},
   "source": [
    "## Retorno del portafolio CAPM\n",
    "\\begin{align}\n",
    "E(r_{i}) &= r_{f} + (E(r_{m})-r_{f})\\beta_{i} \\quad \\text{;} \\quad \\beta_{i} = \\frac{\\sigma_{p}}{\\sigma_{m}^{2}} \\quad &{8.1a} \\\\\n",
    "E(r_{p}) &= w_{i} E(r_{i}) + (1-w_{i})E(R_{m}) \\quad &{8.1b}\n",
    "\\end{align}"
   ]
  },
  {
   "cell_type": "markdown",
   "id": "7397829a",
   "metadata": {},
   "source": [
    "## Riesgo del portafolio CAPM\n",
    "\n",
    "\\begin{align}\n",
    "\\sigma_{p} &= [w_{i}^{2}\\sigma_{i}^{2}+(1-w_{i})\\sigma_{m}^{2}+2w_{i}(1-w_{i})\\sigma_{i,m}]^{1/2} \\quad &{8.2}\n",
    "\\end{align}"
   ]
  },
  {
   "cell_type": "markdown",
   "id": "c4354f44",
   "metadata": {},
   "source": [
    "## Beta del CAPM\n",
    "de 8.1a y 8.2, derivando respecto a las ponderaciones obtenemos\n",
    "\n",
    "\\begin{align}\n",
    "\\frac{dE(r_{p})}{d w_{i}} &= E(r_{i}) - E(r_{m}) \\quad &{8.3}\\\\\n",
    "\\frac{d\\sigma_{p}}{dw_{i}} &= \\frac{[w_{i}\\sigma_{i}^{2}-(1-w_{i})\\sigma_{m}^{2}+(1-2w_{i})\\sigma_{im}]}{\\sigma_{p}}\n",
    "\\end{align}\n",
    "\n",
    "Haciendo el cociente entre 8.3a y 8.3b y evaluado en $w_{i}=0$ obtenemos\n",
    "\\begin{align*}\n",
    "\\beta &= \\frac{dE(r_{p})}{d\\sigma_{p}}|_{w_{i}=0}\\\\\n",
    "      &= \\frac{\\left[  E(r_{i})-E(r_{m})\\right]\\sigma_{p}}{\\sigma_{im}-\\sigma_{m}^{2}} \\quad & (8.4)\n",
    "\\end{align*}\n",
    "\n",
    "Dado que en equilibrio no existe exceso de demanda del activo $i$ (debido a que $m$ contiene a $i$ ), esto quiere decir que $w_{i} = 0$ que implica a su vez $\\sigma_{p} = \\sigma_{m}$. También se puede interpetar como la pendiente de la curva $im'$, y, en equilibrio, es igual a la pendiente de la curva del mercado de capitales, esto es\n",
    "\n",
    "\n",
    "\\begin{align*}\n",
    "    \\frac{E(r_{m}-r_{f})}{\\sigma_{m}} &= \\frac{\\left[  E(r_{i})-E(r_{m})\\right]\\sigma_{p}}{\\sigma_{im}-\\sigma_{m}^{2}} \\\\\n",
    "    E(r_{i}) &= r_{f} + \\left[\\frac{E(r_{m})-r_{f} }{\\sigma_{m}^{2}}\\right]\\sigma_{im} \\quad &(8.5)\n",
    "\\end{align*}\n",
    "\n",
    "La ecuación 8.5 define al modelo CAPM\n",
    "\n",
    "#### Interpretación\n",
    "\n",
    "El CAPM indica que, en quilibrio, cada activo tendrá un retorno esperado que esta linealmente relacionado con la covarianza entre el activo y el portafolio de mercado. Además esta relación será positiva ya que $\\left [E(r_{m}) - r_{f}\\right]/\\sigma_{m}^{2}$ es positivo y además, si un activo $i$ tiene covarianza 0 con $m$, $\\sigma_{im}=0$, entonces tendrá un retorno esperado igual a $r_{f}$. Se concluye qué es la covarianza entre el retorno de un activo y el retorno del portafolio de mercado la que determina el retorno esperado del retorno y es la medida relevante del riesgo del activo.\n",
    "\n",
    "Usando la definición del beta para un activo $i$, $\\beta_{i} = \\sigma_{im}/\\sigma_{m}^{2}$, el CAPM se puede reescribir así\n",
    "\n",
    "\\begin{align*}\n",
    "    E(r_{i}) = r_{f} + \\left[E(r_{m}) - r_{f} \\right] \\beta_{i}\n",
    "\\end{align*}"
   ]
  },
  {
   "cell_type": "markdown",
   "id": "2f2c345d",
   "metadata": {},
   "source": [
    "# Modelo de Treynor "
   ]
  },
  {
   "cell_type": "markdown",
   "id": "379e5bb6",
   "metadata": {},
   "source": [
    "## El modelo de un solo índice \n",
    "\n",
    "Se consideran dos aspectos \n",
    "\n",
    "    1. Las ventas en corto no están permitidas\n",
    "    2. Los Préstamos y créditos son ilimitados y ambos se dan a la tasa libre de riesgo $r_{f}$\n",
    "\n",
    "### Formación de los portafolios óptimos\n",
    "Considerando\n",
    "\\begin{align*}\n",
    "\\frac{\\bar{R_{i}}-R_{f}}{\\beta_{i}}\\\\\n",
    "\\bar{R_{i}} &: \\text{El retorno esperado del activo $i$}\\\\\n",
    "R_{f} &: \\text{El retorno del activo libre de riesgo}\\\\\n",
    "\\beta_{i} &: \\text{El cambio esperado en la tasa de retorno del activo $i$ ante cambios del $1\\%$ en el retorno del mercado}\n",
    "\\end{align*}"
   ]
  },
  {
   "cell_type": "markdown",
   "id": "650b6491",
   "metadata": {},
   "source": [
    "Siendo $\\bar{R_{i}} - R_{f}$ el exceso de retorno del activo $i$, ahora bien, si los activos se ordenan por el exceso de retorno sobre el beta, este ranking representa la preferencia de cada activo $i$ en el portafolio. Para escoger cuántos activos ordenados se escogen del portafolio se usa un punto de corte $C^{*}$.\n",
    "\n",
    "### Cálculo del punto de corte $C^{*}$\n",
    "\n",
    "Dado un conjunto de activos de un portafolio óptimo, ordenados por su exceso de retorno sobre el beta correspondiente de mayor a menor, entonces $C^{*}$ está dado por:\n",
    "\n",
    "\\begin{align*}\n",
    "    C_{i} &= \\frac{\\sigma_{m}^{2}\\sum_{j=1}^{i}\\frac{(\\bar{R}_{j}-R_{f})\\beta_{j}}{\\sigma_{ej}^{2}}}{1+\\sigma_{m}^{2}\\sum_{j=1}^{i}(\\frac{\\beta_{j}^{2}}{\\sigma_{ej}^{2}})}\n",
    "\\end{align*}\n",
    "\n",
    "Donde $\\sigma_{m}^{2}=$ es la varianza del índice de mercado y $\\sigma_{ej}^{2}=$ es la varianza de un activo que no está asociada con el índice de mercado, usualmente se refiere como un activo de riesgo no sistémico, o activo de riesgo no diversificable. La ecuación anterior puede reescribirse en una equivalencia matemática que clarifica el signifcado de $C_{i}$ de la siguiente manera:\n",
    "\n",
    "\\begin{align*}\n",
    "    C_{i} &= \\frac{\\beta_{iP}(\\bar{R}_{P}-R_{f})}{\\beta_{i}}\n",
    "\\end{align*}\n",
    "\n",
    "Donde $\\beta_{iP} = $ el cambio esperado en la tasa de retorno de un activo $i$ ante cambios del $1\\%$ en el retorno del portafolio óptimo y $\\bar{R}_{p} =$ es el retorno esperado del portafolio óptimo."
   ]
  },
  {
   "cell_type": "markdown",
   "id": "9ac37c44",
   "metadata": {},
   "source": [
    "### Construyendo el portafolio óptimo\n",
    "\n",
    "Una vez los activos en el portafolio óptimo son escogidos, entonces se calcula la ponderación de cada activo de la siguiente manera\n",
    "\\begin{align*}\n",
    "    X_{i} &= \\frac{Z_{i}}{\\Sigma Z_{i}}\n",
    "\\end{align*}\n",
    "\n",
    "Donde\n",
    "\\begin{align*}\n",
    "    Z_{i} &= \\frac{\\beta_{i}}{\\sigma_{ei}^{2}}\\left( \\frac{\\bar{R}_{i}-R_{f}}{\\beta_{i}}-C^{*}\\right)\n",
    "\\end{align*}"
   ]
  },
  {
   "cell_type": "markdown",
   "id": "364b41bc",
   "metadata": {},
   "source": [
    "### Con ventas en corto permitidas\n",
    "\n",
    "De la expresión anterior ahora $Z_{i}$ puede ser negativo, no obstante $\\sum_{i=1}^{N}X_{i}=1$ conocida como la definición de Lintner, reescribiendola se obtiene $\\sum_{i=1}^{N}|X_{i}|=1$ y esto implica que $X_{i} = \\frac{Z_{i}}{\\Sigma |Z_{i}|}$"
   ]
  },
  {
   "cell_type": "code",
   "execution_count": 21,
   "id": "d5d37225",
   "metadata": {},
   "outputs": [],
   "source": [
    "from pypt.load_data import get_data\n",
    "\n",
    "# retornos = get_data(symbols=[\"MSFT\",\"T\",\"VZ\",\"PFE\",\"WFC\",\"CLF\",\"HSY\",\"COP\",\"TGT\"],\n",
    "#                     start_date = '2016-12-01',\n",
    "#                     end_date= '2022-01-31',\n",
    "#                     frequency = 'M').returns(return_type = 'log')\n",
    "\n",
    "retornos = pd.read_excel('./datasets/retornos_treynor.xlsx')\n",
    "retornos_indice = pd.read_excel('./datasets/retornos_indice.xlsx')"
   ]
  },
  {
   "cell_type": "code",
   "execution_count": 8,
   "id": "34ff9611",
   "metadata": {},
   "outputs": [],
   "source": [
    "def ols(Y,X):\n",
    "    n = len(X)\n",
    "\n",
    "    Y = np.asarray(Y).reshape((n,1))\n",
    "    X = np.concatenate((\n",
    "            np.ones(n).reshape((n,1)),\n",
    "            np.asmatrix(X).reshape((n,1))\n",
    "        ),axis=1)\n",
    "    \n",
    "    xtx = np.transpose(X) @ X\n",
    "    xtx_x = np.linalg.inv(xtx)\n",
    "    xy = np.transpose(X)@Y\n",
    "    b = xtx_x @ xy\n",
    "    B = np.squeeze(np.asarray(b))\n",
    "\n",
    "    xb = X * b\n",
    "    e = Y - xb\n",
    "    e = np.var(e,ddof=1)\n",
    "    \n",
    "    return B[1], e"
   ]
  },
  {
   "cell_type": "code",
   "execution_count": 23,
   "id": "5dcddd2b",
   "metadata": {},
   "outputs": [],
   "source": [
    "betas = []\n",
    "errores = []\n",
    "for i in range(retornos.shape[1]):\n",
    "    b, e = ols(retornos.iloc[:,i],retornos_indice.iloc[:,0])\n",
    "    betas.append(b)\n",
    "    errores.append(e)"
   ]
  },
  {
   "cell_type": "code",
   "execution_count": 9,
   "id": "fbde5a1e",
   "metadata": {},
   "outputs": [],
   "source": [
    "def treynor(retornos,retornos_indice):\n",
    "    n = retornos.shape[1]\n",
    "    betas = np.zeros(n)\n",
    "    varianza_error = np.zeros(n)\n",
    "\n",
    "    mu = retornos.agg(np.average)\n",
    "    vcov = retornos.cov()\n",
    "    sigma = np.sqrt(np.diag(vcov))\n",
    "    rf = 0\n",
    "\n",
    "    # regresión iterativa para los parámetros\n",
    "    for i in range(n):\n",
    "        betas[i], varianza_error[i] = ols(Y=retornos.iloc[:,i],X=retornos_indice)\n",
    "        \n",
    "    ratio_treynor = (mu-rf)/betas\n",
    "    # Cálculos de los ratios 1 y 2 y las sumas acumuladas\n",
    "\n",
    "    matriz = pd.DataFrame({\n",
    "        'Ratio_treynor':ratio_treynor,\n",
    "        'Betas' : betas,\n",
    "        'Var_Error': varianza_error,\n",
    "        'Mu': mu,\n",
    "        'Sigma': sigma\n",
    "    })\n",
    "    matriz = matriz.sort_values(by=['Ratio_treynor'],ascending=False)\n",
    "\n",
    "    ratio1 = np.cumsum(((matriz['Mu']-rf)*matriz['Betas'])/(matriz['Var_Error']))\n",
    "    ratio2 = np.cumsum(((matriz['Betas'])**2)/(matriz['Var_Error']))\n",
    "\n",
    "    sigma_mkt = np.std(retornos_indice)\n",
    "    tasac = ((sigma_mkt**2)*ratio1)/((1+((sigma_mkt**2)*ratio2)))\n",
    "\n",
    "    diff = matriz['Ratio_treynor'] - tasac\n",
    "    cond_diff =  diff[diff>0]\n",
    "    n_optimo = len(cond_diff)\n",
    "    cmax = max(tasac)\n",
    "\n",
    "    zi = (matriz['Betas']/matriz['Var_Error']) * (matriz['Ratio_treynor']-cmax)\n",
    "    zi = np.maximum(zi,0)\n",
    "\n",
    "    wpot = zi/(sum(zi))\n",
    "    rpot = wpot@mu\n",
    "    sigmapot = np.sqrt(wpot@vcov@wpot)\n",
    "    return rpot, sigmapot, wpot, n_optimo, matriz"
   ]
  },
  {
   "cell_type": "code",
   "execution_count": 25,
   "id": "e1e5497d",
   "metadata": {},
   "outputs": [
    {
     "name": "stdout",
     "output_type": "stream",
     "text": [
      "\n",
      "Retorno óptimo de Treynor:\n",
      "----------------------------------------------------------------\n",
      "0.024239654564412277\n",
      "----------------------------------------------------------------\n",
      "\n",
      "Riesgo óptimo de Treynor:\n",
      "----------------------------------------------------------------\n",
      "0.04324349811440813\n",
      "----------------------------------------------------------------\n",
      "\n",
      "Ponderaciones óptimas de Treynor:\n",
      "----------------------------------------------------------------\n",
      "MSFT    0.755819\n",
      "HSY     0.201789\n",
      "TGT     0.042391\n",
      "PFE     0.000000\n",
      "VZ      0.000000\n",
      "COP     0.000000\n",
      "CLF     0.000000\n",
      "WFC     0.000000\n",
      "T       0.000000\n",
      "dtype: float64\n",
      "----------------------------------------------------------------\n",
      "\n",
      "Número de acivos óptimos de Treynor:\n",
      "----------------------------------------------------------------\n",
      "3\n",
      "----------------------------------------------------------------\n",
      "\n",
      "Resumen:\n",
      "----------------------------------------------------------------\n",
      "      Ratio_treynor     Betas  Var_Error        Mu     Sigma\n",
      "MSFT       0.032001  0.862249   0.001193  0.027593  0.051957\n",
      "HSY        0.031270  0.398175   0.001947  0.012451  0.047628\n",
      "TGT        0.021818  0.943064   0.004971  0.020575  0.082297\n",
      "PFE        0.017129  0.701636   0.003524  0.012018  0.067242\n",
      "VZ         0.009211  0.390670   0.001663  0.003598  0.044414\n",
      "COP        0.007749  1.490194   0.009494  0.011548  0.118296\n",
      "CLF        0.005583  2.224608   0.019151  0.012420  0.170815\n",
      "WFC        0.001652  1.240548   0.004748  0.002049  0.088692\n",
      "T         -0.004634  0.660771   0.002094 -0.003062  0.054579\n",
      "----------------------------------------------------------------\n",
      "\n"
     ]
    }
   ],
   "source": [
    "rs, sigmas, ws, no, m = treynor(retornos,retornos_indice.iloc[:,0])\n",
    "print(f\"\"\"\n",
    "Retorno óptimo de Treynor:\n",
    "----------------------------------------------------------------\n",
    "{rs}\n",
    "----------------------------------------------------------------\n",
    "\n",
    "Riesgo óptimo de Treynor:\n",
    "----------------------------------------------------------------\n",
    "{sigmas}\n",
    "----------------------------------------------------------------\n",
    "\n",
    "Ponderaciones óptimas de Treynor:\n",
    "----------------------------------------------------------------\n",
    "{ws}\n",
    "----------------------------------------------------------------\n",
    "\n",
    "Número de acivos óptimos de Treynor:\n",
    "----------------------------------------------------------------\n",
    "{no}\n",
    "----------------------------------------------------------------\n",
    "\n",
    "Resumen:\n",
    "----------------------------------------------------------------\n",
    "{m}\n",
    "----------------------------------------------------------------\n",
    "\"\"\")"
   ]
  },
  {
   "cell_type": "markdown",
   "id": "a0670ea1",
   "metadata": {},
   "source": [
    "### PMVg, Sharpe y Treynor"
   ]
  },
  {
   "cell_type": "code",
   "execution_count": 26,
   "id": "d7a5dd69",
   "metadata": {},
   "outputs": [],
   "source": [
    "from pypt.pmv import PMV"
   ]
  },
  {
   "cell_type": "code",
   "execution_count": 27,
   "id": "901741e6",
   "metadata": {},
   "outputs": [
    {
     "name": "stdout",
     "output_type": "stream",
     "text": [
      "\n",
      "Portafolio de Mínima Varianza Global\n",
      "----------------------------------------------------------------\n",
      "Retorno : [0.01216883]\n",
      "Variaza : [0.03186365]\n",
      "Ponderaciones :\n",
      "[ 0.33694748  0.19036377  0.28449439  0.06834284 -0.0233886  -0.0328597\n",
      "  0.22451752 -0.0294915  -0.0189262 ]\n",
      "\n"
     ]
    }
   ],
   "source": [
    "# help(PMV.mv)\n",
    "rpmv, sigmapmv, wpmv = PMV(retornos).mv().pmv\n",
    "print(f\"\"\"\n",
    "Portafolio de Mínima Varianza Global\n",
    "----------------------------------------------------------------\n",
    "Retorno : {rpmv}\n",
    "Variaza : {sigmapmv}\n",
    "Ponderaciones :\n",
    "{wpmv}\n",
    "\"\"\")\n"
   ]
  },
  {
   "cell_type": "code",
   "execution_count": 28,
   "id": "49e98063",
   "metadata": {},
   "outputs": [
    {
     "name": "stdout",
     "output_type": "stream",
     "text": [
      "\n",
      "Portafolio de Mínima Varianza Global\n",
      "----------------------------------------------------------------\n",
      "Retorno : [0.03421511]\n",
      "Variaza : [0.05342936]\n",
      "Ponderaciones :\n",
      "[ 0.8155495  -0.33834672 -0.10985538  0.08801388 -0.21676416 -0.03436163\n",
      "  0.54686713  0.11581577  0.13308161]\n",
      "\n"
     ]
    }
   ],
   "source": [
    "# help(PMV.sharpe)\n",
    "rpt, sigmapt, wpt = PMV(retornos).sharpe().psharpe \n",
    "print(f\"\"\"\n",
    "Portafolio de Mínima Varianza Global\n",
    "----------------------------------------------------------------\n",
    "Retorno : {rpt}\n",
    "Variaza : {sigmapt}\n",
    "Ponderaciones :\n",
    "{wpt}\n",
    "\"\"\")"
   ]
  },
  {
   "cell_type": "code",
   "execution_count": 29,
   "id": "7f709a64",
   "metadata": {},
   "outputs": [
    {
     "data": {
      "image/png": "[encoded data removed]",
      "text/plain": [
       "<Figure size 720x504 with 4 Axes>"
      ]
     },
     "metadata": {},
     "output_type": "display_data"
    }
   ],
   "source": [
    "symbols = retornos.columns\n",
    "\n",
    "fig, axes = plt.subplots(2,2,figsize=(10,7),sharey=True)\n",
    "sns.barplot(ax = axes[0][0],x=symbols, y=wpmv)\n",
    "axes[0,0].set_title('PMVg')\n",
    "sns.barplot(ax = axes[0][1],x=symbols, y=wpt)\n",
    "axes[0,1].set_title('Sharpe')\n",
    "sns.barplot(ax = axes[1][0],x=m.index, y=ws)\n",
    "axes[1,0].set_title('Treynor')\n",
    "fig.tight_layout()\n",
    "plt.show()"
   ]
  },
  {
   "cell_type": "code",
   "execution_count": 49,
   "id": "8bb6c7ff",
   "metadata": {},
   "outputs": [
    {
     "name": "stdout",
     "output_type": "stream",
     "text": [
      "     pcost       dcost       gap    pres   dres\n",
      " 0:  1.0588e-03 -7.7273e-01  1e+01  4e+00  7e+00\n",
      " 1:  9.6291e-03 -1.9232e+00  5e+00  1e+00  2e+00\n",
      " 2:  5.7254e-02 -4.7413e-01  6e-01  1e-01  2e-01\n",
      " 3:  3.1668e-02 -2.8483e-02  6e-02  6e-16  2e-17\n",
      " 4:  5.0943e-03 -3.6189e-03  9e-03  1e-15  6e-18\n",
      " 5:  1.0400e-03 -1.0017e-04  1e-03  4e-16  3e-18\n",
      " 6:  6.2508e-04  4.3542e-04  2e-04  9e-17  1e-18\n",
      " 7:  5.5324e-04  5.2122e-04  3e-05  1e-16  5e-17\n",
      " 8:  5.3665e-04  5.3437e-04  2e-06  1e-16  7e-18\n",
      " 9:  5.3558e-04  5.3551e-04  7e-08  1e-16  3e-17\n",
      "Optimal solution found.\n",
      "     pcost       dcost       gap    pres   dres\n",
      " 0:  1.0593e-03 -7.4848e-01  1e+01  4e+00  7e+00\n",
      " 1:  9.6315e-03 -1.8980e+00  5e+00  1e+00  2e+00\n",
      " 2:  5.7205e-02 -4.7213e-01  6e-01  1e-01  2e-01\n",
      " 3:  3.4926e-02 -3.0604e-02  7e-02  2e-15  3e-17\n",
      " 4:  5.9743e-03 -3.0950e-03  9e-03  7e-16  8e-18\n",
      " 5:  2.5892e-03  1.2805e-03  1e-03  3e-16  6e-18\n",
      " 6:  1.9458e-03  1.7787e-03  2e-04  1e-16  5e-18\n",
      " 7:  1.8430e-03  1.8314e-03  1e-05  2e-16  3e-17\n",
      " 8:  1.8365e-03  1.8362e-03  3e-07  5e-16  1e-16\n",
      " 9:  1.8364e-03  1.8364e-03  4e-09  5e-16  3e-16\n",
      "Optimal solution found.\n",
      "     pcost       dcost       gap    pres   dres\n",
      " 0:  1.0591e-03 -7.5954e-01  1e+01  4e+00  7e+00\n",
      " 1:  9.6303e-03 -1.9096e+00  5e+00  1e+00  2e+00\n",
      " 2:  5.7229e-02 -4.7331e-01  6e-01  1e-01  2e-01\n",
      " 3:  3.3304e-02 -2.9447e-02  6e-02  6e-16  2e-17\n",
      " 4:  5.5067e-03 -3.4419e-03  9e-03  8e-16  9e-18\n",
      " 5:  1.5957e-03  2.5252e-04  1e-03  3e-16  3e-18\n",
      " 6:  1.0287e-03  8.6443e-04  2e-04  2e-16  1e-17\n",
      " 7:  9.2942e-04  9.1477e-04  1e-05  2e-16  1e-17\n",
      " 8:  9.2185e-04  9.2119e-04  7e-07  8e-17  3e-16\n",
      " 9:  9.2171e-04  9.2170e-04  8e-09  1e-16  9e-16\n",
      "Optimal solution found.\n"
     ]
    },
    {
     "data": {
      "image/png": "[encoded data removed]",
      "text/plain": [
       "<Figure size 720x504 with 4 Axes>"
      ]
     },
     "metadata": {},
     "output_type": "display_data"
    }
   ],
   "source": [
    "symbols = retornos.columns\n",
    "vcov = np.asmatrix(retornos.cov())\n",
    "mu = retornos.agg(np.mean)\n",
    "\n",
    "wpmv_ns = solvers_qp(vcov = vcov, mu = mu, optimal_portfolio=rpmv, inequality=True)\n",
    "wpt_ns = solvers_qp(vcov = vcov, mu = mu, optimal_portfolio=rpt, inequality=True)\n",
    "ws_ns = solvers_qp(vcov = vcov, mu = mu, optimal_portfolio=np.asarray([rs]), inequality=True)\n",
    "\n",
    "fig, axes = plt.subplots(2,2,figsize=(10,7),sharey=True)\n",
    "sns.barplot(ax = axes[0][0],x=symbols, y=wpmv_ns)\n",
    "axes[0,0].set_title('PMVg')\n",
    "sns.barplot(ax = axes[0][1],x=symbols, y=wpt_ns)\n",
    "axes[0,1].set_title('Sharpe')\n",
    "sns.barplot(ax = axes[1][0],x=symbols, y=ws_ns)\n",
    "axes[1,0].set_title('Treynor')\n",
    "fig.tight_layout()\n",
    "plt.show()\n",
    "\n"
   ]
  },
  {
   "cell_type": "code",
   "execution_count": 55,
   "id": "fd3c6ac5",
   "metadata": {},
   "outputs": [
    {
     "data": {
      "text/plain": [
       "array([ 0.33694748,  0.19036377,  0.28449439,  0.06834284, -0.0233886 ,\n",
       "       -0.0328597 ,  0.22451752, -0.0294915 , -0.0189262 ])"
      ]
     },
     "execution_count": 55,
     "metadata": {},
     "output_type": "execute_result"
    }
   ],
   "source": [
    "wpmv"
   ]
  },
  {
   "cell_type": "code",
   "execution_count": 54,
   "id": "7f5ce247",
   "metadata": {},
   "outputs": [
    {
     "data": {
      "text/plain": [
       "array([2.95586488e-01, 1.04264725e-01, 2.93943661e-01, 5.65526522e-02,\n",
       "       1.40776360e-05, 3.34626950e-06, 2.49621051e-01, 5.79895516e-06,\n",
       "       9.64237774e-06])"
      ]
     },
     "execution_count": 54,
     "metadata": {},
     "output_type": "execute_result"
    }
   ],
   "source": [
    "wpmv_ns"
   ]
  },
  {
   "cell_type": "markdown",
   "id": "5770e5d7",
   "metadata": {},
   "source": [
    "# Modelo de Sortino o análisis de semivarianza \n",
    "\n",
    ">  ***The Capital Asset Pricing Model***. Clarck, J. Dongcheol, K. (2013). ***Modern portafolio theory, fundations, analysis and new developments*** Wiley. Cap 10. \n",
    "\n",
    "Parte de la idea principal de que la distribución de probabilidad del retorno y varianza esperados están sesgados\n",
    "\n",
    "## Definición de semivarianza\n",
    "\n",
    "\"La semivarianza es una medida de dispersión de todas las observaciones que están por debajo de un punto constante de referencia $h$ (ibíd, p. 228)\", $h$ puede ser interpretado como un \"retorno de referencia\", bien sea la tasa libre de riesgo, el retorno esperado o 0, la semivarianza del activo i denotada como $\\bar{\\bar{\\sigma_{i}}}^2$ esta dada por:\n",
    "\n",
    "\\begin{align*}\n",
    "    \\bar{\\bar{\\sigma_{i}}}^2 &= E[ min\\{(r_{i}-h),0\\} ]^{2}\\\\\n",
    "\\end{align*}"
   ]
  },
  {
   "cell_type": "markdown",
   "id": "988f83cb",
   "metadata": {},
   "source": [
    "## Estimación de la semivarianza\n",
    "\n",
    "\\begin{align*}\n",
    "    \\bar{\\bar{\\sigma_{i}}}^{2} &= \\frac{1}{T}\\sum_{t=1}^{T} [min\\{r_{it}-h,0\\}]^{2}\\\\\n",
    "                               &= \\frac{1}{T}\\sum_{t=1}^{T} (\\bar{\\bar{r}}_{it}-h)^{2}\n",
    "\\end{align*}\n",
    "Donde\n",
    "\\begin{align*}\n",
    "\\bar{\\bar{r}}_{it} = \n",
    "     \\begin{cases}\n",
    "                    r_{it}     &\\quad si \\quad r_{it} < h\\\\\n",
    "                    h          &\\quad si \\quad r_{it} \\geq h\n",
    "    \\end{cases}\n",
    "\\end{align*}\n",
    "\n",
    "Para el caso continuo se tiene que \n",
    "\\begin{align*}\n",
    "    \\bar{\\bar{\\sigma}}_{i}^{2} &= \\int_{- \\infty}^{+ \\infty}[min\\{(r_{i}-h,0\\}]^{2}f(r_{i})dr_{i}\\\\\n",
    "                               &= \\int_{- \\infty}^{h} (r_{i}-h)^{2}f(r_{i})dr_{i}\n",
    "\\end{align*}\n",
    "\n",
    "Donde $f(r_{i})$ es la función de distribución de probabilidad acumulada de $r_{i}$"
   ]
  },
  {
   "cell_type": "markdown",
   "id": "15b43d43",
   "metadata": {},
   "source": [
    "## Optimización de portafolio con análisis de semivarianza\n",
    "\n",
    "\"El objetivo es delimitar un conjunto de portafolios que tengan una semivarianza mínima para cada nivel de retorno esperado\" (ibíd, p. 231). Recordando que el valor esperado del portafolio se define como $E(r_{p}) = \\sum_{i=1}^{N}w_{i}E(r_{i})$, dónde se tiene que $\\sum_{i}^{N}w_{i}=1$, entonces:\n",
    "\n",
    "\\begin{align*}\n",
    "    \\bar{\\bar{\\sigma}}_{p}^{2} = E\\left[ min\\{\\sum_{i=1}^{N}w_{i}r_{i} -h,0\\}\\right]^{2}\n",
    "\\end{align*}\n",
    "\n",
    "Se demuestra que si\n",
    "\n",
    "1. La varianza de los retornos es finita\n",
    "2. La semivarianza del portafolio es continua diferenciable en $w_{i}$ para todo $i$\n",
    "3. La siguiente condición de primer orden, es continua en $w_{i}$ para todo $i$\n",
    "\n",
    "\\begin{align*}\n",
    "    \\frac{\\partial{\\bar{\\bar{\\sigma_{i}}}^{2}}}{\\partial{w_{i}}} &= 2E[min\\{(r_{p}-h,0\\}]\n",
    "\\end{align*}"
   ]
  },
  {
   "cell_type": "markdown",
   "id": "d4c195eb",
   "metadata": {},
   "source": [
    "## El modelo de semvarianza y la línea del mercado de capitales CML\n",
    "\n",
    "Escribiendo la ecuación de la línea del mercado de capitales bajo el análisis de la semivarianza obtenemos\n",
    "\\begin{align*}\n",
    "    E(r_{p}) &= r_{f} + \\left[\\frac{E(r_{m})-r_{f}}{\\bar{\\bar{\\sigma}}_{m}}\\bar{\\bar{\\sigma}}_{p} \\right]\n",
    "\\end{align*}\n",
    "\n",
    "La anterior describe el equilibrio en el cual el retorno esperado de un portafolio eficiente $p$ iguala la tasa libre de riesgo $r_{f}$ más una prima de riesgo.\n",
    "\n",
    "## El modelo de semivarianza y la línea del mercado de activos SML\n",
    "\n",
    "Reescribiendo la relación anterior como\n",
    "\\begin{align*}\n",
    "    E(r_{i}) &= r_{f} + [E(r_{m})-r_{f}]\\bar{\\bar{\\beta}}_{i}\n",
    "\\end{align*}\n",
    "\n",
    "Donde\n",
    "\\begin{align*}\n",
    "    \\bar{\\bar{\\beta}}_{i} &= \\frac{\\bar{\\bar{\\sigma_{im}}}}{\\bar{\\bar{\\sigma_{m}}}^{2}}\\\\\n",
    "                      &= \\frac{E(r_{i}-h)(\\bar{\\bar{r}}_{m}-h)}{E(\\bar{\\bar{r}}_{m}-h)^{2}}\n",
    "\\end{align*}\n",
    "\n",
    "La ecuación anterior también es conocida como el downside CAPM y $\\bar{\\bar{\\beta}}_{i}$ se conoce como el downside beta"
   ]
  },
  {
   "cell_type": "code",
   "execution_count": 5,
   "id": "c6709348",
   "metadata": {},
   "outputs": [],
   "source": [
    "retornos = pd.read_excel('./datasets/retornos_treynor.xlsx')\n",
    "retornos_indice = pd.read_excel('./datasets/retornos_indice.xlsx')"
   ]
  },
  {
   "cell_type": "code",
   "execution_count": 37,
   "id": "1eaf26fc",
   "metadata": {},
   "outputs": [],
   "source": [
    "def sortino(retornos,rf,cortos=False):\n",
    "    n = retornos.shape[1]\n",
    "    T = retornos.shape[0]\n",
    "    mu = retornos.agg(np.mean)\n",
    "\n",
    "    ### E[min{ri-rf,0}]^2\n",
    "    E_min = pd.DataFrame({})\n",
    "    for i in range(n):\n",
    "        E_min[retornos.columns[i]] =  np.array(np.minimum(retornos.iloc[:,i]-rf,0)**2)\n",
    "    ### Sum E[min{ri-rf,0}]^2\n",
    "\n",
    "    sum_E_min = E_min.agg(np.sum)\n",
    "\n",
    "    ## Semi variana: (Sum E[min{ri-rf,0}]^2)/T\n",
    "\n",
    "    sm = sum_E_min/(T-1)\n",
    "\n",
    "    ## Ratio de sortino: [E(ri)-rf/semivarianza del mercado]\n",
    "\n",
    "    Sortino = (mu - rf)/np.sqrt(sm)\n",
    "\n",
    "    ## Portafolio óptimo con análisis de semivarianza (Portafolio tangente de sortino)\n",
    "\n",
    "    # Valor esperado\n",
    "    Er = mu - rf\n",
    "    # Semivarianza\n",
    "    Svcov = E_min.cov()\n",
    "    \n",
    "    solv = solvers_qp(vcov=np.asmatrix(Svcov), mu = mu, optimal_portfolio  = [np.min(mu)],inequality=cortos)\n",
    "\n",
    "    # Retorno esperado\n",
    "    rS = solv @ mu\n",
    "\n",
    "    # Riesgo esperado\n",
    "    sigmaS = np.sqrt(np.transpose(solv)@Svcov@solv)\n",
    "    \n",
    "\n",
    "    return {\"solution\":Sortino,\"r\":rS,\"s\":sigmaS,\"w\":solv}\n",
    "    "
   ]
  },
  {
   "cell_type": "code",
   "execution_count": 108,
   "id": "45d8bdee",
   "metadata": {},
   "outputs": [
    {
     "name": "stdout",
     "output_type": "stream",
     "text": [
      "     pcost       dcost       gap    pres   dres\n",
      " 0:  2.1381e-06 -1.2609e-04  2e+00  1e+00  3e+00\n",
      " 1:  2.5540e-03 -2.2578e-02  3e-02  1e-02  3e-02\n",
      " 2:  9.1310e-04 -1.2468e-03  2e-03  2e-04  5e-04\n",
      " 3:  2.0124e-04 -2.9209e-04  5e-04  4e-05  8e-05\n",
      " 4:  2.0815e-04 -2.7876e-04  5e-04  8e-06  2e-05\n",
      " 5:  4.0637e-05 -3.0801e-05  7e-05  4e-15  1e-19\n",
      " 6:  7.2631e-06 -3.1458e-06  1e-05  4e-16  4e-20\n",
      " 7:  1.7327e-06  2.9890e-07  1e-06  1e-17  2e-20\n",
      " 8:  7.5184e-07  6.2068e-07  1e-07  1e-17  1e-20\n",
      " 9:  6.3865e-07  6.3741e-07  1e-09  1e-17  1e-20\n",
      "Optimal solution found.\n",
      "\n",
      "Portafolio Tangente de sortino - Sin cortos\n",
      "----------------------------------------------------------------\n",
      "Sortino Ratio: \n",
      "MSFT    1.140279\n",
      "T      -0.071135\n",
      "VZ      0.116920\n",
      "PFE     0.314317\n",
      "WFC     0.031198\n",
      "CLF     0.109833\n",
      "HSY     0.435425\n",
      "COP     0.147365\n",
      "TGT     0.454188\n",
      "dtype: float64\n",
      "Retorno : 0.01980408769854499\n",
      "Riesgo : 0.0011301742642320892\n",
      "Ponderaciones :\n",
      "[ 0.52719968  0.09592045  0.01751636  0.04192721 -0.03856837 -0.01614467\n",
      "  0.29273766  0.00362987  0.07664104]\n",
      "\n"
     ]
    }
   ],
   "source": [
    "Sortino, rS, sigmaS, wS = sortino(retornos = retornos,rf=0,cortos=False)\n",
    "print(f\"\"\"\n",
    "Portafolio Tangente de sortino - Sin cortos\n",
    "----------------------------------------------------------------\n",
    "Sortino Ratio: \n",
    "{Sortino}\n",
    "Retorno : {rS}\n",
    "Riesgo : {sigmaS}\n",
    "Ponderaciones :\n",
    "{wS}\n",
    "\"\"\")"
   ]
  },
  {
   "cell_type": "markdown",
   "id": "dc2c66cb",
   "metadata": {},
   "source": [
    "# Modelo Omega ($\\Omega$)\n",
    "Keating, Sbadwick . 2002\n",
    "\n",
    "Sea $F(r_{i}):$ la función de distribución acumulada, entonces\n",
    "\n",
    "\\begin{align*}\n",
    "    \\Omega_{h} &= \\frac{\\int_{n}^{\\alpha}[I-F(r_{i})]dr_{i}}{\\int_{-\\alpha}^{h}F(r_{i})dr_{i}}\\\\\n",
    "               &= \\frac{\\int_{n}^{\\alpha}(r_{i}-h)F(r_{i})dr_{i}}{\\int_{-\\alpha}^{h}(h-r_{i})F(r_{i})dr_{i}}\\\\\n",
    "               &= \\frac{E[max\\{r_{i}-h,0\\}]}{E[max\\{h-r_{i},0 \\}]}\\\\\n",
    "               &= \\frac{E(r_{i})-h}{(h-r_{i},0)^{+}}\n",
    "\\end{align*}\n",
    "\n",
    "Donde el denominador es la périda esperada interpretada como el riesgo del portafolio"
   ]
  },
  {
   "cell_type": "markdown",
   "id": "eda58540",
   "metadata": {},
   "source": [
    "## Optimización de $\\Omega$ \n",
    "Se plantea el problema de optimización\n",
    "\\begin{align*}\n",
    "    \\max_{w_{i}} \\quad \\Omega_{h}:\\frac{w_{i}-h}{E(h-w_{i}r_{it})}\n",
    "\\end{align*}\n",
    "\n",
    "Reescribiendo\n",
    "\\begin{align*}\n",
    "    \\min_{w_{i}} \\quad E[h-w_{i}r_{it}] \\quad \\text{s.a} \\quad w_{i}1 = 1\n",
    "\\end{align*}"
   ]
  },
  {
   "cell_type": "code",
   "execution_count": 173,
   "id": "18d4438c",
   "metadata": {},
   "outputs": [],
   "source": [
    "n = 100\n",
    "r1 = np.random.normal(0,1,n)\n",
    "r2 = np.random.normal(1,2,n)\n",
    "\n",
    "E = np.array([np.mean(r1),np.mean(r2)])\n",
    "\n",
    "w1 = np.random.normal(0,1,n)\n",
    "w2 = 1-w1\n",
    "\n",
    "rf = 0\n",
    "objetive = (rf-E)\n",
    "constrain = np.concatenate((\n",
    "    w1.reshape((n,1)),\n",
    "    w2.reshape((n,1)),\n",
    "),1) * np.ones((n,1))\n",
    "ones = np.ones((n,1))"
   ]
  },
  {
   "cell_type": "code",
   "execution_count": 176,
   "id": "81e00b35",
   "metadata": {},
   "outputs": [
    {
     "name": "stdout",
     "output_type": "stream",
     "text": [
      "     pcost       dcost       gap    pres   dres   k/t\n",
      " 0: -7.8346e-01 -7.8346e-01  8e-01  1e+00  6e-16  1e+00\n",
      " 1: -7.8346e-01 -7.8346e-01  8e-03  1e-02  4e-17  1e-02\n",
      " 2: -7.8346e-01 -7.8346e-01  8e-05  1e-04  3e-16  1e-04\n",
      " 3: -7.8346e-01 -7.8346e-01  8e-07  1e-06  2e-16  1e-06\n",
      " 4: -7.8346e-01 -7.8346e-01  8e-09  1e-08  1e-16  1e-08\n",
      "Optimal solution found.\n",
      "[ 1.00e+00]\n",
      "[ 1.00e+00]\n",
      "\n"
     ]
    }
   ],
   "source": [
    "\"\"\"\n",
    "minimize C'x\n",
    "s.t      Gx + s = h\n",
    "         Ax = b\n",
    "         s >= 0\n",
    "         \n",
    "         \n",
    "minimize \n",
    "\"\"\"\n",
    "c = matrix(objetive)\n",
    "G = matrix(constrain)\n",
    "h = matrix(ones)\n",
    "sol = solvers.lp(c,G,h)\n",
    "print(sol['x'])"
   ]
  },
  {
   "cell_type": "markdown",
   "id": "dddc96c5",
   "metadata": {},
   "source": [
    "# Portafolio Performance "
   ]
  },
  {
   "cell_type": "markdown",
   "id": "2569380e",
   "metadata": {},
   "source": [
    "## In-Sample"
   ]
  },
  {
   "cell_type": "code",
   "execution_count": 1,
   "id": "49259c0a",
   "metadata": {},
   "outputs": [],
   "source": [
    "from pypt.pmv import PMV, solvers_qp\n",
    "from pypt.load_data import get_data\n",
    "\n",
    "\n",
    "import numpy as np\n",
    "import pandas as pd\n",
    "import matplotlib.pyplot as plt \n",
    "import seaborn as sns"
   ]
  },
  {
   "cell_type": "code",
   "execution_count": 4,
   "id": "204ed839",
   "metadata": {},
   "outputs": [
    {
     "ename": "KeyboardInterrupt",
     "evalue": "",
     "output_type": "error",
     "traceback": [
      "\u001b[1;31m---------------------------------------------------------------------------\u001b[0m",
      "\u001b[1;31mKeyboardInterrupt\u001b[0m                         Traceback (most recent call last)",
      "Input \u001b[1;32mIn [4]\u001b[0m, in \u001b[0;36m<module>\u001b[1;34m\u001b[0m\n\u001b[1;32m----> 1\u001b[0m returns \u001b[38;5;241m=\u001b[39m \u001b[43mget_data\u001b[49m\u001b[43m(\u001b[49m\u001b[43msymbols\u001b[49m\u001b[38;5;241;43m=\u001b[39;49m\u001b[43m[\u001b[49m\u001b[38;5;124;43m\"\u001b[39;49m\u001b[38;5;124;43mMSFT\u001b[39;49m\u001b[38;5;124;43m\"\u001b[39;49m\u001b[43m,\u001b[49m\u001b[38;5;124;43m\"\u001b[39;49m\u001b[38;5;124;43mT\u001b[39;49m\u001b[38;5;124;43m\"\u001b[39;49m\u001b[43m,\u001b[49m\u001b[38;5;124;43m\"\u001b[39;49m\u001b[38;5;124;43mVZ\u001b[39;49m\u001b[38;5;124;43m\"\u001b[39;49m\u001b[43m,\u001b[49m\u001b[38;5;124;43m\"\u001b[39;49m\u001b[38;5;124;43mPFE\u001b[39;49m\u001b[38;5;124;43m\"\u001b[39;49m\u001b[43m,\u001b[49m\u001b[38;5;124;43m\"\u001b[39;49m\u001b[38;5;124;43mWFC\u001b[39;49m\u001b[38;5;124;43m\"\u001b[39;49m\u001b[43m,\u001b[49m\u001b[38;5;124;43m\"\u001b[39;49m\u001b[38;5;124;43mCLF\u001b[39;49m\u001b[38;5;124;43m\"\u001b[39;49m\u001b[43m,\u001b[49m\u001b[38;5;124;43m\"\u001b[39;49m\u001b[38;5;124;43mHSY\u001b[39;49m\u001b[38;5;124;43m\"\u001b[39;49m\u001b[43m,\u001b[49m\u001b[38;5;124;43m\"\u001b[39;49m\u001b[38;5;124;43mCOP\u001b[39;49m\u001b[38;5;124;43m\"\u001b[39;49m\u001b[43m,\u001b[49m\u001b[38;5;124;43m\"\u001b[39;49m\u001b[38;5;124;43mTGT\u001b[39;49m\u001b[38;5;124;43m\"\u001b[39;49m\u001b[43m]\u001b[49m\u001b[43m,\u001b[49m\u001b[43mstart_date\u001b[49m\u001b[38;5;241;43m=\u001b[39;49m\u001b[38;5;124;43m\"\u001b[39;49m\u001b[38;5;124;43m2015-11-30\u001b[39;49m\u001b[38;5;124;43m\"\u001b[39;49m\u001b[43m,\u001b[49m\u001b[43mend_date\u001b[49m\u001b[38;5;241;43m=\u001b[39;49m\u001b[38;5;124;43m\"\u001b[39;49m\u001b[38;5;124;43m2020-12-31\u001b[39;49m\u001b[38;5;124;43m\"\u001b[39;49m\u001b[43m,\u001b[49m\n\u001b[0;32m      2\u001b[0m \u001b[43m                    \u001b[49m\u001b[43mfrequency\u001b[49m\u001b[38;5;241;43m=\u001b[39;49m\u001b[38;5;124;43m\"\u001b[39;49m\u001b[38;5;124;43mM\u001b[39;49m\u001b[38;5;124;43m\"\u001b[39;49m\u001b[43m)\u001b[49m\u001b[38;5;241;43m.\u001b[39;49m\u001b[43mreturns\u001b[49m\u001b[43m(\u001b[49m\u001b[43mreturn_type\u001b[49m\u001b[43m \u001b[49m\u001b[38;5;241;43m=\u001b[39;49m\u001b[43m \u001b[49m\u001b[38;5;124;43m'\u001b[39;49m\u001b[38;5;124;43mlog\u001b[39;49m\u001b[38;5;124;43m'\u001b[39;49m\u001b[43m)\u001b[49m\n\u001b[0;32m      3\u001b[0m returns_indice \u001b[38;5;241m=\u001b[39m get_data(symbols\u001b[38;5;241m=\u001b[39m[\u001b[38;5;124m\"\u001b[39m\u001b[38;5;124m^GSPC\u001b[39m\u001b[38;5;124m\"\u001b[39m],start_date\u001b[38;5;241m=\u001b[39m\u001b[38;5;124m\"\u001b[39m\u001b[38;5;124m2015-11-30\u001b[39m\u001b[38;5;124m\"\u001b[39m,end_date\u001b[38;5;241m=\u001b[39m\u001b[38;5;124m\"\u001b[39m\u001b[38;5;124m2020-12-31\u001b[39m\u001b[38;5;124m\"\u001b[39m,\n\u001b[0;32m      4\u001b[0m                     frequency\u001b[38;5;241m=\u001b[39m\u001b[38;5;124m\"\u001b[39m\u001b[38;5;124mM\u001b[39m\u001b[38;5;124m\"\u001b[39m)\u001b[38;5;241m.\u001b[39mreturns(return_type \u001b[38;5;241m=\u001b[39m \u001b[38;5;124m'\u001b[39m\u001b[38;5;124mlog\u001b[39m\u001b[38;5;124m'\u001b[39m)\n\u001b[0;32m      6\u001b[0m r_target \u001b[38;5;241m=\u001b[39m returns\u001b[38;5;241m.\u001b[39magg(np\u001b[38;5;241m.\u001b[39mmean)\u001b[38;5;241m.\u001b[39mmean()\n",
      "File \u001b[1;32mD:\\Documents\\Miguel\\Economia\\XI Semestre\\TP\\pypt\\load_data.py:163\u001b[0m, in \u001b[0;36mget_data.returns\u001b[1;34m(self, return_type, plot)\u001b[0m\n\u001b[0;32m    133\u001b[0m \u001b[38;5;124;03m\"\"\"\u001b[39;00m\n\u001b[0;32m    134\u001b[0m \u001b[38;5;124;03mEl método returns obtiene los retronos de los precios de yfinance con los parámetros \u001b[39;00m\n\u001b[0;32m    135\u001b[0m \u001b[38;5;124;03mde la clase get_data\u001b[39;00m\n\u001b[1;32m   (...)\u001b[0m\n\u001b[0;32m    160\u001b[0m \u001b[38;5;124;03mreturn: pandas.core.frame.Dataframe\u001b[39;00m\n\u001b[0;32m    161\u001b[0m \u001b[38;5;124;03m\"\"\"\u001b[39;00m\n\u001b[0;32m    162\u001b[0m \u001b[38;5;28;01mif\u001b[39;00m return_type \u001b[38;5;241m==\u001b[39m \u001b[38;5;124m\"\u001b[39m\u001b[38;5;124mlog\u001b[39m\u001b[38;5;124m\"\u001b[39m:\n\u001b[1;32m--> 163\u001b[0m     \u001b[38;5;28mself\u001b[39m\u001b[38;5;241m.\u001b[39m__ret \u001b[38;5;241m=\u001b[39m np\u001b[38;5;241m.\u001b[39mlog(\u001b[38;5;28;43mself\u001b[39;49m\u001b[38;5;241;43m.\u001b[39;49m\u001b[43mprices\u001b[49m\u001b[43m(\u001b[49m\u001b[43m)\u001b[49m\u001b[38;5;241m/\u001b[39m\u001b[38;5;28mself\u001b[39m\u001b[38;5;241m.\u001b[39mprices()\u001b[38;5;241m.\u001b[39mshift(\u001b[38;5;241m1\u001b[39m))\n\u001b[0;32m    164\u001b[0m \u001b[38;5;28;01melif\u001b[39;00m return_type \u001b[38;5;241m==\u001b[39m \u001b[38;5;124m\"\u001b[39m\u001b[38;5;124mari\u001b[39m\u001b[38;5;124m\"\u001b[39m:\n\u001b[0;32m    165\u001b[0m     \u001b[38;5;28mself\u001b[39m\u001b[38;5;241m.\u001b[39m__ret \u001b[38;5;241m=\u001b[39m (\u001b[38;5;28mself\u001b[39m\u001b[38;5;241m.\u001b[39mprices()\u001b[38;5;241m/\u001b[39m\u001b[38;5;28mself\u001b[39m\u001b[38;5;241m.\u001b[39mprices()\u001b[38;5;241m.\u001b[39mshift(\u001b[38;5;241m1\u001b[39m)) \u001b[38;5;241m-\u001b[39m \u001b[38;5;241m1\u001b[39m\n",
      "File \u001b[1;32mD:\\Documents\\Miguel\\Economia\\XI Semestre\\TP\\pypt\\load_data.py:96\u001b[0m, in \u001b[0;36mget_data.prices\u001b[1;34m(self, plot)\u001b[0m\n\u001b[0;32m     93\u001b[0m \u001b[38;5;66;03m# Iteramos cada uno de los símbolos para obtener la columna precio o precio ajustado\u001b[39;00m\n\u001b[0;32m     94\u001b[0m \u001b[38;5;28;01mfor\u001b[39;00m symbol \u001b[38;5;129;01min\u001b[39;00m \u001b[38;5;28mself\u001b[39m\u001b[38;5;241m.\u001b[39msymbols:\n\u001b[0;32m     95\u001b[0m     \u001b[38;5;66;03m# Descargamos la data usando la api de yahoo finance\u001b[39;00m\n\u001b[1;32m---> 96\u001b[0m     \u001b[38;5;28mself\u001b[39m\u001b[38;5;241m.\u001b[39m__data \u001b[38;5;241m=\u001b[39m \u001b[43myf\u001b[49m\u001b[38;5;241;43m.\u001b[39;49m\u001b[43mdownload\u001b[49m\u001b[43m(\u001b[49m\u001b[43msymbol\u001b[49m\u001b[43m,\u001b[49m\u001b[43mstart\u001b[49m\u001b[38;5;241;43m=\u001b[39;49m\u001b[38;5;28;43mself\u001b[39;49m\u001b[38;5;241;43m.\u001b[39;49m\u001b[43mstart_date\u001b[49m\u001b[43m,\u001b[49m\u001b[43mend\u001b[49m\u001b[38;5;241;43m=\u001b[39;49m\u001b[38;5;28;43mself\u001b[39;49m\u001b[38;5;241;43m.\u001b[39;49m\u001b[43mend_date\u001b[49m\u001b[43m,\u001b[49m\u001b[43mprogress\u001b[49m\u001b[38;5;241;43m=\u001b[39;49m\u001b[38;5;28;43;01mFalse\u001b[39;49;00m\u001b[43m)\u001b[49m\n\u001b[0;32m     97\u001b[0m     \u001b[38;5;66;03m# Escogemos la columna deseada\u001b[39;00m\n\u001b[0;32m     98\u001b[0m     \u001b[38;5;28;01mif\u001b[39;00m \u001b[38;5;28mself\u001b[39m\u001b[38;5;241m.\u001b[39mtype_price \u001b[38;5;241m==\u001b[39m \u001b[38;5;124m\"\u001b[39m\u001b[38;5;124mClose\u001b[39m\u001b[38;5;124m\"\u001b[39m:\n",
      "File \u001b[1;32md:\\documents\\miguel\\economia\\xi semestre\\.venv\\lib\\site-packages\\yfinance\\multi.py:112\u001b[0m, in \u001b[0;36mdownload\u001b[1;34m(tickers, start, end, actions, threads, group_by, auto_adjust, back_adjust, progress, period, show_errors, interval, prepost, proxy, rounding, timeout, **kwargs)\u001b[0m\n\u001b[0;32m    105\u001b[0m         _download_one_threaded(ticker, period\u001b[38;5;241m=\u001b[39mperiod, interval\u001b[38;5;241m=\u001b[39minterval,\n\u001b[0;32m    106\u001b[0m                                start\u001b[38;5;241m=\u001b[39mstart, end\u001b[38;5;241m=\u001b[39mend, prepost\u001b[38;5;241m=\u001b[39mprepost,\n\u001b[0;32m    107\u001b[0m                                actions\u001b[38;5;241m=\u001b[39mactions, auto_adjust\u001b[38;5;241m=\u001b[39mauto_adjust,\n\u001b[0;32m    108\u001b[0m                                back_adjust\u001b[38;5;241m=\u001b[39mback_adjust,\n\u001b[0;32m    109\u001b[0m                                progress\u001b[38;5;241m=\u001b[39m(progress \u001b[38;5;129;01mand\u001b[39;00m i \u001b[38;5;241m>\u001b[39m \u001b[38;5;241m0\u001b[39m), proxy\u001b[38;5;241m=\u001b[39mproxy,\n\u001b[0;32m    110\u001b[0m                                rounding\u001b[38;5;241m=\u001b[39mrounding, timeout\u001b[38;5;241m=\u001b[39mtimeout)\n\u001b[0;32m    111\u001b[0m     \u001b[38;5;28;01mwhile\u001b[39;00m \u001b[38;5;28mlen\u001b[39m(shared\u001b[38;5;241m.\u001b[39m_DFS) \u001b[38;5;241m<\u001b[39m \u001b[38;5;28mlen\u001b[39m(tickers):\n\u001b[1;32m--> 112\u001b[0m         \u001b[43m_time\u001b[49m\u001b[38;5;241;43m.\u001b[39;49m\u001b[43msleep\u001b[49m\u001b[43m(\u001b[49m\u001b[38;5;241;43m0.01\u001b[39;49m\u001b[43m)\u001b[49m\n\u001b[0;32m    114\u001b[0m \u001b[38;5;66;03m# download synchronously\u001b[39;00m\n\u001b[0;32m    115\u001b[0m \u001b[38;5;28;01melse\u001b[39;00m:\n\u001b[0;32m    116\u001b[0m     \u001b[38;5;28;01mfor\u001b[39;00m i, ticker \u001b[38;5;129;01min\u001b[39;00m \u001b[38;5;28menumerate\u001b[39m(tickers):\n",
      "\u001b[1;31mKeyboardInterrupt\u001b[0m: "
     ]
    }
   ],
   "source": [
    "returns = get_data(symbols=[\"MSFT\",\"T\",\"VZ\",\"PFE\",\"WFC\",\"CLF\",\"HSY\",\"COP\",\"TGT\"],start_date=\"2015-11-30\",end_date=\"2020-12-31\",\n",
    "                    frequency=\"M\").returns(return_type = 'log')\n",
    "# returns_indice = get_data(symbols=[\"^GSPC\"],start_date=\"2015-11-30\",end_date=\"2020-12-31\",\n",
    "#                     frequency=\"M\").returns(return_type = 'log')\n",
    "\n",
    "# r_target = returns.agg(np.mean).mean()"
   ]
  },
  {
   "cell_type": "code",
   "execution_count": 3,
   "id": "78581f52",
   "metadata": {},
   "outputs": [
    {
     "name": "stdout",
     "output_type": "stream",
     "text": [
      "     pcost       dcost       gap    pres   dres\n",
      " 0:  2.7106e-05 -7.9749e-01  1e+01  4e+00  7e+00\n",
      " 1:  2.4562e-04 -1.9523e+00  5e+00  1e+00  2e+00\n",
      " 2:  1.5918e-03 -5.2023e-01  6e-01  1e-01  2e-01\n",
      " 3:  1.8029e-03 -1.7913e-02  2e-02  4e-03  7e-03\n",
      " 4:  5.2150e-04 -1.4863e-03  2e-03  2e-04  4e-04\n",
      " 5:  1.1315e-04 -1.0966e-04  2e-04  3e-15  2e-19\n",
      " 6:  1.7130e-05 -1.5358e-05  3e-05  4e-16  6e-20\n",
      " 7:  2.9489e-06 -1.5168e-06  4e-06  2e-16  4e-20\n",
      " 8:  1.3818e-06  5.9508e-07  8e-07  8e-17  5e-21\n",
      " 9:  9.9189e-07  8.5694e-07  1e-07  1e-16  1e-20\n",
      "10:  9.1983e-07  9.1046e-07  9e-09  2e-16  1e-20\n",
      "Optimal solution found.\n"
     ]
    }
   ],
   "source": [
    "pmvg = PMV(returns=returns).mv().pmv\n",
    "psharpe = PMV(returns=returns).sharpe().psharpe\n",
    "psortino = PMV(returns=returns).sortino(rf = 0, cortos = True).psortino\n",
    "ptreynor = PMV(returns=returns).treynor(index_returns=returns_indice).ptreynor"
   ]
  },
  {
   "cell_type": "code",
   "execution_count": 6,
   "id": "97402e67",
   "metadata": {},
   "outputs": [
    {
     "name": "stdout",
     "output_type": "stream",
     "text": [
      "     pcost       dcost       gap    pres   dres\n",
      " 0:  1.1681e-03 -7.6881e-01  1e+01  4e+00  7e+00\n",
      " 1:  1.0729e-02 -1.9161e+00  5e+00  1e+00  2e+00\n",
      " 2:  6.2512e-02 -4.7191e-01  6e-01  1e-01  2e-01\n",
      " 3:  3.3204e-02 -3.1825e-02  7e-02  1e-04  3e-04\n",
      " 4:  5.1984e-03 -4.2328e-03  9e-03  1e-15  9e-18\n",
      " 5:  9.7917e-04 -2.5938e-04  1e-03  3e-16  4e-18\n",
      " 6:  6.7710e-04  2.7425e-04  4e-04  9e-17  2e-18\n",
      " 7:  6.0762e-04  5.2631e-04  8e-05  2e-16  2e-17\n",
      " 8:  5.6963e-04  5.6322e-04  6e-06  2e-16  2e-18\n",
      " 9:  5.6572e-04  5.6536e-04  4e-07  9e-17  6e-17\n",
      "10:  5.6552e-04  5.6551e-04  7e-09  1e-16  7e-17\n",
      "Optimal solution found.\n",
      "     pcost       dcost       gap    pres   dres\n",
      " 0:  1.1697e-03 -7.4707e-01  1e+01  4e+00  7e+00\n",
      " 1:  1.0739e-02 -1.8935e+00  5e+00  1e+00  2e+00\n",
      " 2:  6.2575e-02 -4.6752e-01  6e-01  1e-01  2e-01\n",
      " 3:  3.6818e-02 -4.7779e-02  8e-02  4e-03  7e-03\n",
      " 4:  7.5178e-03 -4.2756e-03  1e-02  1e-15  2e-17\n",
      " 5:  3.0088e-03  1.1041e-03  2e-03  2e-16  5e-18\n",
      " 6:  2.2327e-03  2.0407e-03  2e-04  3e-16  2e-17\n",
      " 7:  2.1247e-03  2.1071e-03  2e-05  5e-16  3e-17\n",
      " 8:  2.1137e-03  2.1128e-03  9e-07  3e-16  2e-16\n",
      " 9:  2.1131e-03  2.1131e-03  1e-08  5e-17  4e-16\n",
      "Optimal solution found.\n",
      "     pcost       dcost       gap    pres   dres\n",
      " 0:  1.1684e-03 -7.6552e-01  1e+01  4e+00  7e+00\n",
      " 1:  1.0730e-02 -1.9127e+00  5e+00  1e+00  2e+00\n",
      " 2:  6.2522e-02 -4.7139e-01  6e-01  1e-01  2e-01\n",
      " 3:  3.3700e-02 -3.3975e-02  7e-02  7e-04  1e-03\n",
      " 4:  5.4946e-03 -4.2917e-03  1e-02  8e-16  8e-18\n",
      " 5:  1.1065e-03 -1.2241e-04  1e-03  5e-16  3e-18\n",
      " 6:  7.0309e-04  4.5394e-04  2e-04  2e-16  4e-18\n",
      " 7:  6.8563e-04  5.8614e-04  1e-04  2e-16  4e-18\n",
      " 8:  6.2523e-04  6.2138e-04  4e-06  2e-16  1e-18\n",
      " 9:  6.2282e-04  6.2274e-04  9e-08  7e-17  9e-18\n",
      "Optimal solution found.\n",
      "     pcost       dcost       gap    pres   dres\n",
      " 0:  1.1676e-03 -7.7619e-01  1e+01  4e+00  7e+00\n",
      " 1:  1.0726e-02 -1.9235e+00  5e+00  1e+00  2e+00\n",
      " 2:  6.2490e-02 -4.7293e-01  6e-01  1e-01  2e-01\n",
      " 3:  3.2334e-02 -3.0758e-02  6e-02  7e-16  4e-17\n",
      " 4:  4.9605e-03 -4.2258e-03  9e-03  3e-16  7e-18\n",
      " 5:  8.7369e-04 -3.7799e-04  1e-03  2e-16  3e-18\n",
      " 6:  8.4195e-04  4.0130e-04  4e-04  1e-16  1e-18\n",
      " 7:  5.9316e-04  5.4869e-04  4e-05  1e-16  1e-18\n",
      " 8:  5.6667e-04  5.6180e-04  5e-06  1e-16  1e-18\n",
      " 9:  5.6313e-04  5.6288e-04  3e-07  2e-16  8e-18\n",
      "10:  5.6301e-04  5.6300e-04  1e-08  1e-16  2e-16\n",
      "Optimal solution found.\n"
     ]
    }
   ],
   "source": [
    "### Sin cortos \n",
    "vcov = np.array(returns.cov())\n",
    "mu = returns.agg(np.mean)\n",
    "\n",
    "pmvg_sc = solvers_qp(vcov=vcov,mu=mu, optimal_portfolio=pmvg[0],inequality=True)\n",
    "psharpe_sc = solvers_qp(vcov=vcov,mu=mu, optimal_portfolio=psharpe[0],inequality=True)\n",
    "psortino_sc = solvers_qp(vcov=vcov,mu=mu, optimal_portfolio=psortino[0],inequality=True) \n",
    "ptreynor_sc = solvers_qp(vcov=vcov,mu=mu, optimal_portfolio=[ptreynor[0]],inequality=True)"
   ]
  },
  {
   "cell_type": "code",
   "execution_count": 11,
   "id": "89cdfa97",
   "metadata": {},
   "outputs": [
    {
     "name": "stdout",
     "output_type": "stream",
     "text": [
      "PMVg\n",
      "PMvg sin cortos\n",
      "Sharpe\n",
      "Sharpe sin cortos\n",
      "Sortino\n",
      "Sortino sin cortos\n",
      "Treynor\n",
      "Treynor sin cortos\n"
     ]
    },
    {
     "data": {
      "image/png": "[encoded data removed]",
      "text/plain": [
       "<Figure size 1440x1800 with 8 Axes>"
      ]
     },
     "metadata": {},
     "output_type": "display_data"
    }
   ],
   "source": [
    "portfolios_weights = {\n",
    "    \"PMVg\": [0,0,pmvg[2]],\n",
    "    \"PMvg sin cortos\": [0,1,pmvg_sc],\n",
    "    \"Sharpe\": [1,0,psharpe[2]],\n",
    "    \"Sharpe sin cortos\": [1,1,psharpe_sc],\n",
    "    \"Sortino\": [2,0,psortino[2]],\n",
    "    \"Sortino sin cortos\": [2,1,psortino_sc],\n",
    "    \"Treynor\": [3,0,ptreynor[2]],\n",
    "    \"Treynor sin cortos\": [3,1,ptreynor_sc],\n",
    "}\n",
    "\n",
    "fig, axes = plt.subplots(4,2,figsize=(20,25), sharey=True)\n",
    "for i in portfolios_weights.items():\n",
    "    print(i[0])\n",
    "    if i[0] == \"Treynor\" or i[0] == \"Treynor sin cortos\":\n",
    "        ax = sns.barplot(ax=axes[i[1][0],i[1][1]],x=ptreynor[3].index,y=i[1][2])\n",
    "    else:\n",
    "        ax = sns.barplot(ax=axes[i[1][0],i[1][1]],x=returns.columns,y=i[1][2])\n",
    "\n",
    "    for p,name in zip(ax.patches,returns.columns):\n",
    "        ax.annotate(name,(p.get_x() + p.get_width() / 2., p.get_height()),\n",
    "                    ha='center', va='center',\n",
    "                    xytext=(0, 7), textcoords='offset points')\n",
    "    ax.set(xticklabels=[])\n",
    "    ax.set_title(f'{i[0]}')"
   ]
  },
  {
   "cell_type": "code",
   "execution_count": 9,
   "id": "c93ba295",
   "metadata": {},
   "outputs": [],
   "source": [
    "# Retornos estimados sin cortos \n",
    "\n",
    "Rmvg = returns @ pmvg_sc\n",
    "Rsharpe = returns @ psharpe_sc\n",
    "Rsortino = returns @ psortino_sc\n",
    "Rtreynor = returns @ ptreynor_sc\n",
    "R_indice = returns_indice"
   ]
  },
  {
   "cell_type": "code",
   "execution_count": 11,
   "id": "20c804a5",
   "metadata": {},
   "outputs": [],
   "source": [
    "def Performance(VP, portfolios_returns):\n",
    "    # Definimos el valor futuro como vf = vp*e^{r_{i}}\n",
    "    VF = lambda x: VP*np.exp(x)\n",
    "    n =  len(portfolios_returns[0])\n",
    "    perf = np.zeros((n,len(portfolios_returns)))\n",
    "    perf[0,:] = VP\n",
    "    for i in range(len(portfolios_returns)):\n",
    "        ret = np.array(portfolios_returns[i])\n",
    "        for j in range(1,n):\n",
    "            perf[j,i] = perf[j-1,i]*np.exp(ret[j-1])\n",
    "        \n",
    "    return perf"
   ]
  },
  {
   "cell_type": "code",
   "execution_count": 12,
   "id": "f777058b",
   "metadata": {},
   "outputs": [
    {
     "data": {
      "text/plain": [
       "<AxesSubplot:>"
      ]
     },
     "execution_count": 12,
     "metadata": {},
     "output_type": "execute_result"
    },
    {
     "data": {
      "image/png": "[encoded data removed]",
      "text/plain": [
       "<Figure size 432x288 with 1 Axes>"
      ]
     },
     "metadata": {},
     "output_type": "display_data"
    }
   ],
   "source": [
    "performance_insample = pd.DataFrame(Performance(100, portfolios_returns=[Rmvg,Rsharpe,Rsortino,Rtreynor,R_indice]),\n",
    "    columns=[\"MVG\",\"Sharpe\",\"Sortino\",\"Treynor\",\"S&P500\"])\n",
    "performance_insample.plot()"
   ]
  },
  {
   "cell_type": "markdown",
   "id": "5f23409e",
   "metadata": {},
   "source": [
    "## Out-sample performance"
   ]
  },
  {
   "cell_type": "markdown",
   "id": "89226a40",
   "metadata": {},
   "source": [
    "# Risk-parity Portfolio"
   ]
  },
  {
   "cell_type": "markdown",
   "id": "3f41f68b",
   "metadata": {},
   "source": [
    "# Modelo multi-factorial\n",
    "\n",
    "Partiendo del modelo CAPM\n",
    "\n",
    "\\begin{align*}\n",
    "    y_{t} &= \\alpha + \\beta_{1}X_{t} + ... + \\beta_{k}X_{k,t} + \\epsilon_{t}\\\\   \n",
    "\\end{align*}\n",
    "\n",
    "donde $K:$ factores de riesgo y $X_{1},X_{2} ... X_{k}:$ retornos o \"prima\" de riesgo, en este caso tomaremos como activo uníndice cualquiera y la referencia del mercado será un índice global del mercado que construimos de la siguiente forma\n",
    "\n",
    "Escrita la eucación anterior de forma matricial\n",
    "\\begin{align*}\n",
    "    \\boldsymbol{y} &= \\boldsymbol{\\alpha} + \\mathbf{X}\\mathbf{B} + \\boldsymbol{\\epsilon}\n",
    "\\end{align*}\n",
    "\n",
    "Donde el retorno esperado se calcula como $E(\\boldsymbol{y})  = \\boldsymbol{\\alpha} + \\mathbf{B}'E(\\mathbf{X})$ y la descomposición del valor esta dada por $V(\\boldsymbol{y}) = \\mathbf{B} \\Omega \\mathbf{B} + V(\\boldsymbol{\\epsilon})$, tal que $\\Omega$ es la matriz de varianzas y covarianzas de los retornos del índice global"
   ]
  },
  {
   "cell_type": "markdown",
   "id": "f5c4e2ac",
   "metadata": {},
   "source": [
    "Para construir el índice global debemos tener en cuenta el riesdo de mercado y el riesgo de tipo de cambio para cada (índice) país considerado\n",
    "\n"
   ]
  },
  {
   "cell_type": "markdown",
   "id": "f45f4459",
   "metadata": {},
   "source": [
    "\\begin{align*}\n",
    "    \\text{Retorno Sistémico} = \\mathbf{B}\\mathbf{R}+ \\mathbf{X}\n",
    "\\end{align*}\n",
    "Donde\n",
    "\\begin{align*}\n",
    "    \\mathbf{B} &= \\frac{cov(i,m_{global})}{\\sigma^{2}_{m_{global}}}\\\\\n",
    "    \\mathbf{R} &= \\text{Retornos del índice}\\\\\n",
    "    \\mathbf{X} &= \\text{Retornos de FX}_{rate}\n",
    "\\end{align*}\n",
    "\\begin{align*}\n",
    "    \\text{Varianza Sistémico} = \\mathbf{B}^{2}V(\\mathbf{R})+ V(\\mathbf{X}) + 2\\mathbf{B}cov(\\mathbf{R},\\mathbf{X})\n",
    "\\end{align*}"
   ]
  },
  {
   "cell_type": "markdown",
   "id": "e36eec73",
   "metadata": {},
   "source": [
    "## Portafolio internacional"
   ]
  },
  {
   "cell_type": "markdown",
   "id": "9d68de27",
   "metadata": {},
   "source": [
    "\\begin{align*}\n",
    "    R_{pz} &= (\\mathbf{BW})'\\mathbf{X}\\\\\n",
    "    V_{pz} &= (\\mathbf{BW})' \\Omega (\\mathbf{BW})\n",
    "\\end{align*}"
   ]
  },
  {
   "cell_type": "markdown",
   "id": "7e57fb23",
   "metadata": {},
   "source": [
    "# Modelo Black-Litterman\n",
    "\n",
    "Es un modelo que contempla las expectativas de mercado\n",
    "\\begin{align*}\n",
    "    U = \\mathbf{W}'\\Pi-\\frac{\\lambda}{2}\\mathbf{W}'\\mathbf{\\Sigma}\\mathbf{W}\n",
    "\\end{align*}\n",
    "\n",
    "Donde $\\lambda:$ coeficiente de aversión al riesgo y $\\Pi:$ nuevos retornos $\\rightarrow$ excesos de retorno de equilibrio. el problema de optimización se formula como \n",
    "\n",
    "\\begin{align*}\n",
    "    \\max_{\\mathbf{W}} & {U}\\\\\n",
    "    \\text{s.a} \\quad & \\frac{dU}{d\\mathbf{W}} = \\Pi - \\lambda \\mathbf{\\Sigma}\\mathbf{W} = 0\\\\\n",
    "\\end{align*}\n",
    "\n",
    "Note que \n",
    "\n",
    "\\begin{align*}\n",
    "    \\mathbf{W}'\\Pi &= \\lambda \\mathbf{W}'\\mathbf{\\Sigma}\\mathbf{W}\\\\\n",
    "    (r-r_{f}) &= \\lambda \\sigma_{p}^{2}\\\\\n",
    "        \\lambda &= \\frac{r-r_{f}}{\\sigma_{p}^{2}} = \\frac{\\text{Sharpe ratio}}{\\sigma_{p}}\n",
    "\\end{align*}\n",
    "\n",
    "Desarrollando\n",
    "\n",
    "\\begin{align*}\n",
    "    \\Pi &= \\lambda \\mathbf{\\Sigma}\\mathbf{W}\\\\\n",
    "    \\mathbf{W} &= (\\lambda \\mathbf{\\Sigma})^{-1}\\Pi\n",
    "\\end{align*}\n",
    "\n",
    "\\begin{align*}\n",
    "    E[R] &= [(\\tau \\mathbf{\\Sigma})^{-1} + \\Rho\\Omega^{-1}\\Rho]^{-1}[(\\tau \\mathbf{\\Sigma})^{-1} \\Pi + \\Rho' \\Omega^{-1}Q]\n",
    "\\end{align*}\n",
    "\n",
    "tal que los viwes son los creencias previas sobre los retornos y además.\n",
    "\\begin{align*}\n",
    "    \\tau &: \\text{escalar}\\\\\n",
    "    \\mathbf{\\Sigma} &: \\text{matriz vcov}\\\\\n",
    "    \\Rho &: \\text{Matriz de activos con } k \\text{ views } (k \\times n)\\\\\n",
    "    Q &: \\text{Vector de views}\\\\\n",
    "    \\Omega &: \\text{Matrix vcov de los erroes de los views}\n",
    "\\end{align*}"
   ]
  }
 ],
 "metadata": {
  "interpreter": {
   "hash": "01876ece78b97e128b1cdf56c3d72faef558e4231a6c14560acd388e3cc370a8"
  },
  "kernelspec": {
   "display_name": "Python 3 (ipykernel)",
   "language": "python",
   "name": "python3"
  },
  "language_info": {
   "codemirror_mode": {
    "name": "ipython",
    "version": 3
   },
   "file_extension": ".py",
   "mimetype": "text/x-python",
   "name": "python",
   "nbconvert_exporter": "python",
   "pygments_lexer": "ipython3",
   "version": "3.8.5"
  },
  "toc": {
   "base_numbering": 1,
   "nav_menu": {},
   "number_sections": true,
   "sideBar": true,
   "skip_h1_title": false,
   "title_cell": "Table of Contents",
   "title_sidebar": "Contents",
   "toc_cell": false,
   "toc_position": {
    "height": "calc(100% - 180px)",
    "left": "10px",
    "top": "150px",
    "width": "303.825px"
   },
   "toc_section_display": true,
   "toc_window_display": true
  },
  "varInspector": {
   "cols": {
    "lenName": 16,
    "lenType": 16,
    "lenVar": 40
   },
   "kernels_config": {
    "python": {
     "delete_cmd_postfix": "",
     "delete_cmd_prefix": "del ",
     "library": "var_list.py",
     "varRefreshCmd": "print(var_dic_list())"
    },
    "r": {
     "delete_cmd_postfix": ") ",
     "delete_cmd_prefix": "rm(",
     "library": "var_list.r",
     "varRefreshCmd": "cat(var_dic_list()) "
    }
   },
   "types_to_exclude": [
    "module",
    "function",
    "builtin_function_or_method",
    "instance",
    "_Feature"
   ],
   "window_display": false
  }
 },
 "nbformat": 4,
 "nbformat_minor": 5
}
