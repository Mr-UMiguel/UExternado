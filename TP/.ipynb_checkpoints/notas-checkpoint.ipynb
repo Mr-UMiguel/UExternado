{
 "cells": [
  {
   "cell_type": "markdown",
   "id": "298d6628",
   "metadata": {},
   "source": [
    "<center><h1> Teoría de Portafolios </h1></center>\n",
    "<center><h3> Universidad Externado de Colombia - Prof. Oscar Reyes </h3></center>\n",
    "<br>\n",
    "<br>\n",
    "<center><h2> Notas de Clase </h2></center>\n",
    "<center><h3> Miguel Angel Manrique Rodriguez </h3></center>\n",
    "<center><h3> 2022-1S </h3></center>"
   ]
  },
  {
   "cell_type": "markdown",
   "id": "80f0b18c",
   "metadata": {},
   "source": [
    "    Al momento de querer realizar indexación de la ecuaciónes utilizar\n",
    "        \\newcommand{\\owntag}[1]{\\stepcounter{equation}\\tag{\\theequation. #1}}\n",
    "    en el archivo .tex"
   ]
  },
  {
   "cell_type": "markdown",
   "id": "611ce596",
   "metadata": {},
   "source": [
    "Y luego agregar a la ecuación \n",
    "\\begin{align}\n",
    "\\dot{x} & = \\sigma(y-x)  \\owntag{indice} \\\\\n",
    "\\end{align}"
   ]
  },
  {
   "cell_type": "code",
   "execution_count": 2,
   "id": "84cb5873",
   "metadata": {},
   "outputs": [],
   "source": [
    "import pandas as pd\n",
    "import numpy as np\n",
    "import matplotlib.pyplot as plt\n",
    "import seaborn as sns\n",
    "import yfinance as yf\n",
    "\n",
    "import cvxopt\n",
    "from cvxopt import matrix\n",
    "from cvxopt import solvers\n",
    "\n",
    "sns.set_theme(font=\"Times New Roman\",font_scale=1)"
   ]
  },
  {
   "cell_type": "markdown",
   "id": "b370b1bb",
   "metadata": {},
   "source": [
    "# Repaso estadística"
   ]
  },
  {
   "cell_type": "markdown",
   "id": "c5f470db",
   "metadata": {},
   "source": [
    "# Portafolios de Inversión\n"
   ]
  },
  {
   "cell_type": "markdown",
   "id": "123453bb",
   "metadata": {},
   "source": [
    "## load_data\n",
    "definimos una función que nos permita importar el precio ajustado de cualquier activo siempre y cuando conozcamos su symbolo de yahoo finance; además no permite graficar el retorno logarítimico de un período de cada activo"
   ]
  },
  {
   "cell_type": "code",
   "execution_count": 2,
   "id": "1ec5bb08",
   "metadata": {},
   "outputs": [],
   "source": [
    "def load_data(symbols,start,end,plot):\n",
    "    # Carga de datos\n",
    "\n",
    "    data = pd.DataFrame({})\n",
    "    for symbol in symbols:\n",
    "        data_temp = yf.download(symbol, start=start, end=end,progress=False)\n",
    "        data_temp = data_temp[['Adj Close']]\n",
    "        data_temp = np.log(data_temp['Adj Close']) - np.log(data_temp['Adj Close'].shift(1))\n",
    "        data_temp = data_temp.dropna()\n",
    "        \n",
    "        data = pd.concat([data,data_temp], axis=1)\n",
    "        \n",
    "    data.columns = symbols\n",
    "    \n",
    "    if plot==True:\n",
    "        data.plot(figsize=(10,7))\n",
    "        if len(symbols) > 3:\n",
    "            plt.legend(loc='center right', bbox_to_anchor=(1,1),\n",
    "                        fancybox=True, shadow=True, ncol=5)\n",
    "        plt.title(\"logarithmic return\", loc=\"left\", fontdict = {'fontsize':18})\n",
    "        plt.show()\n",
    "    return data"
   ]
  },
  {
   "cell_type": "code",
   "execution_count": 3,
   "id": "c961a057",
   "metadata": {},
   "outputs": [],
   "source": [
    "symbols = [\"TSLA\",\"BAC\",\"MA\"]\n",
    "data = load_data(symbols=symbols,start=\"2021-02-01\", end=\"2022-02-01\",plot=False)"
   ]
  },
  {
   "cell_type": "markdown",
   "id": "934d973e",
   "metadata": {},
   "source": [
    "### Matriz de Varianzas y Covarianzas, y coeficientes de correlación"
   ]
  },
  {
   "cell_type": "code",
   "execution_count": 4,
   "id": "b7a07c57",
   "metadata": {},
   "outputs": [
    {
     "name": "stdout",
     "output_type": "stream",
     "text": [
      "\n",
      "Matriz de varianzas y covarianzas\n",
      "---------------------------------\n",
      "[[1.28350870e-03 3.63019625e-05 1.10844435e-04]\n",
      " [3.63019625e-05 2.48961578e-04 9.08054596e-05]\n",
      " [1.10844435e-04 9.08054596e-05 3.36306974e-04]]\n",
      "---------------------------------\n",
      "\n",
      "Matriz de coeficientes de correlación\n",
      "\n",
      "---------------------------------\n",
      "[[1.         0.06421915 0.16871222]\n",
      " [0.06421915 1.         0.31381801]\n",
      " [0.16871222 0.31381801 1.        ]]\n",
      "---------------------------------\n",
      "\n"
     ]
    }
   ],
   "source": [
    "vcov, corr = np.matrix(data.cov()) , np.matrix(data.corr())\n",
    "print(f\"\"\"\n",
    "Matriz de varianzas y covarianzas\n",
    "---------------------------------\n",
    "{vcov}\n",
    "---------------------------------\n",
    "\n",
    "Matriz de coeficientes de correlación\n",
    "\n",
    "---------------------------------\n",
    "{corr}\n",
    "---------------------------------\n",
    "\"\"\")"
   ]
  },
  {
   "cell_type": "markdown",
   "id": "14100729",
   "metadata": {},
   "source": [
    "## Riesgo (varianza) y retorno del portafolio\n",
    "Ahora definimos una función que nos permita calcular la varianza del portafolio de acuerdo a un vector de ponderaciones que asignemos a cada activo en nuestro portafolio"
   ]
  },
  {
   "cell_type": "markdown",
   "id": "0931e4aa",
   "metadata": {},
   "source": [
    "### Retorno\n",
    "El retorno esperado del portafolio se define como \n",
    "\n",
    "\\begin{align}\n",
    "E(r_{p}) &= E(\\sum_{i=1}^{n}w_{i}r_{i}) = \\sum_{i=1}^{n}w_{i}E(r_{i})  \\owntag{3.1} \\\\\n",
    "\\end{align}\n",
    "\n",
    "s.a $\\sum_{i=1}^{n}w_{i}=1$, siendo $w_{i}$ la ponderación $w$ del activo $i$ en el portafolio y $E(r_{i})$ el retorno esperado del activo $i$\n",
    "\n",
    "### Riesgo\n",
    "La varianza del portafolio también se de conoce como el riesgo del portafolio, y en este caso estará determinada por \n",
    " + La varianza individual de cada activo del portafolio\n",
    " + por el grado de dependencia medido por la covarianza o el coeficiente de correlación entre ellas \n",
    " \n",
    "En sentido estricto, el riesgo de de un portafolio se define como la variabailidad de los retornos del portafolio $r_{p}$, o en otras palabras, la dispersión de los retornos\n",
    "\n",
    "\\begin{align}\n",
    "\\sigma_{X}^{2} &= E[X-E(X)]^{2} \\\\\n",
    "\\sigma_{p}^{2} &= E[r_{p}-E(r_{p})]^{2} \\owntag{3.2}\n",
    "\\end{align}"
   ]
  },
  {
   "cell_type": "markdown",
   "id": "c8285c02",
   "metadata": {},
   "source": [
    "### Varianza del portafolio caso 2 activos\n",
    "\n",
    "\\begin{align}\n",
    "\\sigma_{p}^{2} &= E[r_{p}-E(r_{p})]^{2} \\\\ \n",
    "               &= E[w_{1}r_{1} + w_{2}r_{2} - (w_{1}E(r_{1}) + w_{2}E(r_{2})]^{2} \\\\\n",
    "               &= E[w_{1}(r_{1}-E(r_{1})) + w_{2}(r_{2}-E(r_{2}))]^{2} \\owntag{3.3}\n",
    "\\end{align}\n",
    "\n",
    "Dado que $(a+b)^{2}=a^{2}+b^{2}+2ab$ y $E[x_{i}-E(x_{i})]^{2}=\\sigma_{x}^{2}$, además, como $w_{i}$ es constante su valor esperado es $w_{i}$. \n",
    "\n",
    "\\begin{align}\n",
    "    \\sigma_{p}^{2} = w_{1}^{2}\\sigma_{1}^{2} + w_{2}^{2}\\sigma_{2}^{2} + 2w_{1}w_{2}\\sigma_{1,2}  \\owntag{3.4}\n",
    "\\end{align}"
   ]
  },
  {
   "cell_type": "code",
   "execution_count": 3,
   "id": "9ee21dc2",
   "metadata": {},
   "outputs": [],
   "source": [
    "def var_p(data,weights,vcov):\n",
    "        \n",
    "# Varianza del portafolio\n",
    "    weights = np.array(weights)\n",
    "    vp = weights @ vcov @ weights.T\n",
    "    vp = vp[0,0]\n",
    "\n",
    "# Retorno del portafolio \n",
    "\n",
    "    r_symbols = data.agg(np.average)\n",
    "    rp = r_symbols @ weights\n",
    "    \n",
    "    return vp, rp \n"
   ]
  },
  {
   "cell_type": "code",
   "execution_count": 6,
   "id": "d2d4608c",
   "metadata": {},
   "outputs": [
    {
     "name": "stdout",
     "output_type": "stream",
     "text": [
      "\n",
      "Varianza del portafolio\n",
      "---------------------------------\n",
      "0.00019647122216668203\n",
      "---------------------------------\n",
      "\n",
      "Retorno del portafolio\n",
      "\n",
      "---------------------------------\n",
      "0.001565297823334792\n",
      "---------------------------------\n",
      "\n"
     ]
    }
   ],
   "source": [
    "Vp, Rp = var_p(data=data,weights=[0.05,0.8,0.15],vcov=vcov)\n",
    "print(f\"\"\"\n",
    "Varianza del portafolio\n",
    "---------------------------------\n",
    "{Vp}\n",
    "---------------------------------\n",
    "\n",
    "Retorno del portafolio\n",
    "\n",
    "---------------------------------\n",
    "{Rp}\n",
    "---------------------------------\n",
    "\"\"\")"
   ]
  },
  {
   "cell_type": "markdown",
   "id": "039746e6",
   "metadata": {},
   "source": [
    "# Portafolios de Markowitz"
   ]
  },
  {
   "cell_type": "markdown",
   "id": "e6cf2a2d",
   "metadata": {},
   "source": [
    "## Defenición\n",
    "\n",
    "Un portafolio se dice eficiente en el sentido de markowitz si:\n",
    " + Tiene el retorno esperado más alto para un nivel dado de riesgo\n",
    " + Tiene el riesgo esperado más bajo dado un nivel de retorno esperado\n"
   ]
  },
  {
   "cell_type": "markdown",
   "id": "c0e03276",
   "metadata": {},
   "source": [
    "## Análisis Retorno / Riesgo\n",
    "Dado los pesos [0.03,0.3,0.4] obtenemos el siguiente retorno/riesgo del portafolio"
   ]
  },
  {
   "cell_type": "code",
   "execution_count": 7,
   "id": "f2b33387",
   "metadata": {},
   "outputs": [
    {
     "name": "stdout",
     "output_type": "stream",
     "text": [
      "\n",
      "Riesgo del portafolio\n",
      "---------------------------------\n",
      "0.01570546939854258\n",
      "---------------------------------\n",
      "\n",
      "Retorno del portafolio\n",
      "\n",
      "---------------------------------\n",
      "0.0009661044706111623\n",
      "---------------------------------\n",
      "Retorno / Riesgo del portafolio\n",
      "---------------------------------\n",
      "0.06151388704757935\n",
      "---------------------------------\n",
      "\n"
     ]
    }
   ],
   "source": [
    "Vp, Rp = var_p(data=data,weights=[0.3,0.3,0.4],vcov=vcov)\n",
    "print(f\"\"\"\n",
    "Riesgo del portafolio\n",
    "---------------------------------\n",
    "{(Vp)**(1/2)}\n",
    "---------------------------------\n",
    "\n",
    "Retorno del portafolio\n",
    "\n",
    "---------------------------------\n",
    "{Rp}\n",
    "---------------------------------\n",
    "Retorno / Riesgo del portafolio\n",
    "---------------------------------\n",
    "{Rp/((Vp)**(1/2))}\n",
    "---------------------------------\n",
    "\"\"\")"
   ]
  },
  {
   "cell_type": "markdown",
   "id": "c3dd0986",
   "metadata": {},
   "source": [
    "## Análisis Retorno / Riesgo N portafolios y frontera eficiente de Markowitz\n",
    "\n",
    "El conjunto de todos los N portafolios eficientes desarrolla una curva en el espacio media-varianza llamada \"frontera eficiente\""
   ]
  },
  {
   "cell_type": "code",
   "execution_count": 8,
   "id": "103b6619",
   "metadata": {},
   "outputs": [],
   "source": [
    "# 1 = w1 + w2 + w3\n",
    "weights = np.random.dirichlet(np.ones(3),size=100)\n",
    "RR = []\n",
    "for weight in weights:\n",
    "    Vp, Rp = var_p(data=data,weights=weight,vcov=vcov)\n",
    "    RR.append(((Vp)**(1/2),Rp))"
   ]
  },
  {
   "cell_type": "code",
   "execution_count": 9,
   "id": "da931ace",
   "metadata": {},
   "outputs": [
    {
     "data": {
      "image/png": "[encoded data removed]",
      "text/plain": [
       "<Figure size 720x504 with 1 Axes>"
      ]
     },
     "metadata": {},
     "output_type": "display_data"
    }
   ],
   "source": [
    "argmin = RR[np.argmin([i[0] for i in RR])]\n",
    "fig = plt.figure(figsize=(10,7))\n",
    "plt.scatter(x=[i[0] for i in RR], y = [i[1] for i in RR])\n",
    "plt.scatter(x=argmin[0],y=argmin[1],color=\"salmon\")\n",
    "plt.annotate(\"Portafolio de mínima varianza\",xy=(argmin[0],argmin[1]),xytext =(argmin[0]+0.0030, argmin[1]+0.0001), \n",
    "            arrowprops = dict(facecolor ='salmon',shrink = 0.05))\n",
    "plt.title(\"Análisis Retorno / Riesgo de 100 portafolios\")\n",
    "plt.xlabel(\"Riesgo\")\n",
    "plt.ylabel(\"Retorno\")\n",
    "plt.show()"
   ]
  },
  {
   "cell_type": "markdown",
   "id": "c7832597",
   "metadata": {},
   "source": [
    "## Líneas de Isocuantas (Isomean) caso 2 activos"
   ]
  },
  {
   "cell_type": "code",
   "execution_count": 10,
   "id": "00ce6874",
   "metadata": {},
   "outputs": [],
   "source": [
    "data = load_data(symbols=['TSLA','BAC'],start=\"2021-02-01\", end=\"2022-02-01\",plot=False)"
   ]
  },
  {
   "cell_type": "markdown",
   "id": "c7b446b3",
   "metadata": {},
   "source": [
    "Despejando $w_{2}$ de 3.1 obtenemos\n",
    "\n",
    "\\begin{align}\n",
    "w_{2} &= \\frac{E(r_{p})}{E(r_{2})} - \\frac{E(r_{1})}{E(r_{2})}w_{1}   \\\\\n",
    "\\end{align}\n",
    "\n",
    "Donde $w_{1}$, $w_{2}$ y $E(r_{p})$ son tres variables enódgenas desconocidas y $E(r_{1})$ $E(r_{2})$ son dos variables exógenas conocidas Existen infinitas combinaciones de $w_{1}$ y $w_{2}$ que permiten alcanzar un mismo nivel de retorno esperado $E(r_{p})$. Por tanto, existen infinitas líneas como combinaciones de $w_{1}$ y $w_{2}$ para un mismo retorno de portafolio dado."
   ]
  },
  {
   "cell_type": "code",
   "execution_count": 11,
   "id": "4a10de31",
   "metadata": {},
   "outputs": [
    {
     "name": "stderr",
     "output_type": "stream",
     "text": [
      "C:\\Users\\Laptop\\AppData\\Local\\Temp\\ipykernel_4648\\3400882454.py:6: RuntimeWarning: invalid value encountered in true_divide\n",
      "  w2 = (E_rp/E_r2) - (E_r1/E_r2)*w1\n"
     ]
    }
   ],
   "source": [
    "# Vamos a supones E(r_{p}) conocido\n",
    "E_rp = np.arange(0,1,0.01)\n",
    "E_r1 = np.arange(0,1,0.01)\n",
    "E_r2 = np.arange(0,1,0.01)\n",
    "w1 = np.arange(0,1,0.01)\n",
    "w2 = (E_rp/E_r2) - (E_r1/E_r2)*w1"
   ]
  },
  {
   "cell_type": "markdown",
   "id": "8f480cb0",
   "metadata": {},
   "source": [
    "## Líneas de isovariance caso 2 activos"
   ]
  },
  {
   "cell_type": "markdown",
   "id": "276c6825",
   "metadata": {},
   "source": [
    "de 3.5 sabemos que $\\sigma_{p}^{2} = w_{1}^{2}\\sigma_{1}^{2} + w_{2}^{2}\\sigma_{2}^{2} + 2w_{1}w_{2}\\sigma_{1,2}$"
   ]
  },
  {
   "cell_type": "code",
   "execution_count": 12,
   "id": "e77658dd",
   "metadata": {},
   "outputs": [],
   "source": [
    "sigma_p2 = w1*np.var(data['TSLA']) + w2*np.var(data['BAC']) + 2*w1*w2*data.cov().iloc[1,1]"
   ]
  },
  {
   "cell_type": "code",
   "execution_count": 13,
   "id": "00541555",
   "metadata": {},
   "outputs": [
    {
     "data": {
      "image/png": "[encoded data removed]",
      "text/plain": [
       "<Figure size 720x504 with 1 Axes>"
      ]
     },
     "metadata": {},
     "output_type": "display_data"
    }
   ],
   "source": [
    "import numpy as np\n",
    "from matplotlib import pyplot as plt\n",
    "from math import pi\n",
    "\n",
    "fig = plt.figure(figsize=(10,7))\n",
    "\n",
    "for sigmap in sigma_p2[1:4]:\n",
    "    u=0     #x-position of the center\n",
    "    v=0    #y-position of the center\n",
    "    a=sigmap*3000    #radius on the x-axis\n",
    "    b=sigmap*3000    #radius on the y-axis\n",
    "    t = np.linspace(0, 2*pi, 100)\n",
    "    plt.plot( u+a*np.cos(t) , v+b*np.sin(t),color=\"skyblue\")\n",
    "\n",
    "plt.plot(w1,w2, color=\"salmon\")\n",
    "plt.axhline(0,color=\"grey\")\n",
    "plt.axvline(0,color=\"grey\")\n",
    "plt.show()"
   ]
  },
  {
   "cell_type": "markdown",
   "id": "23e585ce",
   "metadata": {},
   "source": [
    "# Diversificación de Markowitz"
   ]
  },
  {
   "cell_type": "markdown",
   "id": "43576659",
   "metadata": {},
   "source": [
    "### Supuestos del modelo\n",
    " + No hay ventas en corto"
   ]
  },
  {
   "cell_type": "markdown",
   "id": "8c348f19",
   "metadata": {},
   "source": [
    "## Cálculo de los pesos w"
   ]
  },
  {
   "cell_type": "markdown",
   "id": "16458f96",
   "metadata": {},
   "source": [
    "Para obtener el valor exacto de w1 y w2, que me permiten obtener el portafolio de mínimza varianza igualamos a 0 la derivada de la varianza del portafolio $\\sigma_{p}^{2}$\n",
    "\n",
    "\n",
    "\\begin{align}\n",
    "0=\\frac{\\partial{\\sigma_{p}^{2}}}{\\partial{w_{1}}} &= \\frac{\\partial{}}{\\partial{w_{1}}} [w_{1}^{2}\\sigma_{1}^{2}+(1-w_{1})^{2}\\sigma_{2}^{2}+2w_{1}(1-w_{1})\\sigma_{1,2}]  \\owntag{5.1} \\\\\n",
    "&= 2w_{1}\\sigma_{1}^{2}-2(1-w_{1})^{2}\\sigma_{2}^{2} + 2(1-2w_{1})\\sigma_{1,2}\\\\\n",
    "w_{1}&=\\frac{\\sigma_{2}^{2}-\\sigma_{1,2}}{\\sigma_{1}^{2}+\\sigma_{2}^{2}-2\\sigma_{1,2}}\\\\\n",
    "w_{2}&= 1-w_{1}\n",
    "\\end{align}"
   ]
  },
  {
   "cell_type": "markdown",
   "id": "f5493778",
   "metadata": {},
   "source": [
    "## Diversificación\n",
    "\n",
    "En el sentido de Markowtiz, cuanto menor sea la correlación de los activos de una cartera, menos reisgosa será esa cartera. Por el contrario, cuanto más se acerca a $+1$ la correlación de los activos, más riesgosa será la cartera; veamos.\n",
    "\n",
    " + $E(r_{1}) = 0.05$ , $E(r_{2}) = 0.15$\n",
    " + $\\sigma_{1}=0.20$ , $\\sigma_{2}=0.40$\n",
    " + $w_{1mvp} = 2/3$ , $w_{1mvp} = 1/3$"
   ]
  },
  {
   "cell_type": "code",
   "execution_count": 14,
   "id": "0e6bd418",
   "metadata": {},
   "outputs": [],
   "source": [
    "E_r1 = 0.05\n",
    "E_r2 = 0.15\n",
    "sigma_1 = 0.2\n",
    "sigma_2 = 0.4\n",
    "w1 = 2/3\n",
    "w2 = 1/3"
   ]
  },
  {
   "cell_type": "code",
   "execution_count": 15,
   "id": "2cc4057f",
   "metadata": {},
   "outputs": [],
   "source": [
    "E_rp = w1*E_r1 + w2*E_r2\n",
    "sigma_p1m = (w1**2)*(sigma_1)**2+(w2**2)*(sigma_2**2)\n",
    "sigma_p2m = 2*((2/3)*(1/3))*(0.2)*(0.4)"
   ]
  },
  {
   "cell_type": "code",
   "execution_count": 16,
   "id": "0fff2a4f",
   "metadata": {},
   "outputs": [
    {
     "name": "stdout",
     "output_type": "stream",
     "text": [
      "Si el coeficiente de correlación es 1, entonces la varianza del portafolio es \n",
      " 0.2667 \n",
      "\n",
      "Si el coeficiente de correlación es 0, entonces la varianza del portafolio es \n",
      " 0.1886 \n",
      "\n",
      "Si el coeficiente de correlación es -1, entonces la varianza del portafolio es \n",
      " 0.0 \n",
      "\n"
     ]
    }
   ],
   "source": [
    "rho = [1,0,-1]\n",
    "for r in rho:\n",
    "    print(f\"Si el coeficiente de correlación es {r}, entonces la varianza del portafolio es\",\"\\n\",\n",
    "          round((sigma_p1m+(sigma_p2m*r))**(1/2),4),\"\\n\")"
   ]
  },
  {
   "cell_type": "markdown",
   "id": "e92f0b15",
   "metadata": {},
   "source": []
  },
  {
   "cell_type": "markdown",
   "id": "923c71a7",
   "metadata": {},
   "source": [
    "# Modelo media varianza MV"
   ]
  },
  {
   "cell_type": "markdown",
   "id": "9a8468f8",
   "metadata": {},
   "source": [
    "## Ejercicio pre-parcial"
   ]
  },
  {
   "cell_type": "code",
   "execution_count": 21,
   "id": "85390e92",
   "metadata": {},
   "outputs": [],
   "source": [
    "# symbols = [\"TSLA\",\"BAC\",\"MA\",\"KO\",\"F\"]\n",
    "# # data = load_data(symbols=symbols, start='2011-02-01', end=\"2022-02-01\",plot=False)\n",
    "# data = pd.DataFrame({})\n",
    "# for symbol in symbols:\n",
    "#     data_temp = yf.download(symbol, start='2011-01-02', end='2022-01-02',progress=False)\n",
    "#     data_temp = data_temp[['Adj Close']]\n",
    "#     data = pd.concat([data,data_temp],axis=1)\n",
    "# data.columns=symbols\n",
    "\n",
    "# data = data.resample(\"M\").last()"
   ]
  },
  {
   "cell_type": "code",
   "execution_count": 22,
   "id": "cef0bc87",
   "metadata": {},
   "outputs": [
    {
     "data": {
      "image/png": "[encoded data removed]",
      "text/plain": [
       "<Figure size 720x504 with 1 Axes>"
      ]
     },
     "metadata": {},
     "output_type": "display_data"
    }
   ],
   "source": [
    "# data.plot(figsize=(10,7))\n",
    "# plt.show()"
   ]
  },
  {
   "cell_type": "code",
   "execution_count": 62,
   "id": "bb1ba247",
   "metadata": {},
   "outputs": [],
   "source": [
    "# data = load_data(symbols=[\"TSLA\",\"BAC\",\"MA\",\"KO\",\"F\"], start='2011-02-01',end='2022-02-01',plot=True)\n",
    "# data = np.log(data) - np.log(data.shift(1))\n",
    "# data = data.dropna()"
   ]
  },
  {
   "cell_type": "code",
   "execution_count": 6,
   "id": "a759f65a",
   "metadata": {},
   "outputs": [],
   "source": [
    "data = pd.read_excel(\"retornos.xlsx\")"
   ]
  },
  {
   "cell_type": "code",
   "execution_count": 8,
   "id": "52fa31e3",
   "metadata": {},
   "outputs": [],
   "source": [
    "# matriz de varianzas y covarianzas\n",
    "vcov, corr = np.matrix(data.cov()) , np.matrix(data.corr())\n",
    "\n",
    "# retorno esperado de los activos\n",
    "E_ri = data.agg(np.mean)\n",
    "\n",
    "# varianza y desviación estándar de los activos\n",
    "var_i = np.diag(vcov)\n",
    "sigma_i = np.sqrt(var_i)"
   ]
  },
  {
   "cell_type": "markdown",
   "id": "d9a80ac0",
   "metadata": {},
   "source": [
    "### Construcción de los portafolios óptimos"
   ]
  },
  {
   "cell_type": "code",
   "execution_count": 9,
   "id": "9260abce",
   "metadata": {},
   "outputs": [],
   "source": [
    "n = len(E_ri)\n",
    "ones = np.ones(n)\n",
    "x = np.transpose(E_ri) @ np.linalg.inv(vcov) @ E_ri\n",
    "y = np.transpose(E_ri) @ np.linalg.inv(vcov) @ ones\n",
    "z = np.transpose(ones) @ np.linalg.inv(vcov) @ ones\n",
    "d = x*z - y**2"
   ]
  },
  {
   "cell_type": "code",
   "execution_count": 10,
   "id": "91f85a4f",
   "metadata": {},
   "outputs": [],
   "source": [
    "g = (np.linalg.solve(vcov,ones) * np.array(x)-np.linalg.solve(vcov,E_ri)*np.array(y)) * 1/d\n",
    "h = (np.linalg.solve(vcov,E_ri) * np.array(z)-np.linalg.solve(vcov,ones)*np.array(y)) * 1/d"
   ]
  },
  {
   "cell_type": "code",
   "execution_count": 11,
   "id": "76729fc4",
   "metadata": {},
   "outputs": [],
   "source": [
    "Rp = np.linspace(start=np.min(E_ri), stop=np.max(E_ri),num=1000)\n",
    "wpo = np.zeros((1000,n))\n",
    "sigmapo = np.zeros(1000)\n",
    "rpo = np.zeros(1000)"
   ]
  },
  {
   "cell_type": "code",
   "execution_count": 12,
   "id": "5fe01889",
   "metadata": {},
   "outputs": [],
   "source": [
    "for i in range(1,1000):\n",
    "    wi = g+h*Rp[i]\n",
    "    sigmapo[i] = np.sqrt(wi@vcov@np.transpose(wi))\n",
    "    rpo[i] = wi @ E_ri\n",
    "    wpo[i] = wi"
   ]
  },
  {
   "cell_type": "markdown",
   "id": "12903e43",
   "metadata": {},
   "source": [
    "### Portafolio de mínima varianza\n"
   ]
  },
  {
   "cell_type": "code",
   "execution_count": 13,
   "id": "742c530c",
   "metadata": {},
   "outputs": [],
   "source": [
    "wpmv = np.linalg.solve(vcov,ones) * 1/z\n",
    "rpmv = wpmv @ E_ri\n",
    "sigmapmv = np.sqrt(wpmv@vcov@np.transpose(wpmv))"
   ]
  },
  {
   "cell_type": "code",
   "execution_count": 14,
   "id": "3b8a5049",
   "metadata": {},
   "outputs": [
    {
     "data": {
      "image/png": "[encoded data removed]",
      "text/plain": [
       "<Figure size 720x504 with 1 Axes>"
      ]
     },
     "metadata": {},
     "output_type": "display_data"
    }
   ],
   "source": [
    "fig_pmv = plt.figure(figsize=(10,7))\n",
    "plt.scatter(sigma_i,E_ri, color=\"blue\")\n",
    "plt.scatter(sigmapo,rpo,color=\"skyblue\",s=8)\n",
    "plt.scatter(sigmapmv[0,0],rpmv[0], color=\"salmon\", s=100)\n",
    "plt.annotate(\"PMV\",xy=(sigmapmv[0,0],rpmv[0]),xytext =(sigmapmv[0,0]-0.010, rpmv[0]))\n",
    "plt.show()"
   ]
  },
  {
   "cell_type": "code",
   "execution_count": 20,
   "id": "b77d2660",
   "metadata": {},
   "outputs": [],
   "source": [
    "def PMV(data):\n",
    "    # data = load_data(symbols=symbols, start='2011-02-01',end='2022-02-01',plot=True)\n",
    "#     data = np.log(data) - np.log(data.shift(1))\n",
    "#     data = data.dropna()\n",
    "    # matriz de varianzas y covarianzas\n",
    "    vcov, corr = np.matrix(data.cov()) , np.matrix(data.corr())\n",
    "\n",
    "    # retorno esperado de los activos\n",
    "    E_ri = data.agg(np.mean)\n",
    "\n",
    "    # varianza y desviación estándar de los activos\n",
    "    var_i = np.diag(vcov)\n",
    "    sigma_i = np.sqrt(var_i)\n",
    "\n",
    "    n = len(E_ri)\n",
    "    ones = np.ones(n)\n",
    "    x = np.transpose(E_ri) @ np.linalg.inv(vcov) @ E_ri\n",
    "    y = np.transpose(E_ri) @ np.linalg.inv(vcov) @ ones\n",
    "    z = np.transpose(ones) @ np.linalg.inv(vcov) @ ones\n",
    "    d = x*z - y**2\n",
    "\n",
    "    g = (np.linalg.solve(vcov,ones) * np.array(x)-np.linalg.solve(vcov,E_ri)*np.array(y)) * 1/d\n",
    "    h = (np.linalg.solve(vcov,E_ri) * np.array(z)-np.linalg.solve(vcov,ones)*np.array(y)) * 1/d\n",
    "\n",
    "    Rp = np.linspace(start=np.min(E_ri), stop=np.max(E_ri),num=1000)\n",
    "    wpo = np.zeros((1000,n))\n",
    "    sigmapo = np.zeros(1000)\n",
    "    rpo = np.zeros(1000)\n",
    "\n",
    "    wpmv = np.linalg.solve(vcov,ones) * 1/z\n",
    "    rpmv = wpmv @ E_ri\n",
    "    sigmapmv = np.sqrt(wpmv@vcov@np.transpose(wpmv))\n",
    "\n",
    "    return wpmv, rpmv, sigmapmv"
   ]
  },
  {
   "cell_type": "code",
   "execution_count": 37,
   "id": "fd82ddb0",
   "metadata": {},
   "outputs": [],
   "source": [
    "wpmv , rpmv , spmv = PMV(data=data)"
   ]
  },
  {
   "cell_type": "code",
   "execution_count": 38,
   "id": "373b618b",
   "metadata": {},
   "outputs": [
    {
     "name": "stdout",
     "output_type": "stream",
     "text": [
      "\n",
      "Pesos del portafolio de mínima varianza\n",
      "[[0.10502964 0.42774931 0.46722105]]\n",
      "----------------------------------------\n",
      "Retorno del portafolio de mínima varianza\n",
      "[0.01887747]\n",
      "----------------------------------------\n",
      "Variaza del portafolio de mínima varianza\n",
      "[[0.0400416]]\n",
      "\n"
     ]
    }
   ],
   "source": [
    "print(f\"\"\"\n",
    "Pesos del portafolio de mínima varianza\n",
    "{wpmv}\n",
    "----------------------------------------\n",
    "Retorno del portafolio de mínima varianza\n",
    "{rpmv}\n",
    "----------------------------------------\n",
    "Variaza del portafolio de mínima varianza\n",
    "{spmv}\n",
    "\"\"\")"
   ]
  },
  {
   "cell_type": "markdown",
   "id": "2600a3f6",
   "metadata": {},
   "source": [
    "# Teoría de Sharpe\n",
    "Maximización de la recta tangente"
   ]
  },
  {
   "cell_type": "markdown",
   "id": "88b5b598",
   "metadata": {},
   "source": [
    "## Combinación de portafolios"
   ]
  },
  {
   "cell_type": "markdown",
   "id": "154da139",
   "metadata": {},
   "source": [
    "\\begin{align}\n",
    "E(R_{q}) &= \\alpha E(r_{p_{1}}) + (1-\\alpha)E(r_{p_{2}}) \\owntag{7.1}\\\\\n",
    "\\end{align}\n",
    "\n",
    "Los pesos se determinan como\n",
    "\n",
    "\\begin{align}\n",
    "w_{q} &= \\alpha w_{p_{1}} + (a-\\alpha)w_{p_{2}}\\\\\n",
    "      &= \\alpha[g+hE(r_{p_{1}})]+(1-\\alpha)[g+hE(r_{p_{2}})]\\\\\n",
    "      &= g + hE(r_{p_{q}})\n",
    "\\end{align}"
   ]
  },
  {
   "cell_type": "markdown",
   "id": "3c4d6c2e",
   "metadata": {},
   "source": [
    "## Frontera eficiente con el activo libre de riesgo\n",
    "Dado un activo libre de riesgo su rendimiento está dado por una tasa libre de riesgo $r_{f}$ \n",
    "\n",
    "Partiendo del problema de minimización de la varianza \n",
    "\n",
    "\\begin{align}\n",
    "min & Var(r_{p_{q}})\n",
    "\\end{align}"
   ]
  },
  {
   "cell_type": "code",
   "execution_count": 21,
   "id": "a0b82408",
   "metadata": {},
   "outputs": [],
   "source": [
    "# symbols = [\"TSLA\",\"BAC\",\"MA\",\"KO\",\"F\"]\n",
    "# # data = load_data(symbols=symbols, start='2011-02-01', end=\"2022-02-01\",plot=False)\n",
    "# data = pd.DataFrame({})\n",
    "# for symbol in symbols:\n",
    "#     data_temp = yf.download(symbol, start='2011-01-02', end='2022-01-02',progress=False)\n",
    "#     data_temp = data_temp[['Adj Close']]\n",
    "#     data = pd.concat([data,data_temp],axis=1)\n",
    "# data.columns=symbols\n",
    "\n",
    "# data = data.resample(\"M\").last()\n",
    "data = pd.read_excel(\"retornos.xlsx\")\n",
    "wpmv , rpmv , spmv = PMV(data=data)"
   ]
  },
  {
   "cell_type": "code",
   "execution_count": 23,
   "id": "009366c9",
   "metadata": {},
   "outputs": [
    {
     "data": {
      "image/png": "[encoded data removed]",
      "text/plain": [
       "<Figure size 720x504 with 1 Axes>"
      ]
     },
     "metadata": {},
     "output_type": "display_data"
    }
   ],
   "source": [
    "fig = plt.figure(figsize=(10,7))\n",
    "plt.bar([\"TSLA\",\"BAC\",\"MA\",\"KO\",\"F\"],np.squeeze(np.asarray(wpmv)))\n",
    "plt.show()"
   ]
  },
  {
   "cell_type": "code",
   "execution_count": 24,
   "id": "ca6d77ab",
   "metadata": {},
   "outputs": [],
   "source": [
    "#Retornos esperados\n",
    "E_ri = data.agg(np.average)\n",
    "\n",
    "#Matriz de covarianzas\n",
    "cov = np.matrix(data.cov())\n",
    "\n",
    "#rf\n",
    "rf = 0\n",
    "er = E_ri - rf\n",
    "\n",
    "#zi\n",
    "zi = np.linalg.solve(cov,er)\n",
    "\n",
    "#wpt\n",
    "wpt = zi/sum(zi)\n",
    "\n",
    "#rpt\n",
    "rpt = wpt @ E_ri\n",
    "\n",
    "#sigmapt\n",
    "sigmapt = np.sqrt(wpt@cov@np.transpose(wpt))"
   ]
  },
  {
   "cell_type": "code",
   "execution_count": 25,
   "id": "cf6ed79b",
   "metadata": {},
   "outputs": [
    {
     "data": {
      "text/plain": [
       "matrix([[0.07160511]])"
      ]
     },
     "execution_count": 25,
     "metadata": {},
     "output_type": "execute_result"
    }
   ],
   "source": [
    "sigmapt"
   ]
  },
  {
   "cell_type": "code",
   "execution_count": 27,
   "id": "3f58d420",
   "metadata": {},
   "outputs": [
    {
     "data": {
      "image/png": "[encoded data removed]",
      "text/plain": [
       "<Figure size 720x504 with 1 Axes>"
      ]
     },
     "metadata": {},
     "output_type": "display_data"
    }
   ],
   "source": [
    "fig = plt.figure(figsize=(10,7))\n",
    "plt.bar([\"TSLA\",\"BAC\",\"MA\",\"KO\",\"F\"],wpt)\n",
    "plt.show()"
   ]
  },
  {
   "cell_type": "markdown",
   "id": "d93c3227",
   "metadata": {},
   "source": [
    "## Coeficiente de sharpe\n",
    "\n",
    "$$\n",
    "\\frac{E(r_{p})-r_{p}}{\\sigma_{p}}\n",
    "$$\n",
    "\n",
    "Cuanta rentabilidad te está dado cada portafolio por unidad de riesgo\n",
    "\n",
    "preguntas linea 224 y 309"
   ]
  },
  {
   "cell_type": "markdown",
   "id": "64eb2dee",
   "metadata": {},
   "source": [
    "## Linea del mercado de capitales\n",
    "$$\n",
    "E(r_{p}) = r_{f} + \\frac{E(r_{p})-r_{f}}{\\sigma_{m}}\\sigma_{p}\n",
    "$$"
   ]
  },
  {
   "cell_type": "markdown",
   "id": "89351e20",
   "metadata": {},
   "source": [
    "# Optimización Cuadrática"
   ]
  },
  {
   "cell_type": "code",
   "execution_count": null,
   "id": "d0306163",
   "metadata": {},
   "outputs": [],
   "source": [
    "def solvers_qp(vcov,mu,optimal_portfolio,inequality=False,):\n",
    "    \"\"\"\n",
    "    Definimos la función solvers_qp que utiliza el solvers.qp del módulo cvxopt\n",
    "\n",
    "    Optimiza un problema de la forma \n",
    "\n",
    "    min (1/2)x'Px + q'x\n",
    "    s.a Gx <= h\n",
    "        Ax = b\n",
    "\n",
    "    Si adaptamos esta optimización a nuestro ejercicio de optimización del\n",
    "    portafolio óptimo entonces tenemos que \n",
    "    \n",
    "    Si inequality = False\n",
    "\n",
    "        min L = (1/2)w'Pw\n",
    "        s.a w'E = E(rp)\n",
    "            w'1 = 1\n",
    "    Si inequality = True\n",
    "\n",
    "        min L = (1/2)w'Pw\n",
    "        s.a w'E = E(rp)\n",
    "            w'1 >= 0\n",
    "    \n",
    "    Es decir, podemos restringir la optimización para que la suma de las ponderaciones\n",
    "    sea uno o bien, para que sea no negativa \n",
    "\n",
    "    Parámetros:\n",
    "    -------------------------------------------------------------------\n",
    "\n",
    "    vcov : Matriz (n x n) de varianzas y covarianzas\n",
    "\n",
    "\n",
    "    mu : vector de tamaño (n,) de los retornos esperados de los n activos\n",
    "\n",
    "    optimal_portfolio : Valor del retorno óptimo, este debe estar dentro de la frontera eficiente\n",
    "                        puede ser el retorno del portafolio de mínima varianza global, el portafolio\n",
    "                        óptimo de sharpe, o cualquier otro. \n",
    "\n",
    "    inequality : bool , default = False si w'1 = 1 o True si w'1 >= 0\n",
    "\n",
    "    Ejemplo: \n",
    "    -------------------------------------------------------------------\n",
    "    vcov : (5x5)\n",
    "\n",
    "        [[0.02450049 0.00388752 0.00228452 0.00095474 0.00308689]\n",
    "        [0.00388752 0.00874613 0.00182295 0.00094029 0.00445079]\n",
    "        [0.00228452 0.00182295 0.00385652 0.00142886 0.00119709]\n",
    "        [0.00095474 0.00094029 0.00142886 0.0021134  0.00087716]\n",
    "        [0.00308689 0.00445079 0.00119709 0.00087716 0.00734027]]\n",
    "    mu : (5,)\n",
    "    \n",
    "        [0.04029284 0.01008825 0.02163079 0.00754402 0.00529053]\n",
    "\n",
    "    optimal_portfolio : rpmv\n",
    "\n",
    "        [0.01000976]\n",
    "\n",
    "    inequality : False\n",
    "\n",
    "    [in] solv = solvers_qp(vcov = vcov, mu = mu, optimal_portfolio=rpt, inequality=True)\n",
    "        print(solv)\n",
    "\n",
    "    [out]\n",
    "        [ 1.26e-02]\n",
    "        [ 3.92e-02]\n",
    "        [ 1.56e-01]\n",
    "        [ 6.81e-01]\n",
    "        [ 1.10e-01] \n",
    "    \"\"\"\n",
    "    n = len(mu)\n",
    "    if inequality == False:\n",
    "        P = matrix(vcov)\n",
    "        q = matrix(np.zeros((n,1)))\n",
    "        G = matrix(np.concatenate((\n",
    "            -np.transpose(np.array(mu)).reshape((n,1)),\n",
    "            -np.ones(n).reshape(n,1)),1).T)\n",
    "        h = matrix(-np.array([optimal_portfolio,[1]]))\n",
    "    elif inequality == True:\n",
    "        P = matrix(vcov)\n",
    "        q = matrix(np.zeros((n,1)))\n",
    "        G = matrix(np.concatenate((\n",
    "            -np.transpose(np.array(mu)).reshape((n,1)),\n",
    "            -np.ones(n).reshape(n,1),\n",
    "            -np.diag(np.full(n,1))),1).T)\n",
    "        h = matrix(-np.concatenate((\n",
    "            np.array([optimal_portfolio,[1]]),\n",
    "            np.zeros(n).reshape(n,1)),0))\n",
    "\n",
    "    response = np.array(solvers.qp(P=P,q=q,G=G,h=h,show_progress=False)['x']).reshape(-1)\n",
    "    return response"
   ]
  },
  {
   "cell_type": "markdown",
   "id": "aa2fbe3e",
   "metadata": {},
   "source": [
    "# CAPM\n",
    ">  ***The Capital Asset Pricing Model***. Clarck, J. Dongcheol, K. (2013). ***Modern portafolio theory, fundations, analysis and new developments*** Wiley. Cap 12. \n",
    "\n",
    "\"El modelo CAPM también es conocido como el modelo (SML) o línea segura del mercado\" (ibíd, p 291)\n",
    "\n",
    "## Supuestos del modelo CAPM\n",
    "\n",
    "    1. Los inversores son aversos al riesgo y maximizan su utilidad espereda de los retornos sobre un horizonte de tiempo de un período\n",
    "    2. Los inversores construyen sus portafolios solo con base en la media y varianza de ls riqueza final, o lo que es lo mismo, tasas de retorno asociadas a los portafolios alternativos.\n",
    "    3. Estas tasas de rendimiento asociadas a estos portafolios son numeros finitos, que existen y pueden ser medidos y estimados.\n",
    "    4. Todos los activos de capital son infitnamente divisibles, los inversores se asumen precio aceptantes y no hay costos de transacción ni iuestos, es decir, el mercado es libre de fricciones"
   ]
  },
  {
   "cell_type": "markdown",
   "id": "1032fb31",
   "metadata": {},
   "source": [
    "## El modelo CAPM y la linea del mercado de capitales CML\n",
    "### El portafolio de mercado\n",
    "\n",
    "Suponiendo el mercado de capitales en equilibrio, denotado como $m$, contiene cada activo comerciable en proporción $w_{i}$, dónde\n",
    "\n",
    "\\begin{align*}\n",
    "    w_{i} &= \\frac{\\text{valor total del mercado (market cap) del activo i}}{\\text{valor total del mercado de todos los activos en el mercado}}\n",
    "\\end{align*}\n",
    "\n",
    "En este equilibrio, la tasa libre de riesgo $r_{f}$ iguala la demanda y la oferta de fondos prestables y el retorno del portafolio de mercado es el promedio ponderado del retorno de todos los activos del mercado. No obstante, el portafolio de mercado no puede ser observado realmente, (ya que contiene todos los activos de todos los mercados), sin embargo, la índices como el S&P500 son \"sustitutos imperfectos\" prácticos del teórico portafolio de mercado (ibíd. p 293.)\n"
   ]
  },
  {
   "cell_type": "markdown",
   "id": "c8d0f3c4",
   "metadata": {},
   "source": [
    "### El teorema de separación\n",
    "\n",
    "Dado $n+1$ activos, siendo el últivo el activo libre de riesgo, entonces existe un par de portafolios eficientes que son independientes de las preferencias de los inversores y además todos los inversores serán indiferentes entre escoger sus propios portafolios entre los $n+1$ activos o los dos portafolios eficientes. Uno de los dos portafolios eficientes solo contiene el activo libre de riesgo, y el otro solo contiene los $n$ activos riesgosos."
   ]
  },
  {
   "cell_type": "markdown",
   "id": "ff973492",
   "metadata": {},
   "source": [
    "### Ecuación de la frontera eficiente\n",
    "\n",
    "Asumiendo expectativas homogéneas, las frontera eficiente consiste en una combinación lineal de $r_{f}$ y $m$. Esta frontera eficiente lineal se conoce como la línea del mercado de capitales (CML)\n",
    "\n",
    "\\begin{align*}\n",
    "    E(r_{p}) &= r_{r} + \\left[\\frac{E(r_{m})-r_{f}}{\\sigma_{m}} \\right]\\sigma_{p} \\quad & (6.1) \n",
    "\\end{align*}\n",
    "\n",
    "Dónde $E(r_{p})$ y $\\sigma_{p}$ denotan el retorno esperado y la desviación estándar de cualquier portafolio eficiente $p$"
   ]
  },
  {
   "cell_type": "markdown",
   "id": "52831380",
   "metadata": {},
   "source": [
    "## El modelo de precios de activos de capital (CAPM)\n",
    "\n",
    "El CAPM es una relación entre la tasa de retorno esperado de $i$ activos, definida como una función lineal de los activos \"riesgo-sistémicos\" represantada en $\\beta_{i}$\n",
    "\n",
    "\\begin{align*}\n",
    "    E(r_{i}) &= r_{f} + \\left [E(r_{m})-r_{f} \\right] \\beta_{i} \\quad & (6.2) \\\\\n",
    "    \\text{Dónde}\\\\\n",
    "    \\beta_{i} &: \\text{Representa el riesgo sistémico del activo i}\\\\\n",
    "    E(r_{i})  &: \\text{Retorno esperado del activo i}\\\\\n",
    "    r_{f}     &: \\text{Tasa libre de riesgo}\\\\\n",
    "    \\left[ E(r_{f})-r_{f} \\right]&: \\text{Prima de riesgo del mercado}\n",
    "\\end{align*}\n",
    "\n",
    "Cada retorno esperado del modelo CAPM puede ser interpretado como: ***una tasa de descuento riesgo-ajustada*** , ***costo del capital*** , ***tasa de equilibrio del retorno*** , o ***tasa de capitalización***  que los inversores esperan obtener dado el reisgo sistémico que asumen.\n",
    "\n",
    "El riesgo sistémico, o riesgo no diversificable, es el principal factor de aversión al riesgo que los inversores deberían tener en cuenta al tomar la decisión de inversión."
   ]
  },
  {
   "cell_type": "markdown",
   "id": "f08dcb38",
   "metadata": {},
   "source": [
    "## Retorno del portafolio CAPM\n",
    "\\begin{align}\n",
    "E(r_{i}) &= r_{f} + (E(r_{m})-r_{f})\\beta_{i} \\quad \\text{;} \\quad \\beta_{i} = \\frac{\\sigma_{p}}{\\sigma_{m}^{2}} \\quad &{8.1a} \\\\\n",
    "E(r_{p}) &= w_{i} E(r_{i}) + (1-w_{i})E(R_{m}) \\quad &{8.1b}\n",
    "\\end{align}"
   ]
  },
  {
   "cell_type": "markdown",
   "id": "7397829a",
   "metadata": {},
   "source": [
    "## Riesgo del portafolio CAPM\n",
    "\n",
    "\\begin{align}\n",
    "\\sigma_{p} &= [w_{i}^{2}\\sigma_{i}^{2}+(1-w_{i})\\sigma_{m}^{2}+2w_{i}(1-w_{i})\\sigma_{i,m}]^{1/2} \\quad &{8.2}\n",
    "\\end{align}"
   ]
  },
  {
   "cell_type": "markdown",
   "id": "c4354f44",
   "metadata": {},
   "source": [
    "## Beta del CAPM\n",
    "de 8.1a y 8.2, derivando respecto a las ponderaciones obtenemos\n",
    "\n",
    "\\begin{align}\n",
    "\\frac{dE(r_{p})}{d w_{i}} &= E(r_{i}) - E(r_{m}) \\quad &{8.3}\\\\\n",
    "\\frac{d\\sigma_{p}}{dw_{i}} &= \\frac{[w_{i}\\sigma_{i}^{2}-(1-w_{i})\\sigma_{m}^{2}+(1-2w_{i})\\sigma_{im}]}{\\sigma_{p}}\n",
    "\\end{align}\n",
    "\n",
    "Haciendo el cociente entre 8.3a y 8.3b y evaluado en $w_{i}=0$ obtenemos\n",
    "\\begin{align*}\n",
    "\\beta &= \\frac{dE(r_{p})}{d\\sigma_{p}}|_{w_{i}=0}\\\\\n",
    "      &= \\frac{\\left[  E(r_{i})-E(r_{m})\\right]\\sigma_{p}}{\\sigma_{im}-\\sigma_{m}^{2}} \\quad & (8.4)\n",
    "\\end{align*}\n",
    "\n",
    "Dado que en equilibrio no existe exceso de demanda del activo $i$ (debido a que $m$ contiene a $i$ ), esto quiere decir que $w_{i} = 0$ que implica a su vez $\\sigma_{p} = \\sigma_{m}$. También se puede interpetar como la pendiente de la curva $im'$, y, en equilibrio, es igual a la pendiente de la curva del mercado de capitales, esto es\n",
    "\n",
    "\n",
    "\\begin{align*}\n",
    "    \\frac{E(r_{m}-r_{f})}{\\sigma_{m}} &= \\frac{\\left[  E(r_{i})-E(r_{m})\\right]\\sigma_{p}}{\\sigma_{im}-\\sigma_{m}^{2}} \\\\\n",
    "    E(r_{i}) &= r_{f} + \\left[\\frac{E(r_{m})-r_{f} }{\\sigma_{m}^{2}}\\right]\\sigma_{im} \\quad &(8.5)\n",
    "\\end{align*}\n",
    "\n",
    "La ecuación 8.5 define al modelo CAPM\n",
    "\n",
    "#### Interpretación\n",
    "\n",
    "El CAPM indica que, en quilibrio, cada activo tendrá un retorno esperado que esta linealmente relacionado con la covarianza entre el activo y el portafolio de mercado. Además esta relación será positiva ya que $\\left [E(r_{m}) - r_{f}\\right]/\\sigma_{m}^{2}$ es positivo y además, si un activo $i$ tiene covarianza 0 con $m$, $\\sigma_{im}=0$, entonces tendrá un retorno esperado igual a $r_{f}$. Se concluye qué es la covarianza entre el retorno de un activo y el retorno del portafolio de mercado la que determina el retorno esperado del retorno y es la medida relevante del riesgo del activo.\n",
    "\n",
    "Usando la definición del beta para un activo $i$, $\\beta_{i} = \\sigma_{im}/\\sigma_{m}^{2}$, el CAPM se puede reescribir así\n",
    "\n",
    "\\begin{align*}\n",
    "    E(r_{i}) = r_{f} + \\left[E(r_{m}) - r_{f} \\right] \\beta_{i}\n",
    "\\end{align*}"
   ]
  },
  {
   "cell_type": "markdown",
   "id": "2f2c345d",
   "metadata": {},
   "source": [
    "# Modelo de Treynor "
   ]
  },
  {
   "cell_type": "markdown",
   "id": "379e5bb6",
   "metadata": {},
   "source": [
    "## El modelo de un solo índice \n",
    "\n",
    "Se consideran dos aspectos \n",
    "\n",
    "    1. Las ventas en corto no están permitidas\n",
    "    2. Los Préstamos y créditos son ilimitados y ambos se dan a la tasa libre de riesgo $r_{f}$\n",
    "\n",
    "### Formación de los portafolios óptimos\n",
    "Considerando\n",
    "\\begin{align*}\n",
    "\\frac{\\bar{R_{i}}-R_{f}}{\\beta_{i}}\\\\\n",
    "\\bar{R_{i}} &: \\text{El retorno esperado del activo $i$}\\\\\n",
    "R_{f} &: \\text{El retorno del activo libre de riesgo}\\\\\n",
    "\\beta_{i} &: \\text{El cambio esperado en la tasa de retorno del activo $i$ ante cambios del $1\\%$ en el retorno del mercado}\n",
    "\\end{align*}"
   ]
  },
  {
   "cell_type": "markdown",
   "id": "650b6491",
   "metadata": {},
   "source": [
    "Siendo $\\bar{R_{i}} - R_{f}$ el exceso de retorno del activo $i$, ahora bien, si los activos se ordenan por el exceso de retorno sobre el beta, este ranking representa la preferencia de cada activo $i$ en el portafolio. Para escoger cuántos activos ordenados se escogen del portafolio se usa un punto de corte $C^{*}$.\n",
    "\n",
    "### Cálculo del punto de corte $C^{*}$\n",
    "\n",
    "Dado un conjunto de activos de un portafolio óptimo, ordenados por su exceso de retorno sobre el beta correspondiente de mayor a menor, entonces $C^{*}$ está dado por:\n",
    "\n",
    "\\begin{align*}\n",
    "    C_{i} &= \\frac{\\sigma_{m}^{2}\\sum_{j=1}^{i}\\frac{(\\bar{R}_{j}-R_{f})\\beta_{j}}{\\sigma_{ej}^{2}}}{1+\\sigma_{m}^{2}\\sum_{j=1}^{i}(\\frac{\\beta_{j}^{2}}{\\sigma_{ej}^{2}})}\n",
    "\\end{align*}\n",
    "\n",
    "Donde $\\sigma_{m}^{2}=$ es la varianza del índice de mercado y $\\sigma_{ej}^{2}=$ es la varianza de un activo que no está asociada con el índice de mercado, usualmente se refiere como un activo de riesgo no sistémico, o activo de riesgo no diversificable. La ecuación anterior puede reescribirse en una equivalencia matemática que clarifica el signifcado de $C_{i}$ de la siguiente manera:\n",
    "\n",
    "\\begin{align*}\n",
    "    C_{i} &= \\frac{\\beta_{iP}(\\bar{R}_{P}-R_{f})}{\\beta_{i}}\n",
    "\\end{align*}\n",
    "\n",
    "Donde $\\beta_{iP} = $ el cambio esperado en la tasa de retorno de un activo $i$ ante cambios del $1\\%$ en el retorno del portafolio óptimo y $\\bar{R}_{p} =$ es el retorno esperado del portafolio óptimo."
   ]
  },
  {
   "cell_type": "markdown",
   "id": "9ac37c44",
   "metadata": {},
   "source": [
    "### Construyendo el portafolio óptimo\n",
    "\n",
    "Una vez los activos en el portafolio óptimo son escogidos, entonces se calcula la ponderación de cada activo de la siguiente manera\n",
    "\\begin{align*}\n",
    "    X_{i} &= \\frac{Z_{i}}{\\Sigma Z_{i}}\n",
    "\\end{align*}\n",
    "\n",
    "Donde\n",
    "\\begin{align*}\n",
    "    Z_{i} &= \\frac{\\beta_{i}}{\\sigma_{ei}^{2}}\\left( \\frac{\\bar{R}_{i}-R_{f}}{\\beta_{i}}-C^{*}\\right)\n",
    "\\end{align*}"
   ]
  },
  {
   "cell_type": "markdown",
   "id": "364b41bc",
   "metadata": {},
   "source": [
    "### Con ventas en corto permitidas\n",
    "\n",
    "De la expresión anterior ahora $Z_{i}$ puede ser negativo, no obstante $\\sum_{i=1}^{N}X_{i}=1$ conocida como la definición de Lintner, reescribiendola se obtiene $\\sum_{i=1}^{N}|X_{i}|=1$ y esto implica que $X_{i} = \\frac{Z_{i}}{\\Sigma |Z_{i}|}$"
   ]
  },
  {
   "cell_type": "code",
   "execution_count": 21,
   "id": "d5d37225",
   "metadata": {},
   "outputs": [],
   "source": [
    "from pypt.load_data import get_data\n",
    "\n",
    "# retornos = get_data(symbols=[\"MSFT\",\"T\",\"VZ\",\"PFE\",\"WFC\",\"CLF\",\"HSY\",\"COP\",\"TGT\"],\n",
    "#                     start_date = '2016-12-01',\n",
    "#                     end_date= '2022-01-31',\n",
    "#                     frequency = 'M').returns(return_type = 'log')\n",
    "\n",
    "retornos = pd.read_excel('./datasets/retornos_treynor.xlsx')\n",
    "retornos_indice = pd.read_excel('./datasets/retornos_indice.xlsx')"
   ]
  },
  {
   "cell_type": "code",
   "execution_count": 22,
   "id": "34ff9611",
   "metadata": {},
   "outputs": [],
   "source": [
    "def ols(Y,X):\n",
    "    n = len(X)\n",
    "\n",
    "    Y = np.asarray(Y).reshape((n,1))\n",
    "    X = np.concatenate((\n",
    "            np.ones(n).reshape((n,1)),\n",
    "            np.asmatrix(X).reshape((n,1))\n",
    "        ),axis=1)\n",
    "    \n",
    "    xtx = np.transpose(X) @ X\n",
    "    xtx_x = np.linalg.inv(xtx)\n",
    "    xy = np.transpose(X)@Y\n",
    "    b = xtx_x @ xy\n",
    "    B = np.squeeze(np.asarray(b))\n",
    "\n",
    "    xb = X * b\n",
    "    e = Y - xb\n",
    "    e = np.var(e,ddof=1)\n",
    "    \n",
    "    return B[1], e"
   ]
  },
  {
   "cell_type": "code",
   "execution_count": 23,
   "id": "5dcddd2b",
   "metadata": {},
   "outputs": [],
   "source": [
    "betas = []\n",
    "errores = []\n",
    "for i in range(retornos.shape[1]):\n",
    "    b, e = ols(retornos.iloc[:,i],retornos_indice.iloc[:,0])\n",
    "    betas.append(b)\n",
    "    errores.append(e)"
   ]
  },
  {
   "cell_type": "code",
   "execution_count": 24,
   "id": "fbde5a1e",
   "metadata": {},
   "outputs": [],
   "source": [
    "def treynor(retornos,retornos_indice):\n",
    "    n = retornos.shape[1]\n",
    "    betas = np.zeros(n)\n",
    "    varianza_error = np.zeros(n)\n",
    "\n",
    "    mu = retornos.agg(np.average)\n",
    "    vcov = retornos.cov()\n",
    "    sigma = np.sqrt(np.diag(vcov))\n",
    "    rf = 0\n",
    "\n",
    "    # regresión iterativa para los parámetros\n",
    "    for i in range(n):\n",
    "        betas[i], varianza_error[i] = ols(Y=retornos.iloc[:,i],X=retornos_indice)\n",
    "        \n",
    "    ratio_treynor = (mu-rf)/betas\n",
    "    # Cálculos de los ratios 1 y 2 y las sumas acumuladas\n",
    "\n",
    "    matriz = pd.DataFrame({\n",
    "        'Ratio_treynor':ratio_treynor,\n",
    "        'Betas' : betas,\n",
    "        'Var_Error': varianza_error,\n",
    "        'Mu': mu,\n",
    "        'Sigma': sigma\n",
    "    })\n",
    "    matriz = matriz.sort_values(by=['Ratio_treynor'],ascending=False)\n",
    "\n",
    "    ratio1 = np.cumsum(((matriz['Mu']-rf)*matriz['Betas'])/(matriz['Var_Error']))\n",
    "    ratio2 = np.cumsum(((matriz['Betas'])**2)/(matriz['Var_Error']))\n",
    "\n",
    "    sigma_mkt = np.std(retornos_indice)\n",
    "    tasac = ((sigma_mkt**2)*ratio1)/((1+((sigma_mkt**2)*ratio2)))\n",
    "\n",
    "    diff = matriz['Ratio_treynor'] - tasac\n",
    "    cond_diff =  diff[diff>0]\n",
    "    n_optimo = len(cond_diff)\n",
    "    cmax = max(tasac)\n",
    "\n",
    "    zi = (matriz['Betas']/matriz['Var_Error']) * (matriz['Ratio_treynor']-cmax)\n",
    "    zi = np.maximum(zi,0)\n",
    "\n",
    "    wpot = zi/(sum(zi))\n",
    "    rpot = wpot@mu\n",
    "    sigmapot = np.sqrt(wpot@vcov@wpot)\n",
    "    return rpot, sigmapot, wpot, n_optimo, matriz"
   ]
  },
  {
   "cell_type": "code",
   "execution_count": 25,
   "id": "e1e5497d",
   "metadata": {},
   "outputs": [
    {
     "name": "stdout",
     "output_type": "stream",
     "text": [
      "\n",
      "Retorno óptimo de Treynor:\n",
      "----------------------------------------------------------------\n",
      "0.024239654564412277\n",
      "----------------------------------------------------------------\n",
      "\n",
      "Riesgo óptimo de Treynor:\n",
      "----------------------------------------------------------------\n",
      "0.04324349811440813\n",
      "----------------------------------------------------------------\n",
      "\n",
      "Ponderaciones óptimas de Treynor:\n",
      "----------------------------------------------------------------\n",
      "MSFT    0.755819\n",
      "HSY     0.201789\n",
      "TGT     0.042391\n",
      "PFE     0.000000\n",
      "VZ      0.000000\n",
      "COP     0.000000\n",
      "CLF     0.000000\n",
      "WFC     0.000000\n",
      "T       0.000000\n",
      "dtype: float64\n",
      "----------------------------------------------------------------\n",
      "\n",
      "Número de acivos óptimos de Treynor:\n",
      "----------------------------------------------------------------\n",
      "3\n",
      "----------------------------------------------------------------\n",
      "\n",
      "Resumen:\n",
      "----------------------------------------------------------------\n",
      "      Ratio_treynor     Betas  Var_Error        Mu     Sigma\n",
      "MSFT       0.032001  0.862249   0.001193  0.027593  0.051957\n",
      "HSY        0.031270  0.398175   0.001947  0.012451  0.047628\n",
      "TGT        0.021818  0.943064   0.004971  0.020575  0.082297\n",
      "PFE        0.017129  0.701636   0.003524  0.012018  0.067242\n",
      "VZ         0.009211  0.390670   0.001663  0.003598  0.044414\n",
      "COP        0.007749  1.490194   0.009494  0.011548  0.118296\n",
      "CLF        0.005583  2.224608   0.019151  0.012420  0.170815\n",
      "WFC        0.001652  1.240548   0.004748  0.002049  0.088692\n",
      "T         -0.004634  0.660771   0.002094 -0.003062  0.054579\n",
      "----------------------------------------------------------------\n",
      "\n"
     ]
    }
   ],
   "source": [
    "rs, sigmas, ws, no, m = treynor(retornos,retornos_indice.iloc[:,0])\n",
    "print(f\"\"\"\n",
    "Retorno óptimo de Treynor:\n",
    "----------------------------------------------------------------\n",
    "{rs}\n",
    "----------------------------------------------------------------\n",
    "\n",
    "Riesgo óptimo de Treynor:\n",
    "----------------------------------------------------------------\n",
    "{sigmas}\n",
    "----------------------------------------------------------------\n",
    "\n",
    "Ponderaciones óptimas de Treynor:\n",
    "----------------------------------------------------------------\n",
    "{ws}\n",
    "----------------------------------------------------------------\n",
    "\n",
    "Número de acivos óptimos de Treynor:\n",
    "----------------------------------------------------------------\n",
    "{no}\n",
    "----------------------------------------------------------------\n",
    "\n",
    "Resumen:\n",
    "----------------------------------------------------------------\n",
    "{m}\n",
    "----------------------------------------------------------------\n",
    "\"\"\")"
   ]
  },
  {
   "cell_type": "markdown",
   "id": "a0670ea1",
   "metadata": {},
   "source": [
    "### PMVg, Sharpe y Treynor"
   ]
  },
  {
   "cell_type": "code",
   "execution_count": 26,
   "id": "d7a5dd69",
   "metadata": {},
   "outputs": [],
   "source": [
    "from pypt.pmv import PMV"
   ]
  },
  {
   "cell_type": "code",
   "execution_count": 27,
   "id": "901741e6",
   "metadata": {},
   "outputs": [
    {
     "name": "stdout",
     "output_type": "stream",
     "text": [
      "\n",
      "Portafolio de Mínima Varianza Global\n",
      "----------------------------------------------------------------\n",
      "Retorno : [0.01216883]\n",
      "Variaza : [0.03186365]\n",
      "Ponderaciones :\n",
      "[ 0.33694748  0.19036377  0.28449439  0.06834284 -0.0233886  -0.0328597\n",
      "  0.22451752 -0.0294915  -0.0189262 ]\n",
      "\n"
     ]
    }
   ],
   "source": [
    "# help(PMV.mv)\n",
    "rpmv, sigmapmv, wpmv = PMV(retornos).mv().pmv\n",
    "print(f\"\"\"\n",
    "Portafolio de Mínima Varianza Global\n",
    "----------------------------------------------------------------\n",
    "Retorno : {rpmv}\n",
    "Variaza : {sigmapmv}\n",
    "Ponderaciones :\n",
    "{wpmv}\n",
    "\"\"\")\n"
   ]
  },
  {
   "cell_type": "code",
   "execution_count": 28,
   "id": "49e98063",
   "metadata": {},
   "outputs": [
    {
     "name": "stdout",
     "output_type": "stream",
     "text": [
      "\n",
      "Portafolio de Mínima Varianza Global\n",
      "----------------------------------------------------------------\n",
      "Retorno : [0.03421511]\n",
      "Variaza : [0.05342936]\n",
      "Ponderaciones :\n",
      "[ 0.8155495  -0.33834672 -0.10985538  0.08801388 -0.21676416 -0.03436163\n",
      "  0.54686713  0.11581577  0.13308161]\n",
      "\n"
     ]
    }
   ],
   "source": [
    "# help(PMV.sharpe)\n",
    "rpt, sigmapt, wpt = PMV(retornos).sharpe().psharpe \n",
    "print(f\"\"\"\n",
    "Portafolio de Mínima Varianza Global\n",
    "----------------------------------------------------------------\n",
    "Retorno : {rpt}\n",
    "Variaza : {sigmapt}\n",
    "Ponderaciones :\n",
    "{wpt}\n",
    "\"\"\")"
   ]
  },
  {
   "cell_type": "code",
   "execution_count": 29,
   "id": "7f709a64",
   "metadata": {},
   "outputs": [
    {
     "data": {
      "image/png": "[encoded data removed]",
      "text/plain": [
       "<Figure size 720x504 with 4 Axes>"
      ]
     },
     "metadata": {},
     "output_type": "display_data"
    }
   ],
   "source": [
    "symbols = retornos.columns\n",
    "\n",
    "fig, axes = plt.subplots(2,2,figsize=(10,7),sharey=True)\n",
    "sns.barplot(ax = axes[0][0],x=symbols, y=wpmv)\n",
    "axes[0,0].set_title('PMVg')\n",
    "sns.barplot(ax = axes[0][1],x=symbols, y=wpt)\n",
    "axes[0,1].set_title('Sharpe')\n",
    "sns.barplot(ax = axes[1][0],x=m.index, y=ws)\n",
    "axes[1,0].set_title('Treynor')\n",
    "fig.tight_layout()\n",
    "plt.show()"
   ]
  },
  {
   "cell_type": "code",
   "execution_count": 49,
   "id": "8bb6c7ff",
   "metadata": {},
   "outputs": [
    {
     "name": "stdout",
     "output_type": "stream",
     "text": [
      "     pcost       dcost       gap    pres   dres\n",
      " 0:  1.0588e-03 -7.7273e-01  1e+01  4e+00  7e+00\n",
      " 1:  9.6291e-03 -1.9232e+00  5e+00  1e+00  2e+00\n",
      " 2:  5.7254e-02 -4.7413e-01  6e-01  1e-01  2e-01\n",
      " 3:  3.1668e-02 -2.8483e-02  6e-02  6e-16  2e-17\n",
      " 4:  5.0943e-03 -3.6189e-03  9e-03  1e-15  6e-18\n",
      " 5:  1.0400e-03 -1.0017e-04  1e-03  4e-16  3e-18\n",
      " 6:  6.2508e-04  4.3542e-04  2e-04  9e-17  1e-18\n",
      " 7:  5.5324e-04  5.2122e-04  3e-05  1e-16  5e-17\n",
      " 8:  5.3665e-04  5.3437e-04  2e-06  1e-16  7e-18\n",
      " 9:  5.3558e-04  5.3551e-04  7e-08  1e-16  3e-17\n",
      "Optimal solution found.\n",
      "     pcost       dcost       gap    pres   dres\n",
      " 0:  1.0593e-03 -7.4848e-01  1e+01  4e+00  7e+00\n",
      " 1:  9.6315e-03 -1.8980e+00  5e+00  1e+00  2e+00\n",
      " 2:  5.7205e-02 -4.7213e-01  6e-01  1e-01  2e-01\n",
      " 3:  3.4926e-02 -3.0604e-02  7e-02  2e-15  3e-17\n",
      " 4:  5.9743e-03 -3.0950e-03  9e-03  7e-16  8e-18\n",
      " 5:  2.5892e-03  1.2805e-03  1e-03  3e-16  6e-18\n",
      " 6:  1.9458e-03  1.7787e-03  2e-04  1e-16  5e-18\n",
      " 7:  1.8430e-03  1.8314e-03  1e-05  2e-16  3e-17\n",
      " 8:  1.8365e-03  1.8362e-03  3e-07  5e-16  1e-16\n",
      " 9:  1.8364e-03  1.8364e-03  4e-09  5e-16  3e-16\n",
      "Optimal solution found.\n",
      "     pcost       dcost       gap    pres   dres\n",
      " 0:  1.0591e-03 -7.5954e-01  1e+01  4e+00  7e+00\n",
      " 1:  9.6303e-03 -1.9096e+00  5e+00  1e+00  2e+00\n",
      " 2:  5.7229e-02 -4.7331e-01  6e-01  1e-01  2e-01\n",
      " 3:  3.3304e-02 -2.9447e-02  6e-02  6e-16  2e-17\n",
      " 4:  5.5067e-03 -3.4419e-03  9e-03  8e-16  9e-18\n",
      " 5:  1.5957e-03  2.5252e-04  1e-03  3e-16  3e-18\n",
      " 6:  1.0287e-03  8.6443e-04  2e-04  2e-16  1e-17\n",
      " 7:  9.2942e-04  9.1477e-04  1e-05  2e-16  1e-17\n",
      " 8:  9.2185e-04  9.2119e-04  7e-07  8e-17  3e-16\n",
      " 9:  9.2171e-04  9.2170e-04  8e-09  1e-16  9e-16\n",
      "Optimal solution found.\n"
     ]
    },
    {
     "data": {
      "image/png": "[encoded data removed]",
      "text/plain": [
       "<Figure size 720x504 with 4 Axes>"
      ]
     },
     "metadata": {},
     "output_type": "display_data"
    }
   ],
   "source": [
    "symbols = retornos.columns\n",
    "vcov = np.asmatrix(retornos.cov())\n",
    "mu = retornos.agg(np.mean)\n",
    "\n",
    "wpmv_ns = solvers_qp(vcov = vcov, mu = mu, optimal_portfolio=rpmv, inequality=True)\n",
    "wpt_ns = solvers_qp(vcov = vcov, mu = mu, optimal_portfolio=rpt, inequality=True)\n",
    "ws_ns = solvers_qp(vcov = vcov, mu = mu, optimal_portfolio=np.asarray([rs]), inequality=True)\n",
    "\n",
    "fig, axes = plt.subplots(2,2,figsize=(10,7),sharey=True)\n",
    "sns.barplot(ax = axes[0][0],x=symbols, y=wpmv_ns)\n",
    "axes[0,0].set_title('PMVg')\n",
    "sns.barplot(ax = axes[0][1],x=symbols, y=wpt_ns)\n",
    "axes[0,1].set_title('Sharpe')\n",
    "sns.barplot(ax = axes[1][0],x=symbols, y=ws_ns)\n",
    "axes[1,0].set_title('Treynor')\n",
    "fig.tight_layout()\n",
    "plt.show()\n",
    "\n"
   ]
  },
  {
   "cell_type": "code",
   "execution_count": 55,
   "id": "fd3c6ac5",
   "metadata": {},
   "outputs": [
    {
     "data": {
      "text/plain": [
       "array([ 0.33694748,  0.19036377,  0.28449439,  0.06834284, -0.0233886 ,\n",
       "       -0.0328597 ,  0.22451752, -0.0294915 , -0.0189262 ])"
      ]
     },
     "execution_count": 55,
     "metadata": {},
     "output_type": "execute_result"
    }
   ],
   "source": [
    "wpmv"
   ]
  },
  {
   "cell_type": "code",
   "execution_count": 54,
   "id": "7f5ce247",
   "metadata": {},
   "outputs": [
    {
     "data": {
      "text/plain": [
       "array([2.95586488e-01, 1.04264725e-01, 2.93943661e-01, 5.65526522e-02,\n",
       "       1.40776360e-05, 3.34626950e-06, 2.49621051e-01, 5.79895516e-06,\n",
       "       9.64237774e-06])"
      ]
     },
     "execution_count": 54,
     "metadata": {},
     "output_type": "execute_result"
    }
   ],
   "source": [
    "wpmv_ns"
   ]
  },
  {
   "cell_type": "markdown",
   "id": "5770e5d7",
   "metadata": {},
   "source": [
    "# Modelo de Sortino o análisis de semivarianza \n",
    "\n",
    ">  ***The Capital Asset Pricing Model***. Clarck, J. Dongcheol, K. (2013). ***Modern portafolio theory, fundations, analysis and new developments*** Wiley. Cap 10. \n",
    "\n",
    "Parte de la idea principal de que la distribución de probabilidad del retorno y varianza esperados están sesgados\n",
    "\n",
    "## Definición de semivarianza\n",
    "\n",
    "\"La semivarianza es una medida de dispersión de todas las observaciones que están por debajo de un punto constante de referencia $h$ (ibíd, p. 228)\", $h$ puede ser interpretado como un \"retorno de referencia\", bien sea la tasa libre de riesgo, el retorno esperado o 0, la semivarianza del activo i denotada como $\\bar{\\bar{\\sigma_{i}}}^2$ esta dada por:\n",
    "\n",
    "\\begin{align*}\n",
    "    \\bar{\\bar{\\sigma_{i}}}^2 &= E[ min\\{(r_{i}-h),0\\} ]^{2}\\\\\n",
    "\\end{align*}"
   ]
  },
  {
   "cell_type": "markdown",
   "id": "988f83cb",
   "metadata": {},
   "source": [
    "## Estimación de la semivarianza\n",
    "\n",
    "\\begin{align*}\n",
    "    \\bar{\\bar{\\sigma_{i}}}^{2} &= \\frac{1}{T}\\sum_{t=1}^{T} [min\\{r_{it}-h,0\\}]^{2}\\\\\n",
    "                               &= \\frac{1}{T}\\sum_{t=1}^{T} (\\bar{\\bar{r}}_{it}-h)^{2}\n",
    "\\end{align*}\n",
    "Donde\n",
    "\\begin{align*}\n",
    "\\bar{\\bar{r}}_{it} = \n",
    "     \\begin{cases}\n",
    "                    r_{it}     &\\quad si \\quad r_{it} < h\\\\\n",
    "                    h          &\\quad si \\quad r_{it} \\geq h\n",
    "    \\end{cases}\n",
    "\\end{align*}\n",
    "\n",
    "Para el caso continuo se tiene que \n",
    "\\begin{align*}\n",
    "    \\bar{\\bar{\\sigma}}_{i}^{2} &= \\int_{- \\infty}^{+ \\infty}[min\\{(r_{i}-h,0\\}]^{2}f(r_{i})dr_{i}\\\\\n",
    "                               &= \\int_{- \\infty}^{h} (r_{i}-h)^{2}f(r_{i})dr_{i}\n",
    "\\end{align*}\n",
    "\n",
    "Donde $f(r_{i})$ es la función de distribución de probabilidad acumulada de $r_{i}$"
   ]
  },
  {
   "cell_type": "markdown",
   "id": "15b43d43",
   "metadata": {},
   "source": [
    "## Optimización de portafolio con análisis de semivarianza\n",
    "\n",
    "\"El objetivo es delimitar un conjunto de portafolios que tengan una semivarianza mínima para cada nivel de retorno esperado\" (ibíd, p. 231). Recordando que el valor esperado del portafolio se define como $E(r_{p}) = \\sum_{i=1}^{N}w_{i}E(r_{i})$, dónde se tiene que $\\sum_{i}^{N}w_{i}=1$, entonces:\n",
    "\n",
    "\\begin{align*}\n",
    "    \\bar{\\bar{\\sigma}}_{p}^{2} = E\\left[ min\\{\\sum_{i=1}^{N}w_{i}r_{i} -h,0\\}\\right]^{2}\n",
    "\\end{align*}\n",
    "\n",
    "Se demuestra que si\n",
    "\n",
    "1. La varianza de los retornos es finita\n",
    "2. La semivarianza del portafolio es continua diferenciable en $w_{i}$ para todo $i$\n",
    "3. La siguiente condición de primer orden, es continua en $w_{i}$ para todo $i$\n",
    "\n",
    "\\begin{align*}\n",
    "    \\frac{\\partial{\\bar{\\bar{\\sigma_{i}}}^{2}}}{\\partial{w_{i}}} &= 2E[min\\{(r_{p}-h,0\\}]\n",
    "\\end{align*}"
   ]
  },
  {
   "cell_type": "markdown",
   "id": "d4c195eb",
   "metadata": {},
   "source": [
    "## El modelo de semvarianza y la línea del mercado de capitales CML\n",
    "\n",
    "Escribiendo la ecuación de la línea del mercado de capitales bajo el análisis de la semivarianza obtenemos\n",
    "\\begin{align*}\n",
    "    E(r_{p}) &= r_{f} + \\left[\\frac{E(r_{m})-r_{f}}{\\bar{\\bar{\\sigma}}_{m}}\\bar{\\bar{\\sigma}}_{p} \\right]\n",
    "\\end{align*}\n",
    "\n",
    "La anterior describe el equilibrio en el cual el retorno esperado de un portafolio eficiente $p$ iguala la tasa libre de riesgo $r_{f}$ más una prima de riesgo.\n",
    "\n",
    "## El modelo de semivarianza y la línea del mercado de activos SML\n",
    "\n",
    "Reescribiendo la relación anterior como\n",
    "\\begin{align*}\n",
    "    E(r_{i}) &= r_{f} + [E(r_{m})-r_{f}]\\bar{\\bar{\\beta}}_{i}\n",
    "\\end{align*}\n",
    "\n",
    "Donde\n",
    "\\begin{align*}\n",
    "    \\bar{\\bar{\\beta}}_{i} &= \\frac{\\bar{\\bar{\\sigma_{im}}}}{\\bar{\\bar{\\sigma_{m}}}^{2}}\\\\\n",
    "                      &= \\frac{E(r_{i}-h)(\\bar{\\bar{r}}_{m}-h)}{E(\\bar{\\bar{r}}_{m}-h)^{2}}\n",
    "\\end{align*}\n",
    "\n",
    "La ecuación anterior también es conocida como el downside CAPM y $\\bar{\\bar{\\beta}}_{i}$ se conoce como el downside beta"
   ]
  },
  {
   "cell_type": "markdown",
   "id": "dc2c66cb",
   "metadata": {},
   "source": [
    "# Modelo Omega ($\\Omega$)\n",
    "Keating, Sbadwick . 2002\n",
    "\n",
    "Sea $F(r_{i}):$ la función de distribución acumulada, entonces\n",
    "\n",
    "\\begin{align*}\n",
    "    \\Omega_{h} &= \\frac{\\int_{n}^{\\alpha}[I-F(r_{i})]dr_{i}}{\\int_{-\\alpha}^{h}F(r_{i})dr_{i}}\\\\\n",
    "               &= \\frac{\\int_{n}^{\\alpha}(r_{i}-h)F(r_{i})dr_{i}}{\\int_{-\\alpha}^{h}(h-r_{i})F(r_{i})dr_{i}}\\\\\n",
    "               &= \\frac{E[max\\{r_{i}-h,0\\}]}{E[max\\{h-r_{i},0 \\}]}\\\\\n",
    "               &= \\frac{E(r_{i})-h}{(h-r_{i},0)^{+}}\n",
    "\\end{align*}\n",
    "\n",
    "Donde el denominador es la périda esperada interpretada como el riesgo del portafolio"
   ]
  },
  {
   "cell_type": "markdown",
   "id": "eda58540",
   "metadata": {},
   "source": [
    "## Optimización de $\\Omega$ \n",
    "Se plantea el problema de optimización\n",
    "\\begin{align*}\n",
    "    \\max_{w_{i}} \\quad \\Omega_{h}:\\frac{w_{i}-h}{E(h-w_{i}r_{it})}\n",
    "\\end{align*}\n",
    "\n",
    "Reescribiendo\n",
    "\\begin{align*}\n",
    "    \\min_{w_{i}} \\quad E[h-w_{i}r_{it}] \\quad \\text{s.a} \\quad w_{i}1 = 1\n",
    "\\end{align*}"
   ]
  },
  {
   "cell_type": "code",
   "execution_count": 17,
   "id": "308949d1",
   "metadata": {},
   "outputs": [
    {
     "data": {
      "text/plain": [
       "<Figure size 720x504 with 0 Axes>"
      ]
     },
     "metadata": {},
     "output_type": "display_data"
    },
    {
     "data": {
      "image/png": "[encoded data removed]",
      "text/plain": [
       "<Figure size 360x360 with 1 Axes>"
      ]
     },
     "metadata": {},
     "output_type": "display_data"
    }
   ],
   "source": [
    "#suponiendo una CDF normal con media 0 y varianza 1\n",
    "#con h = 0 entonces\n",
    "normal = np.random.normal(0,1,10000)\n",
    "h = 0\n",
    "\n",
    "\n",
    "fig = plt.figure(figsize=(10,7))\n",
    "sns.displot(normal, kind=\"ecdf\")\n",
    "plt.axvline(h, color='salmon')\n",
    "plt.show()"
   ]
  },
  {
   "cell_type": "markdown",
   "id": "ee8c8318",
   "metadata": {},
   "source": [
    "$\\bar{\\bar{\\sigma}}$"
   ]
  }
 ],
 "metadata": {
  "kernelspec": {
   "display_name": "Python 3 (ipykernel)",
   "language": "python",
   "name": "python3"
  },
  "language_info": {
   "codemirror_mode": {
    "name": "ipython",
    "version": 3
   },
   "file_extension": ".py",
   "mimetype": "text/x-python",
   "name": "python",
   "nbconvert_exporter": "python",
   "pygments_lexer": "ipython3",
   "version": "3.8.5"
  },
  "toc": {
   "base_numbering": 1,
   "nav_menu": {},
   "number_sections": true,
   "sideBar": true,
   "skip_h1_title": false,
   "title_cell": "Table of Contents",
   "title_sidebar": "Contents",
   "toc_cell": false,
   "toc_position": {
    "height": "calc(100% - 180px)",
    "left": "10px",
    "top": "150px",
    "width": "303.825px"
   },
   "toc_section_display": true,
   "toc_window_display": true
  },
  "varInspector": {
   "cols": {
    "lenName": 16,
    "lenType": 16,
    "lenVar": 40
   },
   "kernels_config": {
    "python": {
     "delete_cmd_postfix": "",
     "delete_cmd_prefix": "del ",
     "library": "var_list.py",
     "varRefreshCmd": "print(var_dic_list())"
    },
    "r": {
     "delete_cmd_postfix": ") ",
     "delete_cmd_prefix": "rm(",
     "library": "var_list.r",
     "varRefreshCmd": "cat(var_dic_list()) "
    }
   },
   "types_to_exclude": [
    "module",
    "function",
    "builtin_function_or_method",
    "instance",
    "_Feature"
   ],
   "window_display": false
  }
 },
 "nbformat": 4,
 "nbformat_minor": 5
}
