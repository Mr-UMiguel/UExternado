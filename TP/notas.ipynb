{
 "cells": [
  {
   "cell_type": "markdown",
   "id": "298d6628",
   "metadata": {},
   "source": [
    "<center><h1> Teoría de Portafolios </h1></center>\n",
    "<center><h3> Universidad Externado de Colombia - Prof. Oscar Reyes </h3></center>\n",
    "<br>\n",
    "<br>\n",
    "<center><h2> Notas de Clase </h2></center>\n",
    "<center><h3> Miguel Angel Manrique Rodriguez </h3></center>\n",
    "<center><h3> 2022-1S </h3></center>"
   ]
  },
  {
   "cell_type": "markdown",
   "id": "80f0b18c",
   "metadata": {},
   "source": [
    "    Al momento de querer realizar indexación de la ecuaciónes utilizar\n",
    "        \\newcommand{\\owntag}[1]{\\stepcounter{equation}\\tag{\\theequation. #1}}\n",
    "    en el archivo .tex"
   ]
  },
  {
   "cell_type": "markdown",
   "id": "611ce596",
   "metadata": {},
   "source": [
    "Y luego agregar a la ecuación \n",
    "\\begin{align}\n",
    "\\dot{x} & = \\sigma(y-x)  \\owntag{indice} \\\\\n",
    "\\end{align}"
   ]
  },
  {
   "cell_type": "code",
   "execution_count": 1,
   "id": "84cb5873",
   "metadata": {},
   "outputs": [],
   "source": [
    "import pandas as pd\n",
    "import numpy as np\n",
    "import matplotlib.pyplot as plt\n",
    "import seaborn as sns\n",
    "import yfinance as yf\n",
    "\n",
    "sns.set_theme(font=\"Times New Roman\",font_scale=1)"
   ]
  },
  {
   "cell_type": "markdown",
   "id": "b370b1bb",
   "metadata": {},
   "source": [
    "# Repaso estadística"
   ]
  },
  {
   "cell_type": "markdown",
   "id": "c5f470db",
   "metadata": {},
   "source": [
    "# Portafolios de Inversión\n"
   ]
  },
  {
   "cell_type": "markdown",
   "id": "123453bb",
   "metadata": {},
   "source": [
    "## load_data\n",
    "definimos una función que nos permita importar el precio ajustado de cualquier activo siempre y cuando conozcamos su symbolo de yahoo finance; además no permite graficar el retorno logarítimico de un período de cada activo"
   ]
  },
  {
   "cell_type": "code",
   "execution_count": 2,
   "id": "1ec5bb08",
   "metadata": {},
   "outputs": [],
   "source": [
    "def load_data(symbols,start,end,plot):\n",
    "    # Carga de datos\n",
    "\n",
    "    data = pd.DataFrame({})\n",
    "    for symbol in symbols:\n",
    "        data_temp = yf.download(symbol, start=start, end=end,progress=False)\n",
    "        data_temp = data_temp[['Adj Close']]\n",
    "        data_temp = np.log(data_temp['Adj Close']) - np.log(data_temp['Adj Close'].shift(1))\n",
    "        data_temp = data_temp.dropna()\n",
    "        \n",
    "        data = pd.concat([data,data_temp], axis=1)\n",
    "        \n",
    "    data.columns = symbols\n",
    "    \n",
    "    if plot==True:\n",
    "        data.plot(figsize=(10,7))\n",
    "        if len(symbols) > 3:\n",
    "            plt.legend(loc='center right', bbox_to_anchor=(1,1),\n",
    "                        fancybox=True, shadow=True, ncol=5)\n",
    "        plt.title(\"logarithmic return\", loc=\"left\", fontdict = {'fontsize':18})\n",
    "        plt.show()\n",
    "    return data"
   ]
  },
  {
   "cell_type": "code",
   "execution_count": 3,
   "id": "c961a057",
   "metadata": {},
   "outputs": [],
   "source": [
    "symbols = [\"TSLA\",\"BAC\",\"MA\"]\n",
    "data = load_data(symbols=symbols,start=\"2021-02-01\", end=\"2022-02-01\",plot=False)"
   ]
  },
  {
   "cell_type": "markdown",
   "id": "934d973e",
   "metadata": {},
   "source": [
    "### Matriz de Varianzas y Covarianzas, y coeficientes de correlación"
   ]
  },
  {
   "cell_type": "code",
   "execution_count": 4,
   "id": "b7a07c57",
   "metadata": {},
   "outputs": [
    {
     "name": "stdout",
     "output_type": "stream",
     "text": [
      "\n",
      "Matriz de varianzas y covarianzas\n",
      "---------------------------------\n",
      "[[1.28350870e-03 3.63019625e-05 1.10844435e-04]\n",
      " [3.63019625e-05 2.48961578e-04 9.08054596e-05]\n",
      " [1.10844435e-04 9.08054596e-05 3.36306974e-04]]\n",
      "---------------------------------\n",
      "\n",
      "Matriz de coeficientes de correlación\n",
      "\n",
      "---------------------------------\n",
      "[[1.         0.06421915 0.16871222]\n",
      " [0.06421915 1.         0.31381801]\n",
      " [0.16871222 0.31381801 1.        ]]\n",
      "---------------------------------\n",
      "\n"
     ]
    }
   ],
   "source": [
    "vcov, corr = np.matrix(data.cov()) , np.matrix(data.corr())\n",
    "print(f\"\"\"\n",
    "Matriz de varianzas y covarianzas\n",
    "---------------------------------\n",
    "{vcov}\n",
    "---------------------------------\n",
    "\n",
    "Matriz de coeficientes de correlación\n",
    "\n",
    "---------------------------------\n",
    "{corr}\n",
    "---------------------------------\n",
    "\"\"\")"
   ]
  },
  {
   "cell_type": "markdown",
   "id": "14100729",
   "metadata": {},
   "source": [
    "## Riesgo (varianza) y retorno del portafolio\n",
    "Ahora definimos una función que nos permita calcular la varianza del portafolio de acuerdo a un vector de ponderaciones que asignemos a cada activo en nuestro portafolio"
   ]
  },
  {
   "cell_type": "markdown",
   "id": "0931e4aa",
   "metadata": {},
   "source": [
    "### Retorno\n",
    "El retorno esperado del portafolio se define como \n",
    "\n",
    "\\begin{align}\n",
    "E(r_{p}) &= E(\\sum_{i=1}^{n}w_{i}r_{i}) = \\sum_{i=1}^{n}w_{i}E(r_{i})  \\owntag{3.1} \\\\\n",
    "\\end{align}\n",
    "\n",
    "s.a $\\sum_{i=1}^{n}w_{i}=1$, siendo $w_{i}$ la ponderación $w$ del activo $i$ en el portafolio y $E(r_{i})$ el retorno esperado del activo $i$\n",
    "\n",
    "### Riesgo\n",
    "La varianza del portafolio también se de conoce como el riesgo del portafolio, y en este caso estará determinada por \n",
    " + La varianza individual de cada activo del portafolio\n",
    " + por el grado de dependencia medido por la covarianza o el coeficiente de correlación entre ellas \n",
    " \n",
    "En sentido estricto, el riesgo de de un portafolio se define como la variabailidad de los retornos del portafolio $r_{p}$, o en otras palabras, la dispersión de los retornos\n",
    "\n",
    "\\begin{align}\n",
    "\\sigma_{X}^{2} &= E[X-E(X)]^{2} \\\\\n",
    "\\sigma_{p}^{2} &= E[r_{p}-E(r_{p})]^{2} \\owntag{3.2}\n",
    "\\end{align}"
   ]
  },
  {
   "cell_type": "markdown",
   "id": "c8285c02",
   "metadata": {},
   "source": [
    "### Varianza del portafolio caso 2 activos\n",
    "\n",
    "\\begin{align}\n",
    "\\sigma_{p}^{2} &= E[r_{p}-E(r_{p})]^{2} \\\\ \n",
    "               &= E[w_{1}r_{1} + w_{2}r_{2} - (w_{1}E(r_{1}) + w_{2}E(r_{2})]^{2} \\\\\n",
    "               &= E[w_{1}(r_{1}-E(r_{1})) + w_{2}(r_{2}-E(r_{2}))]^{2} \\owntag{3.3}\n",
    "\\end{align}\n",
    "\n",
    "Dado que $(a+b)^{2}=a^{2}+b^{2}+2ab$ y $E[x_{i}-E(x_{i})]^{2}=\\sigma_{x}^{2}$, además, como $w_{i}$ es constante su valor esperado es $w_{i}$. \n",
    "\n",
    "\\begin{align}\n",
    "    \\sigma_{p}^{2} = w_{1}^{2}\\sigma_{1}^{2} + w_{2}^{2}\\sigma_{2}^{2} + 2w_{1}w_{2}\\sigma_{1,2}  \\owntag{3.4}\n",
    "\\end{align}"
   ]
  },
  {
   "cell_type": "code",
   "execution_count": 3,
   "id": "9ee21dc2",
   "metadata": {},
   "outputs": [],
   "source": [
    "def var_p(data,weights,vcov):\n",
    "        \n",
    "# Varianza del portafolio\n",
    "    weights = np.array(weights)\n",
    "    vp = weights @ vcov @ weights.T\n",
    "    vp = vp[0,0]\n",
    "\n",
    "# Retorno del portafolio \n",
    "\n",
    "    r_symbols = data.agg(np.average)\n",
    "    rp = r_symbols @ weights\n",
    "    \n",
    "    return vp, rp \n"
   ]
  },
  {
   "cell_type": "code",
   "execution_count": 6,
   "id": "d2d4608c",
   "metadata": {},
   "outputs": [
    {
     "name": "stdout",
     "output_type": "stream",
     "text": [
      "\n",
      "Varianza del portafolio\n",
      "---------------------------------\n",
      "0.00019647122216668203\n",
      "---------------------------------\n",
      "\n",
      "Retorno del portafolio\n",
      "\n",
      "---------------------------------\n",
      "0.001565297823334792\n",
      "---------------------------------\n",
      "\n"
     ]
    }
   ],
   "source": [
    "Vp, Rp = var_p(data=data,weights=[0.05,0.8,0.15],vcov=vcov)\n",
    "print(f\"\"\"\n",
    "Varianza del portafolio\n",
    "---------------------------------\n",
    "{Vp}\n",
    "---------------------------------\n",
    "\n",
    "Retorno del portafolio\n",
    "\n",
    "---------------------------------\n",
    "{Rp}\n",
    "---------------------------------\n",
    "\"\"\")"
   ]
  },
  {
   "cell_type": "markdown",
   "id": "039746e6",
   "metadata": {},
   "source": [
    "# Portafolios de Markowitz"
   ]
  },
  {
   "cell_type": "markdown",
   "id": "e6cf2a2d",
   "metadata": {},
   "source": [
    "## Defenición\n",
    "\n",
    "Un portafolio se dice eficiente en el sentido de markowitz si:\n",
    " + Tiene el retorno esperado más alto para un nivel dado de riesgo\n",
    " + Tiene el riesgo esperado más bajo dado un nivel de retorno esperado\n"
   ]
  },
  {
   "cell_type": "markdown",
   "id": "c0e03276",
   "metadata": {},
   "source": [
    "## Análisis Retorno / Riesgo\n",
    "Dado los pesos [0.03,0.3,0.4] obtenemos el siguiente retorno/riesgo del portafolio"
   ]
  },
  {
   "cell_type": "code",
   "execution_count": 7,
   "id": "f2b33387",
   "metadata": {},
   "outputs": [
    {
     "name": "stdout",
     "output_type": "stream",
     "text": [
      "\n",
      "Riesgo del portafolio\n",
      "---------------------------------\n",
      "0.01570546939854258\n",
      "---------------------------------\n",
      "\n",
      "Retorno del portafolio\n",
      "\n",
      "---------------------------------\n",
      "0.0009661044706111623\n",
      "---------------------------------\n",
      "Retorno / Riesgo del portafolio\n",
      "---------------------------------\n",
      "0.06151388704757935\n",
      "---------------------------------\n",
      "\n"
     ]
    }
   ],
   "source": [
    "Vp, Rp = var_p(data=data,weights=[0.3,0.3,0.4],vcov=vcov)\n",
    "print(f\"\"\"\n",
    "Riesgo del portafolio\n",
    "---------------------------------\n",
    "{(Vp)**(1/2)}\n",
    "---------------------------------\n",
    "\n",
    "Retorno del portafolio\n",
    "\n",
    "---------------------------------\n",
    "{Rp}\n",
    "---------------------------------\n",
    "Retorno / Riesgo del portafolio\n",
    "---------------------------------\n",
    "{Rp/((Vp)**(1/2))}\n",
    "---------------------------------\n",
    "\"\"\")"
   ]
  },
  {
   "cell_type": "markdown",
   "id": "c3dd0986",
   "metadata": {},
   "source": [
    "## Análisis Retorno / Riesgo N portafolios y frontera eficiente de Markowitz\n",
    "\n",
    "El conjunto de todos los N portafolios eficientes desarrolla una curva en el espacio media-varianza llamada \"frontera eficiente\""
   ]
  },
  {
   "cell_type": "code",
   "execution_count": 8,
   "id": "103b6619",
   "metadata": {},
   "outputs": [],
   "source": [
    "# 1 = w1 + w2 + w3\n",
    "weights = np.random.dirichlet(np.ones(3),size=100)\n",
    "RR = []\n",
    "for weight in weights:\n",
    "    Vp, Rp = var_p(data=data,weights=weight,vcov=vcov)\n",
    "    RR.append(((Vp)**(1/2),Rp))"
   ]
  },
  {
   "cell_type": "code",
   "execution_count": 9,
   "id": "da931ace",
   "metadata": {},
   "outputs": [
    {
     "data": {
      "image/png": "[encoded data removed]",
      "text/plain": [
       "<Figure size 720x504 with 1 Axes>"
      ]
     },
     "metadata": {},
     "output_type": "display_data"
    }
   ],
   "source": [
    "argmin = RR[np.argmin([i[0] for i in RR])]\n",
    "fig = plt.figure(figsize=(10,7))\n",
    "plt.scatter(x=[i[0] for i in RR], y = [i[1] for i in RR])\n",
    "plt.scatter(x=argmin[0],y=argmin[1],color=\"salmon\")\n",
    "plt.annotate(\"Portafolio de mínima varianza\",xy=(argmin[0],argmin[1]),xytext =(argmin[0]+0.0030, argmin[1]+0.0001), \n",
    "            arrowprops = dict(facecolor ='salmon',shrink = 0.05))\n",
    "plt.title(\"Análisis Retorno / Riesgo de 100 portafolios\")\n",
    "plt.xlabel(\"Riesgo\")\n",
    "plt.ylabel(\"Retorno\")\n",
    "plt.show()"
   ]
  },
  {
   "cell_type": "markdown",
   "id": "c7832597",
   "metadata": {},
   "source": [
    "## Líneas de Isocuantas (Isomean) caso 2 activos"
   ]
  },
  {
   "cell_type": "code",
   "execution_count": 10,
   "id": "00ce6874",
   "metadata": {},
   "outputs": [],
   "source": [
    "data = load_data(symbols=['TSLA','BAC'],start=\"2021-02-01\", end=\"2022-02-01\",plot=False)"
   ]
  },
  {
   "cell_type": "markdown",
   "id": "c7b446b3",
   "metadata": {},
   "source": [
    "Despejando $w_{2}$ de 3.1 obtenemos\n",
    "\n",
    "\\begin{align}\n",
    "w_{2} &= \\frac{E(r_{p})}{E(r_{2})} - \\frac{E(r_{1})}{E(r_{2})}w_{1}  \\owntag{4.1} \\\\\n",
    "\\end{align}\n",
    "\n",
    "Donde $w_{1}$, $w_{2}$ y $E(r_{p})$ son tres variables enódgenas desconocidas y $E(r_{1})$ $E(r_{2})$ son dos variables exógenas conocidas Existen infinitas combinaciones de $w_{1}$ y $w_{2}$ que permiten alcanzar un mismo nivel de retorno esperado $E(r_{p})$. Por tanto, existen infinitas líneas como combinaciones de $w_{1}$ y $w_{2}$ para un mismo retorno de portafolio dado."
   ]
  },
  {
   "cell_type": "code",
   "execution_count": 11,
   "id": "4a10de31",
   "metadata": {},
   "outputs": [
    {
     "name": "stderr",
     "output_type": "stream",
     "text": [
      "C:\\Users\\Laptop\\AppData\\Local\\Temp\\ipykernel_4648\\3400882454.py:6: RuntimeWarning: invalid value encountered in true_divide\n",
      "  w2 = (E_rp/E_r2) - (E_r1/E_r2)*w1\n"
     ]
    }
   ],
   "source": [
    "# Vamos a supones E(r_{p}) conocido\n",
    "E_rp = np.arange(0,1,0.01)\n",
    "E_r1 = np.arange(0,1,0.01)\n",
    "E_r2 = np.arange(0,1,0.01)\n",
    "w1 = np.arange(0,1,0.01)\n",
    "w2 = (E_rp/E_r2) - (E_r1/E_r2)*w1"
   ]
  },
  {
   "cell_type": "markdown",
   "id": "8f480cb0",
   "metadata": {},
   "source": [
    "## Líneas de isovariance caso 2 activos"
   ]
  },
  {
   "cell_type": "markdown",
   "id": "276c6825",
   "metadata": {},
   "source": [
    "de 3.5 sabemos que $\\sigma_{p}^{2} = w_{1}^{2}\\sigma_{1}^{2} + w_{2}^{2}\\sigma_{2}^{2} + 2w_{1}w_{2}\\sigma_{1,2}$"
   ]
  },
  {
   "cell_type": "code",
   "execution_count": 12,
   "id": "e77658dd",
   "metadata": {},
   "outputs": [],
   "source": [
    "sigma_p2 = w1*np.var(data['TSLA']) + w2*np.var(data['BAC']) + 2*w1*w2*data.cov().iloc[1,1]"
   ]
  },
  {
   "cell_type": "code",
   "execution_count": 13,
   "id": "00541555",
   "metadata": {},
   "outputs": [
    {
     "data": {
      "image/png": "[encoded data removed]",
      "text/plain": [
       "<Figure size 720x504 with 1 Axes>"
      ]
     },
     "metadata": {},
     "output_type": "display_data"
    }
   ],
   "source": [
    "import numpy as np\n",
    "from matplotlib import pyplot as plt\n",
    "from math import pi\n",
    "\n",
    "fig = plt.figure(figsize=(10,7))\n",
    "\n",
    "for sigmap in sigma_p2[1:4]:\n",
    "    u=0     #x-position of the center\n",
    "    v=0    #y-position of the center\n",
    "    a=sigmap*3000    #radius on the x-axis\n",
    "    b=sigmap*3000    #radius on the y-axis\n",
    "    t = np.linspace(0, 2*pi, 100)\n",
    "    plt.plot( u+a*np.cos(t) , v+b*np.sin(t),color=\"skyblue\")\n",
    "\n",
    "plt.plot(w1,w2, color=\"salmon\")\n",
    "plt.axhline(0,color=\"grey\")\n",
    "plt.axvline(0,color=\"grey\")\n",
    "plt.show()"
   ]
  },
  {
   "cell_type": "markdown",
   "id": "23e585ce",
   "metadata": {},
   "source": [
    "# Diversificación de Markowitz"
   ]
  },
  {
   "cell_type": "markdown",
   "id": "43576659",
   "metadata": {},
   "source": [
    "### Supuestos del modelo\n",
    " + No hay ventas en corto"
   ]
  },
  {
   "cell_type": "markdown",
   "id": "8c348f19",
   "metadata": {},
   "source": [
    "## Cálculo de los pesos w"
   ]
  },
  {
   "cell_type": "markdown",
   "id": "16458f96",
   "metadata": {},
   "source": [
    "Para obtener el valor exacto de w1 y w2, que me permiten obtener el portafolio de mínimza varianza igualamos a 0 la derivada de la varianza del portafolio $\\sigma_{p}^{2}$\n",
    "\n",
    "\n",
    "\\begin{align}\n",
    "0=\\frac{\\partial{\\sigma_{p}^{2}}}{\\partial{w_{1}}} &= \\frac{\\partial{}}{\\partial{w_{1}}} [w_{1}^{2}\\sigma_{1}^{2}+(1-w_{1})^{2}\\sigma_{2}^{2}+2w_{1}(1-w_{1})\\sigma_{1,2}]  \\owntag{5.1} \\\\\n",
    "&= 2w_{1}\\sigma_{1}^{2}-2(1-w_{1})^{2}\\sigma_{2}^{2} + 2(1-2w_{1})\\sigma_{1,2}\\\\\n",
    "w_{1}&=\\frac{\\sigma_{2}^{2}-\\sigma_{1,2}}{\\sigma_{1}^{2}+\\sigma_{2}^{2}-2\\sigma_{1,2}}\\\\\n",
    "w_{2}&= 1-w_{1}\n",
    "\\end{align}"
   ]
  },
  {
   "cell_type": "markdown",
   "id": "f5493778",
   "metadata": {},
   "source": [
    "## Diversificación\n",
    "\n",
    "En el sentido de Markowtiz, cuanto menor sea la correlación de los activos de una cartera, menos reisgosa será esa cartera. Por el contrario, cuanto más se acerca a $+1$ la correlación de los activos, más riesgosa será la cartera; veamos.\n",
    "\n",
    " + $E(r_{1}) = 0.05$ , $E(r_{2}) = 0.15$\n",
    " + $\\sigma_{1}=0.20$ , $\\sigma_{2}=0.40$\n",
    " + $w_{1mvp} = 2/3$ , $w_{1mvp} = 1/3$"
   ]
  },
  {
   "cell_type": "code",
   "execution_count": 14,
   "id": "0e6bd418",
   "metadata": {},
   "outputs": [],
   "source": [
    "E_r1 = 0.05\n",
    "E_r2 = 0.15\n",
    "sigma_1 = 0.2\n",
    "sigma_2 = 0.4\n",
    "w1 = 2/3\n",
    "w2 = 1/3"
   ]
  },
  {
   "cell_type": "code",
   "execution_count": 15,
   "id": "2cc4057f",
   "metadata": {},
   "outputs": [],
   "source": [
    "E_rp = w1*E_r1 + w2*E_r2\n",
    "sigma_p1m = (w1**2)*(sigma_1)**2+(w2**2)*(sigma_2**2)\n",
    "sigma_p2m = 2*((2/3)*(1/3))*(0.2)*(0.4)"
   ]
  },
  {
   "cell_type": "code",
   "execution_count": 16,
   "id": "0fff2a4f",
   "metadata": {},
   "outputs": [
    {
     "name": "stdout",
     "output_type": "stream",
     "text": [
      "Si el coeficiente de correlación es 1, entonces la varianza del portafolio es \n",
      " 0.2667 \n",
      "\n",
      "Si el coeficiente de correlación es 0, entonces la varianza del portafolio es \n",
      " 0.1886 \n",
      "\n",
      "Si el coeficiente de correlación es -1, entonces la varianza del portafolio es \n",
      " 0.0 \n",
      "\n"
     ]
    }
   ],
   "source": [
    "rho = [1,0,-1]\n",
    "for r in rho:\n",
    "    print(f\"Si el coeficiente de correlación es {r}, entonces la varianza del portafolio es\",\"\\n\",\n",
    "          round((sigma_p1m+(sigma_p2m*r))**(1/2),4),\"\\n\")"
   ]
  },
  {
   "cell_type": "markdown",
   "id": "e92f0b15",
   "metadata": {},
   "source": []
  },
  {
   "cell_type": "markdown",
   "id": "923c71a7",
   "metadata": {},
   "source": [
    "# Modelo media varianza MV"
   ]
  },
  {
   "cell_type": "markdown",
   "id": "9a8468f8",
   "metadata": {},
   "source": [
    "## Ejercicio pre-parcial"
   ]
  },
  {
   "cell_type": "code",
   "execution_count": 21,
   "id": "85390e92",
   "metadata": {},
   "outputs": [],
   "source": [
    "# symbols = [\"TSLA\",\"BAC\",\"MA\",\"KO\",\"F\"]\n",
    "# # data = load_data(symbols=symbols, start='2011-02-01', end=\"2022-02-01\",plot=False)\n",
    "# data = pd.DataFrame({})\n",
    "# for symbol in symbols:\n",
    "#     data_temp = yf.download(symbol, start='2011-01-02', end='2022-01-02',progress=False)\n",
    "#     data_temp = data_temp[['Adj Close']]\n",
    "#     data = pd.concat([data,data_temp],axis=1)\n",
    "# data.columns=symbols\n",
    "\n",
    "# data = data.resample(\"M\").last()"
   ]
  },
  {
   "cell_type": "code",
   "execution_count": 22,
   "id": "cef0bc87",
   "metadata": {},
   "outputs": [
    {
     "data": {
      "image/png": "[encoded data removed]",
      "text/plain": [
       "<Figure size 720x504 with 1 Axes>"
      ]
     },
     "metadata": {},
     "output_type": "display_data"
    }
   ],
   "source": [
    "# data.plot(figsize=(10,7))\n",
    "# plt.show()"
   ]
  },
  {
   "cell_type": "code",
   "execution_count": 62,
   "id": "bb1ba247",
   "metadata": {},
   "outputs": [],
   "source": [
    "# data = load_data(symbols=[\"TSLA\",\"BAC\",\"MA\",\"KO\",\"F\"], start='2011-02-01',end='2022-02-01',plot=True)\n",
    "# data = np.log(data) - np.log(data.shift(1))\n",
    "# data = data.dropna()"
   ]
  },
  {
   "cell_type": "code",
   "execution_count": 6,
   "id": "a759f65a",
   "metadata": {},
   "outputs": [],
   "source": [
    "data = pd.read_excel(\"retornos.xlsx\")"
   ]
  },
  {
   "cell_type": "code",
   "execution_count": 8,
   "id": "52fa31e3",
   "metadata": {},
   "outputs": [],
   "source": [
    "# matriz de varianzas y covarianzas\n",
    "vcov, corr = np.matrix(data.cov()) , np.matrix(data.corr())\n",
    "\n",
    "# retorno esperado de los activos\n",
    "E_ri = data.agg(np.mean)\n",
    "\n",
    "# varianza y desviación estándar de los activos\n",
    "var_i = np.diag(vcov)\n",
    "sigma_i = np.sqrt(var_i)"
   ]
  },
  {
   "cell_type": "markdown",
   "id": "d9a80ac0",
   "metadata": {},
   "source": [
    "### Construcción de los portafolios óptimos"
   ]
  },
  {
   "cell_type": "code",
   "execution_count": 9,
   "id": "9260abce",
   "metadata": {},
   "outputs": [],
   "source": [
    "n = len(E_ri)\n",
    "ones = np.ones(n)\n",
    "x = np.transpose(E_ri) @ np.linalg.inv(vcov) @ E_ri\n",
    "y = np.transpose(E_ri) @ np.linalg.inv(vcov) @ ones\n",
    "z = np.transpose(ones) @ np.linalg.inv(vcov) @ ones\n",
    "d = x*z - y**2"
   ]
  },
  {
   "cell_type": "code",
   "execution_count": 10,
   "id": "91f85a4f",
   "metadata": {},
   "outputs": [],
   "source": [
    "g = (np.linalg.solve(vcov,ones) * np.array(x)-np.linalg.solve(vcov,E_ri)*np.array(y)) * 1/d\n",
    "h = (np.linalg.solve(vcov,E_ri) * np.array(z)-np.linalg.solve(vcov,ones)*np.array(y)) * 1/d"
   ]
  },
  {
   "cell_type": "code",
   "execution_count": 11,
   "id": "76729fc4",
   "metadata": {},
   "outputs": [],
   "source": [
    "Rp = np.linspace(start=np.min(E_ri), stop=np.max(E_ri),num=1000)\n",
    "wpo = np.zeros((1000,n))\n",
    "sigmapo = np.zeros(1000)\n",
    "rpo = np.zeros(1000)"
   ]
  },
  {
   "cell_type": "code",
   "execution_count": 12,
   "id": "5fe01889",
   "metadata": {},
   "outputs": [],
   "source": [
    "for i in range(1,1000):\n",
    "    wi = g+h*Rp[i]\n",
    "    sigmapo[i] = np.sqrt(wi@vcov@np.transpose(wi))\n",
    "    rpo[i] = wi @ E_ri\n",
    "    wpo[i] = wi"
   ]
  },
  {
   "cell_type": "markdown",
   "id": "12903e43",
   "metadata": {},
   "source": [
    "### Portafolio de mínima varianza\n"
   ]
  },
  {
   "cell_type": "code",
   "execution_count": 13,
   "id": "742c530c",
   "metadata": {},
   "outputs": [],
   "source": [
    "wpmv = np.linalg.solve(vcov,ones) * 1/z\n",
    "rpmv = wpmv @ E_ri\n",
    "sigmapmv = np.sqrt(wpmv@vcov@np.transpose(wpmv))"
   ]
  },
  {
   "cell_type": "code",
   "execution_count": 14,
   "id": "3b8a5049",
   "metadata": {},
   "outputs": [
    {
     "data": {
      "image/png": "[encoded data removed]",
      "text/plain": [
       "<Figure size 720x504 with 1 Axes>"
      ]
     },
     "metadata": {},
     "output_type": "display_data"
    }
   ],
   "source": [
    "fig_pmv = plt.figure(figsize=(10,7))\n",
    "plt.scatter(sigma_i,E_ri, color=\"blue\")\n",
    "plt.scatter(sigmapo,rpo,color=\"skyblue\",s=8)\n",
    "plt.scatter(sigmapmv[0,0],rpmv[0], color=\"salmon\", s=100)\n",
    "plt.annotate(\"PMV\",xy=(sigmapmv[0,0],rpmv[0]),xytext =(sigmapmv[0,0]-0.010, rpmv[0]))\n",
    "plt.show()"
   ]
  },
  {
   "cell_type": "code",
   "execution_count": 20,
   "id": "b77d2660",
   "metadata": {},
   "outputs": [],
   "source": [
    "def PMV(data):\n",
    "    # data = load_data(symbols=symbols, start='2011-02-01',end='2022-02-01',plot=True)\n",
    "#     data = np.log(data) - np.log(data.shift(1))\n",
    "#     data = data.dropna()\n",
    "    # matriz de varianzas y covarianzas\n",
    "    vcov, corr = np.matrix(data.cov()) , np.matrix(data.corr())\n",
    "\n",
    "    # retorno esperado de los activos\n",
    "    E_ri = data.agg(np.mean)\n",
    "\n",
    "    # varianza y desviación estándar de los activos\n",
    "    var_i = np.diag(vcov)\n",
    "    sigma_i = np.sqrt(var_i)\n",
    "\n",
    "    n = len(E_ri)\n",
    "    ones = np.ones(n)\n",
    "    x = np.transpose(E_ri) @ np.linalg.inv(vcov) @ E_ri\n",
    "    y = np.transpose(E_ri) @ np.linalg.inv(vcov) @ ones\n",
    "    z = np.transpose(ones) @ np.linalg.inv(vcov) @ ones\n",
    "    d = x*z - y**2\n",
    "\n",
    "    g = (np.linalg.solve(vcov,ones) * np.array(x)-np.linalg.solve(vcov,E_ri)*np.array(y)) * 1/d\n",
    "    h = (np.linalg.solve(vcov,E_ri) * np.array(z)-np.linalg.solve(vcov,ones)*np.array(y)) * 1/d\n",
    "\n",
    "    Rp = np.linspace(start=np.min(E_ri), stop=np.max(E_ri),num=1000)\n",
    "    wpo = np.zeros((1000,n))\n",
    "    sigmapo = np.zeros(1000)\n",
    "    rpo = np.zeros(1000)\n",
    "\n",
    "    wpmv = np.linalg.solve(vcov,ones) * 1/z\n",
    "    rpmv = wpmv @ E_ri\n",
    "    sigmapmv = np.sqrt(wpmv@vcov@np.transpose(wpmv))\n",
    "\n",
    "    return wpmv, rpmv, sigmapmv"
   ]
  },
  {
   "cell_type": "code",
   "execution_count": 37,
   "id": "fd82ddb0",
   "metadata": {},
   "outputs": [],
   "source": [
    "wpmv , rpmv , spmv = PMV(data=data)"
   ]
  },
  {
   "cell_type": "code",
   "execution_count": 38,
   "id": "373b618b",
   "metadata": {},
   "outputs": [
    {
     "name": "stdout",
     "output_type": "stream",
     "text": [
      "\n",
      "Pesos del portafolio de mínima varianza\n",
      "[[0.10502964 0.42774931 0.46722105]]\n",
      "----------------------------------------\n",
      "Retorno del portafolio de mínima varianza\n",
      "[0.01887747]\n",
      "----------------------------------------\n",
      "Variaza del portafolio de mínima varianza\n",
      "[[0.0400416]]\n",
      "\n"
     ]
    }
   ],
   "source": [
    "print(f\"\"\"\n",
    "Pesos del portafolio de mínima varianza\n",
    "{wpmv}\n",
    "----------------------------------------\n",
    "Retorno del portafolio de mínima varianza\n",
    "{rpmv}\n",
    "----------------------------------------\n",
    "Variaza del portafolio de mínima varianza\n",
    "{spmv}\n",
    "\"\"\")"
   ]
  },
  {
   "cell_type": "markdown",
   "id": "2600a3f6",
   "metadata": {},
   "source": [
    "# Teoría de Sharpe\n",
    "Maximización de la recta tangente"
   ]
  },
  {
   "cell_type": "markdown",
   "id": "88b5b598",
   "metadata": {},
   "source": [
    "## Combinación de portafolios"
   ]
  },
  {
   "cell_type": "markdown",
   "id": "154da139",
   "metadata": {},
   "source": [
    "\\begin{align}\n",
    "E(R_{q}) &= \\alpha E(r_{p_{1}}) + (1-\\alpha)E(r_{p_{2}}) \\owntag{7.1}\\\\\n",
    "\\end{align}\n",
    "\n",
    "Los pesos se determinan como\n",
    "\n",
    "\\begin{align}\n",
    "w_{q} &= \\alpha w_{p_{1}} + (a-\\alpha)w_{p_{2}}\\\\\n",
    "      &= \\alpha[g+hE(r_{p_{1}})]+(1-\\alpha)[g+hE(r_{p_{2}})]\\\\\n",
    "      &= g + hE(r_{p_{q}})\n",
    "\\end{align}"
   ]
  },
  {
   "cell_type": "markdown",
   "id": "3c4d6c2e",
   "metadata": {},
   "source": [
    "## Frontera eficiente con el activo libre de riesgo\n",
    "Dado un activo libre de riesgo su rendimiento está dado por una tasa libre de riesgo $r_{f}$ \n",
    "\n",
    "Partiendo del problema de minimización de la varianza \n",
    "\n",
    "\\begin{align}\n",
    "min & Var(r_{p_{q}})\n",
    "\\end{align}"
   ]
  },
  {
   "cell_type": "code",
   "execution_count": 21,
   "id": "a0b82408",
   "metadata": {},
   "outputs": [],
   "source": [
    "# symbols = [\"TSLA\",\"BAC\",\"MA\",\"KO\",\"F\"]\n",
    "# # data = load_data(symbols=symbols, start='2011-02-01', end=\"2022-02-01\",plot=False)\n",
    "# data = pd.DataFrame({})\n",
    "# for symbol in symbols:\n",
    "#     data_temp = yf.download(symbol, start='2011-01-02', end='2022-01-02',progress=False)\n",
    "#     data_temp = data_temp[['Adj Close']]\n",
    "#     data = pd.concat([data,data_temp],axis=1)\n",
    "# data.columns=symbols\n",
    "\n",
    "# data = data.resample(\"M\").last()\n",
    "data = pd.read_excel(\"retornos.xlsx\")\n",
    "wpmv , rpmv , spmv = PMV(data=data)"
   ]
  },
  {
   "cell_type": "code",
   "execution_count": 23,
   "id": "009366c9",
   "metadata": {},
   "outputs": [
    {
     "data": {
      "image/png": "[encoded data removed]",
      "text/plain": [
       "<Figure size 720x504 with 1 Axes>"
      ]
     },
     "metadata": {},
     "output_type": "display_data"
    }
   ],
   "source": [
    "fig = plt.figure(figsize=(10,7))\n",
    "plt.bar([\"TSLA\",\"BAC\",\"MA\",\"KO\",\"F\"],np.squeeze(np.asarray(wpmv)))\n",
    "plt.show()"
   ]
  },
  {
   "cell_type": "code",
   "execution_count": 24,
   "id": "ca6d77ab",
   "metadata": {},
   "outputs": [],
   "source": [
    "#Retornos esperados\n",
    "E_ri = data.agg(np.average)\n",
    "\n",
    "#Matriz de covarianzas\n",
    "cov = np.matrix(data.cov())\n",
    "\n",
    "#rf\n",
    "rf = 0\n",
    "er = E_ri - rf\n",
    "\n",
    "#zi\n",
    "zi = np.linalg.solve(cov,er)\n",
    "\n",
    "#wpt\n",
    "wpt = zi/sum(zi)\n",
    "\n",
    "#rpt\n",
    "rpt = wpt @ E_ri\n",
    "\n",
    "#sigmapt\n",
    "sigmapt = np.sqrt(wpt@cov@np.transpose(wpt))"
   ]
  },
  {
   "cell_type": "code",
   "execution_count": 25,
   "id": "cf6ed79b",
   "metadata": {},
   "outputs": [
    {
     "data": {
      "text/plain": [
       "matrix([[0.07160511]])"
      ]
     },
     "execution_count": 25,
     "metadata": {},
     "output_type": "execute_result"
    }
   ],
   "source": [
    "sigmapt"
   ]
  },
  {
   "cell_type": "code",
   "execution_count": 27,
   "id": "3f58d420",
   "metadata": {},
   "outputs": [
    {
     "data": {
      "image/png": "[encoded data removed]",
      "text/plain": [
       "<Figure size 720x504 with 1 Axes>"
      ]
     },
     "metadata": {},
     "output_type": "display_data"
    }
   ],
   "source": [
    "fig = plt.figure(figsize=(10,7))\n",
    "plt.bar([\"TSLA\",\"BAC\",\"MA\",\"KO\",\"F\"],wpt)\n",
    "plt.show()"
   ]
  },
  {
   "cell_type": "markdown",
   "id": "d93c3227",
   "metadata": {},
   "source": [
    "## Coeficiente de sharpe\n",
    "\n",
    "$$\n",
    "\\frac{E(r_{p})-r_{p}}{\\sigma_{p}}\n",
    "$$\n",
    "\n",
    "Cuanta rentabilidad te está dado cada portafolio por unidad de riesgo\n",
    "\n",
    "preguntas linea 224 y 309"
   ]
  },
  {
   "cell_type": "markdown",
   "id": "64eb2dee",
   "metadata": {},
   "source": [
    "## Linea del mercado de capitales\n",
    "$$\n",
    "E(r_{p}) = r_{f} + \\frac{E(r_{p})-r_{f}}{\\sigma_{m}}\\sigma_{p}\n",
    "$$"
   ]
  },
  {
   "cell_type": "markdown",
   "id": "aa2fbe3e",
   "metadata": {},
   "source": [
    "# CAPM\n",
    "vincula un único activo en términos de una relación lineal "
   ]
  },
  {
   "cell_type": "markdown",
   "id": "f08dcb38",
   "metadata": {},
   "source": [
    "## Retorno del portafolio CAPM\n",
    "\\begin{align}\n",
    "E(r_{i}) &= r_{f} + (E(r_{m})-r_{f})\\beta_{i} \\quad \\text{;} \\quad \\beta_{i} = \\frac{\\sigma_{p}}{\\sigma_{m}^{2}} \\owntag{8.1a} \\\\\n",
    "E(r_{p}) &= w_{i} E(r_{i}) + (1-w_{i})E(R_{m}) \\owntag{8.1b}\n",
    "\\end{align}"
   ]
  },
  {
   "cell_type": "markdown",
   "id": "7397829a",
   "metadata": {},
   "source": [
    "## Riesgo del portafolio CAPM\n",
    "\n",
    "\\begin{align}\n",
    "\\sigma_{p} &= [w_{i}^{2}\\sigma_{i}^{2}+(1-w_{i})\\sigma_{m}^{2}+2w_{i}(1-w_{i})\\sigma_{i,m}]^{1/2} \\owntag{8.2}\n",
    "\\end{align}"
   ]
  },
  {
   "cell_type": "markdown",
   "id": "c4354f44",
   "metadata": {},
   "source": [
    "## Beta del CAPM\n",
    "de 8.1a y 8.2, derivando respecto a las ponderaciones obtenemos\n",
    "\n",
    "\\begin{align}\n",
    "\\frac{dE(r_{p})}{d w_{i}} &= E(r_{i}) - E(r_{m}) \\owntag{8.3}\\\\\n",
    "\\frac{d\\sigma_{p}}{dw_{i}} &= \\frac{[w_{i}\\sigma_{i}^{2}-(1-w_{i})\\sigma_{m}^{2}+(1-2w_{i})\\sigma_{im}]}{\\sigma_{p}}\n",
    "\\end{align}\n",
    "\n",
    "Haciendo el cociente entre 8.3a y 8.3b y evaluado en $w_{i}=0$ obtenemos\n",
    "\\begin{align}\n",
    "\\beta = \\frac{dE(r_{p})}{d\\sigma_{p}}|_{w_{i}=0}\n",
    "\\end{align}"
   ]
  }
 ],
 "metadata": {
  "kernelspec": {
   "display_name": "Python 3 (ipykernel)",
   "language": "python",
   "name": "python3"
  },
  "language_info": {
   "codemirror_mode": {
    "name": "ipython",
    "version": 3
   },
   "file_extension": ".py",
   "mimetype": "text/x-python",
   "name": "python",
   "nbconvert_exporter": "python",
   "pygments_lexer": "ipython3",
   "version": "3.8.5"
  },
  "toc": {
   "base_numbering": 1,
   "nav_menu": {},
   "number_sections": true,
   "sideBar": true,
   "skip_h1_title": false,
   "title_cell": "Table of Contents",
   "title_sidebar": "Contents",
   "toc_cell": false,
   "toc_position": {
    "height": "calc(100% - 180px)",
    "left": "10px",
    "top": "150px",
    "width": "303.837px"
   },
   "toc_section_display": true,
   "toc_window_display": true
  },
  "varInspector": {
   "cols": {
    "lenName": 16,
    "lenType": 16,
    "lenVar": 40
   },
   "kernels_config": {
    "python": {
     "delete_cmd_postfix": "",
     "delete_cmd_prefix": "del ",
     "library": "var_list.py",
     "varRefreshCmd": "print(var_dic_list())"
    },
    "r": {
     "delete_cmd_postfix": ") ",
     "delete_cmd_prefix": "rm(",
     "library": "var_list.r",
     "varRefreshCmd": "cat(var_dic_list()) "
    }
   },
   "types_to_exclude": [
    "module",
    "function",
    "builtin_function_or_method",
    "instance",
    "_Feature"
   ],
   "window_display": false
  }
 },
 "nbformat": 4,
 "nbformat_minor": 5
}
